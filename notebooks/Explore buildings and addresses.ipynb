{
 "cells": [
  {
   "cell_type": "code",
   "execution_count": 1,
   "metadata": {
    "collapsed": true
   },
   "outputs": [],
   "source": [
    "# Allow to import without installing\n",
    "import sys\n",
    "sys.path.insert(0, \"..\")"
   ]
  },
  {
   "cell_type": "markdown",
   "metadata": {},
   "source": [
    "# Buildings / Addresses\n",
    "\n",
    "I want to understand how buildings and addresses are represented in OSM data.\n",
    "\n",
    "Required reading: http://wiki.openstreetmap.org/wiki/Addresses\n",
    "\n"
   ]
  },
  {
   "cell_type": "code",
   "execution_count": 2,
   "metadata": {
    "collapsed": true
   },
   "outputs": [],
   "source": [
    "import osmdigest.digest as digest"
   ]
  },
  {
   "cell_type": "markdown",
   "metadata": {},
   "source": [
    "# Nodes tagged as buildings / with addresses\n",
    "\n",
    "For the Isle of Wight dataset, there are rather few nodes tagged as buildings.  There are quite a few more nodes which have address information, however."
   ]
  },
  {
   "cell_type": "code",
   "execution_count": 3,
   "metadata": {
    "collapsed": false
   },
   "outputs": [],
   "source": [
    "import os\n",
    "filename = os.path.join(\"//media\", \"disk\", \"OSM_Data\", \"isle-of-wight-latest.osm.xz\")"
   ]
  },
  {
   "cell_type": "code",
   "execution_count": 4,
   "metadata": {
    "collapsed": false
   },
   "outputs": [],
   "source": [
    "building_node_ids = []\n",
    "addr_node_ids = []\n",
    "\n",
    "for x in digest.parse(filename):\n",
    "    if isinstance(x, digest.Node):\n",
    "        if \"building\" in x.tags:\n",
    "            building_node_ids.append(x)\n",
    "        if any(key.startswith(\"addr:\") for key in x.tags):\n",
    "            addr_node_ids.append(x)"
   ]
  },
  {
   "cell_type": "code",
   "execution_count": 5,
   "metadata": {
    "collapsed": false
   },
   "outputs": [
    {
     "data": {
      "text/plain": [
       "(39,\n",
       " [Node(38921672 @ [50.6405824,-1.360434] {'name': 'Wolverton Manor', 'building': 'manor_house', 'historic': 'manor'}),\n",
       "  Node(691207722 @ [50.6773251,-1.495855] {'name': 'Tollgate House', 'building': 'house', 'addr:city': 'Afton', 'addr:street': 'Wilmington Lane', 'addr:country': 'GB', 'addr:housename': 'Tollgate House'}),\n",
       "  Node(718782298 @ [50.6829817,-1.418304] {'name': 'Freedom Farm', 'building': 'yes'}),\n",
       "  Node(765755120 @ [50.6921583,-1.5315236] {'building': 'farmhouse', 'addr:housename': 'Bramble Farm'}),\n",
       "  Node(829972519 @ [50.5856384,-1.2469082] {'name': 'St. Rhadagunds', 'email': 'info@strhads.co.uk', 'phone': '01983852160', 'tourism': 'hotel', 'website': 'strhads.co.uk', 'building': 'yes', 'internet_access': 'wlan'})])"
      ]
     },
     "execution_count": 5,
     "metadata": {},
     "output_type": "execute_result"
    }
   ],
   "source": [
    "len(building_node_ids), building_node_ids[:5]"
   ]
  },
  {
   "cell_type": "code",
   "execution_count": 6,
   "metadata": {
    "collapsed": false
   },
   "outputs": [
    {
     "data": {
      "text/plain": [
       "(1822,\n",
       " [Node(2383584 @ [50.7065062,-1.5006427] {'name': 'Yarmouth Quay', 'amenity': 'ferry_terminal', 'network': 'Car Ferry', 'operator': 'Wightlink', 'addr:city': 'Yarmouth', 'addr:street': 'Quay Street', 'addr:postcode': 'PO41 0PB'}),\n",
       "  Node(2387351 @ [50.6833789,-1.0956959] {'name': 'Bembridge Windmill', 'tourism': 'attraction', 'website': 'https://www.nationaltrust.org.uk/bembridge-windmill', 'man_made': 'windmill', 'operator': 'National Trust', 'addr:city': 'Bembridge', 'addr:street': 'Mill Road', 'addr:postcode': 'PO35 5SQ', 'addr:housename': 'Bembridge Windmill'}),\n",
       "  Node(2433320 @ [50.6717547,-1.5427212] {'name': 'High Down Inn', 'amenity': 'pub', 'tourism': 'bed_and_breakfast', 'website': 'http://www.highdowninn.com/', 'alt_name': 'Highdown Inn', 'addr:city': 'Totland', 'addr:street': 'Highdown Lane', 'addr:country': 'GB', 'addr:postcode': 'PO39 0HY'}),\n",
       "  Node(7227760 @ [50.7054346,-1.2146592] {'name': 'Havenstreet', 'usage': 'tourism', 'railway': 'station', 'addr:city': 'Havenstreet, near Ryde', 'addr:street': 'Main Road'}),\n",
       "  Node(8093989 @ [50.7302604,-1.1628019] {'addr:city': 'Ryde', 'addr:housenumber': '41', 'addr:postcode': 'PO33 2LF', 'addr:street': 'Union Street', 'amenity': 'pub', 'name': 'S. Fowler & Co.', 'owner': 'Wetherspoons', 'phone': '+44 1983 812112', 'source': 'survey', 'wifi': 'free'})])"
      ]
     },
     "execution_count": 6,
     "metadata": {},
     "output_type": "execute_result"
    }
   ],
   "source": [
    "len(addr_node_ids), addr_node_ids[:5]"
   ]
  },
  {
   "cell_type": "markdown",
   "metadata": {},
   "source": [
    "# Same for ways\n",
    "\n",
    "We expected buildings to mostly have a polygonal outline, and so be \"ways\".\n",
    "\n",
    "The situation here is reversed: lots of buildings, and fewer addresses.  From eyeballing a few ways which have address information, but which are not buildings, we find that the \"way\" gives the total outline of, say, a school, which may contain a number of buildings, playing fields etc."
   ]
  },
  {
   "cell_type": "code",
   "execution_count": 7,
   "metadata": {
    "collapsed": false
   },
   "outputs": [],
   "source": [
    "building_way_ids = []\n",
    "addr_way_ids = []\n",
    "\n",
    "for x in digest.parse(filename):\n",
    "    if isinstance(x, digest.Way):\n",
    "        if \"building\" in x.tags:\n",
    "            building_way_ids.append(x)\n",
    "        if any(key.startswith(\"addr:\") for key in x.tags):\n",
    "            addr_way_ids.append(x)"
   ]
  },
  {
   "cell_type": "code",
   "execution_count": 8,
   "metadata": {
    "collapsed": false
   },
   "outputs": [
    {
     "data": {
      "text/plain": [
       "(43644,\n",
       " [Way(3580387 ->  [17731291, 1812813868, 826100758, 17731290, 1812813848, 17731289, 826100762, 17731295, 1812813842, 17731294, 826100769, 17731293, 1812813861, 197678030, 826100761, 17731292, 1812813845, 17731291] {'alt_name': 'Spitsand Fort', 'alt_name:1': 'Spit Sand Fort', 'alt_name:2': 'Spit Fort', 'building': 'yes', 'castle_type': 'fortress', 'historic': 'castle', 'name': 'Spitbank Fort', 'natural': 'coastline', 'source': 'OS OpenData StreetView', 'start_date': '1867', 'tourism': 'hotel', 'wikidata': 'Q2311360', 'wikipedia': 'en:Spitbank Fort'}),\n",
       "  Way(3580388 ->  [17731299, 17731297, 1812813839, 825993194, 1812813856, 17731305, 17731304, 825993180, 1812813854, 17731303, 17731302, 1812813864, 825993155, 17731301, 17731300, 1812813852, 825993118, 1812813850, 17731299] {'building': 'yes', 'historic': 'fort', 'man_made': 'pier', 'name': 'Horse Sand Fort', 'natural': 'coastline', 'source': 'OS OpenData StreetView', 'start_date': '1865', 'wikidata': 'Q1485267', 'wikipedia': 'en:Horse Sand Fort'}),\n",
       "  Way(3580389 ->  [17731316, 3012280384, 825993175, 1812813838, 17731315, 1812813882, 17731314, 3012280382, 825993198, 3012280383, 17731312, 3012280385, 17731311, 3012280386, 825993127, 1812813833, 17731310, 1812813879, 17731308, 1812813835, 825993148, 3012280387, 17731306, 1812813840, 17731316] {'building': 'yes', 'historic': 'fort', 'name': \"No Man's Land Fort\", 'natural': 'coastline', 'source': 'OS OpenData StreetView', 'start_date': '1867', 'wikidata': 'Q7044423', 'wikipedia': \"en:No Man's Land Fort\"}),\n",
       "  Way(5032385 ->  [33695388, 33625082, 33692427, 33695389, 33695388] {'name': 'Britten Norman Aircraft Factory', 'building': 'yes'}),\n",
       "  Way(5241146 ->  [1086935675, 36882230, 36882227, 1086935597, 1086935675] {'building': 'glasshouse'})])"
      ]
     },
     "execution_count": 8,
     "metadata": {},
     "output_type": "execute_result"
    }
   ],
   "source": [
    "len(building_way_ids), building_way_ids[:5]"
   ]
  },
  {
   "cell_type": "code",
   "execution_count": 9,
   "metadata": {
    "collapsed": false
   },
   "outputs": [
    {
     "data": {
      "text/plain": [
       "(6963,\n",
       " [Way(5026852 ->  [1636613142, 1756154625, 2852765828, 1756154623, 4594616645, 4594616647, 1756154590, 1756154593, 1756154627, 2852765827, 1756154630, 1756154631, 33556615, 28837469, 2852765838, 28837470, 33556618, 33556619, 33556620, 1636613166, 2852765836, 2852774936, 1636613142] {'name': 'Christ The King College - Upper College', 'amenity': 'school', 'addr:city': 'Newport', 'addr:street': 'Wellington Road', 'addr:postcode': 'PO30 5QT'}),\n",
       "  Way(5026862 ->  [4684759642, 4684759641, 4684827409, 4684827406, 4684827399, 4684827389, 4684759640, 4684759639, 4684824588, 4684759635, 33556692, 4684759633, 4684759634, 4684824584, 4684759636, 4684824587, 1382864717, 33556694, 33556695, 2852776705, 33556696, 33556697, 33556698, 33556699, 33556700, 33556701, 33556702, 33556703, 1662247222, 2852776708, 2852776721, 1662247194, 1662247197, 1662247191, 1662247189, 1662247187, 1662247185, 4684759642] {'addr:city': 'Newport', 'addr:postcode': 'PO30 5QU', 'addr:street': 'Mountbatten Drive', 'amenity': 'school', 'name': 'Carisbrooke College', 'old_name': 'Carisbrooke High School and Sports College', 'source:name': 'OS_OpenData_Streetview'}),\n",
       "  Way(5028610 ->  [3849206039, 3849206040, 3849206041, 3234772928, 29185170, 3234772925, 33574498, 33574499, 33574500, 33574501, 33574502, 3234772953, 33574503, 33574504, 732375016, 732375014, 732375012, 3990224834, 33574532, 33574506, 3234772926, 3234772938, 3234772930, 3234772942, 3990224824, 33574507, 3990224825, 3990224822, 33574508, 33574510, 3990224813, 33574512, 1289004196, 3990228860, 3990224814, 1289004173, 3849206039] {'url': 'http://www.sandownbayacademy.org/', 'name': 'Sandown Bay Academy', 'amenity': 'school', 'addr:street': 'The Fairway', 'ref:edubase': '136751', 'addr:postcode': 'PO36 9JH'}),\n",
       "  Way(5667125 ->  [42399086, 4130695753, 4130695755, 42399060, 4130695751, 4130695749, 42399063, 42399065, 42399066, 42399068, 3206216757, 4130730324, 4130730322, 3206216756, 42399071, 4793149153, 42399072, 42399073, 42399075, 42399076, 42399077, 42399079, 42399080, 4793149154, 42399081, 42399082, 42399083, 42399084, 42399085, 42399086] {'addr:city': 'Newport', 'addr:housename': 'Robin Hill Country Park', 'addr:postcode': 'PO30 2NU', 'alt_name:en': 'Robin Hill', 'contact:phone': '+44(0)1983 527352', 'name': 'Robin Hill Country Park', 'name:en': 'Robin Hill Country Park', 'tourism': 'theme_park', 'website': 'http://www.robin-hill.com/'}),\n",
       "  Way(5721497 ->  [43145633, 1980928994, 1980928999, 1980929000, 3641440792, 1980934807, 1980934809, 43145626, 43145629, 43145631, 3641441694, 3641441700, 3641441693, 43145633] {'name': 'Bembridge CofE Primary School', 'amenity': 'school', 'addr:city': 'Bembridge', 'addr:street': 'Walls Road', 'addr:postcode': 'PO35 5RH'})])"
      ]
     },
     "execution_count": 9,
     "metadata": {},
     "output_type": "execute_result"
    }
   ],
   "source": [
    "len(addr_way_ids), addr_way_ids[:5]"
   ]
  },
  {
   "cell_type": "markdown",
   "metadata": {},
   "source": [
    "# Finally for relations\n",
    "\n",
    "Rather few.  These tend to be special cases: usually when the building is non-convex (say a stately home, with an inner courtyard) so a relation is required to specify the \"inner\" and \"outer\" ways."
   ]
  },
  {
   "cell_type": "code",
   "execution_count": 10,
   "metadata": {
    "collapsed": true
   },
   "outputs": [],
   "source": [
    "building_rel_ids = []\n",
    "addr_rel_ids = []\n",
    "\n",
    "for x in digest.parse(filename):\n",
    "    if isinstance(x, digest.Relation):\n",
    "        if \"building\" in x.tags:\n",
    "            building_rel_ids.append(x)\n",
    "        if any(key.startswith(\"addr:\") for key in x.tags):\n",
    "            addr_rel_ids.append(x)"
   ]
  },
  {
   "cell_type": "code",
   "execution_count": 11,
   "metadata": {
    "collapsed": false
   },
   "outputs": [
    {
     "data": {
      "text/plain": [
       "(33,\n",
       " [Relation(70978 ->  [Member(type='way', ref=30533570, role='outer'), Member(type='way', ref=30533571, role='inner')] {'building': 'monastery', 'community': 'OSB', 'community:en': 'benedictine', 'denomination': 'catholic', 'name': 'Quarr Abbey', 'religion': 'christian', 'type': 'multipolygon', 'website': 'http://www.quarrabbey.co.uk/'}),\n",
       "  Relation(1369783 ->  [Member(type='way', ref=94481636, role='inner'), Member(type='way', ref=35821252, role='outer'), Member(type='way', ref=94481643, role='inner'), Member(type='way', ref=94481639, role='inner'), Member(type='way', ref=94481641, role='inner'), Member(type='way', ref=94481638, role='inner')] {'type': 'multipolygon', 'building': 'yes'}),\n",
       "  Relation(1578648 ->  [Member(type='way', ref=112449476, role='inner'), Member(type='way', ref=30665632, role='outer')] {'type': 'multipolygon', 'building': 'yes'}),\n",
       "  Relation(1584149 ->  [Member(type='way', ref=19215850, role='outer'), Member(type='way', ref=113058329, role='inner')] {'building': 'yes', 'historic': 'fort', 'name': 'Golden Hill Fort', 'note': 'Under conversion to residential, was victorian fort', 'type': 'multipolygon'}),\n",
       "  Relation(1589570 ->  [Member(type='way', ref=113700258, role='inner'), Member(type='way', ref=113700249, role='outer')] {'type': 'multipolygon', 'source': 'Bing', 'building': 'yes'})])"
      ]
     },
     "execution_count": 11,
     "metadata": {},
     "output_type": "execute_result"
    }
   ],
   "source": [
    "len(building_rel_ids), building_rel_ids[:5]"
   ]
  },
  {
   "cell_type": "code",
   "execution_count": 12,
   "metadata": {
    "collapsed": false
   },
   "outputs": [
    {
     "data": {
      "text/plain": [
       "(6,\n",
       " [Relation(1593581 ->  [Member(type='way', ref=114135843, role='outer'), Member(type='way', ref=114135841, role='inner')] {'addr:city': 'Bembridge', 'addr:housename': 'Solent Landing', 'addr:postcode': 'PO35 5NZ', 'addr:street': 'Beach Road', 'building': 'residential', 'type': 'multipolygon'}),\n",
       "  Relation(1844051 ->  [Member(type='way', ref=228750548, role='outer'), Member(type='way', ref=136843896, role='inner')] {'name': 'Bugle Hotel', 'type': 'multipolygon', 'wifi': 'free', 'phone': '+44 1983 760272', 'source': 'Bing', 'amenity': 'pub', 'tourism': 'hotel', 'website': 'http://www.thebugleyarmouth.co.uk/', 'alt_name': 'The Bugle Coaching Inn', 'building': 'yes', 'addr:city': 'Yarmouth', 'addr:street': 'The Square', 'addr:postcode': 'PO41 0NS', 'addr:housename': 'Bugle Coaching Inn'}),\n",
       "  Relation(5808141 ->  [Member(type='way', ref=168129028, role='outer'), Member(type='way', ref=378172008, role='inner')] {'addr:postcode': 'PO36 0HL', 'addr:street': 'Lower Road', 'capacity:pitches': '270', 'caravans': 'yes', 'name': 'Camping & Caravanning Club (Adgestone)', 'opening_hours': 'May-Sep', 'phone': '+44 1983 403432', 'tents': 'yes', 'tourism': 'camp_site', 'type': 'multipolygon', 'website': 'http://www.campingandcaravanningclub.co.uk/campsites/uk/isleofwight/adgestone/adgestone'}),\n",
       "  Relation(5834380 ->  [Member(type='way', ref=39328539, role='outer'), Member(type='way', ref=390042809, role='inner')] {'addr:city': 'Sandown', 'addr:postcode': 'PO36 9PR', 'addr:street': 'The Fairway Lake', 'description': '18 hole Par 70', 'golf:course': '18_hole', 'golf:par': '70', 'leisure': 'golf_course', 'name': 'Shanklin & Sandown Golf Club', 'phone': '+44 1983 403217; +44 1983 404424 (Pro Shop)', 'type': 'multipolygon', 'website': 'http://www.ssgolfclub.com/'}),\n",
       "  Relation(6520669 ->  [Member(type='way', ref=405110409, role='outer'), Member(type='way', ref=438326549, role='outer')] {'name': 'West Ashey Cottages', 'type': 'multipolygon', 'landuse': 'residential', 'addr:postcode': 'PO33 4AX'})])"
      ]
     },
     "execution_count": 12,
     "metadata": {},
     "output_type": "execute_result"
    }
   ],
   "source": [
    "len(addr_rel_ids), addr_rel_ids[:5]"
   ]
  },
  {
   "cell_type": "markdown",
   "metadata": {},
   "source": [
    "# Process to a `pandas` dataframe\n",
    "\n",
    "In a separate notebook, we explore how to use geopandas to also store and manipulate geometry..."
   ]
  },
  {
   "cell_type": "code",
   "execution_count": 13,
   "metadata": {
    "collapsed": true
   },
   "outputs": [],
   "source": [
    "import numpy as np\n",
    "import pandas as pd"
   ]
  },
  {
   "cell_type": "code",
   "execution_count": 15,
   "metadata": {
    "collapsed": false
   },
   "outputs": [
    {
     "name": "stdout",
     "output_type": "stream",
     "text": [
      "OSM(version=0.6, generator=osmconvert 0.8.5, timestamp=2017-04-25 20:43:28)\n",
      "Bounds(longitude:[-1.659074,-1.0313699], latitude:[50.50555,50.80102]\n"
     ]
    },
    {
     "data": {
      "text/plain": [
       "{'addr:city',\n",
       " 'addr:country',\n",
       " 'addr:county',\n",
       " 'addr:flats',\n",
       " 'addr:floor',\n",
       " 'addr:hamlet',\n",
       " 'addr:housename',\n",
       " 'addr:housenumber',\n",
       " 'addr:inclusion',\n",
       " 'addr:interpolation',\n",
       " 'addr:name',\n",
       " 'addr:place',\n",
       " 'addr:postcode',\n",
       " 'addr:province',\n",
       " 'addr:street',\n",
       " 'addr:unit'}"
      ]
     },
     "execution_count": 15,
     "metadata": {},
     "output_type": "execute_result"
    }
   ],
   "source": [
    "gen = digest.parse(filename)\n",
    "print(next(gen))\n",
    "print(next(gen))\n",
    "\n",
    "possible_address_tags = set()\n",
    "for x in gen:\n",
    "    for key in x.tags:\n",
    "        if key.startswith(\"addr:\"):\n",
    "            possible_address_tags.add(key)\n",
    "            \n",
    "possible_address_tags"
   ]
  },
  {
   "cell_type": "code",
   "execution_count": 17,
   "metadata": {
    "collapsed": false
   },
   "outputs": [],
   "source": [
    "gen = digest.parse(filename)\n",
    "osm = next(gen)\n",
    "bounds = next(gen)\n",
    "\n",
    "address_data = { key : [] for key in possible_address_tags }\n",
    "address_data[\"osm_id\"] = []\n",
    "\n",
    "for x in gen:\n",
    "    addr = {key : x.tags[key] for key in x.tags if key.startswith(\"addr:\")}\n",
    "    if len(addr) > 0:\n",
    "        address_data[\"osm_id\"].append(x.name+\"/\"+str(x.osm_id))\n",
    "        for key in possible_address_tags:\n",
    "            if key in addr:\n",
    "                address_data[key].append(addr[key])\n",
    "            else:\n",
    "                address_data[key].append(np.nan)"
   ]
  },
  {
   "cell_type": "code",
   "execution_count": 18,
   "metadata": {
    "collapsed": false
   },
   "outputs": [
    {
     "data": {
      "text/html": [
       "<div>\n",
       "<table border=\"1\" class=\"dataframe\">\n",
       "  <thead>\n",
       "    <tr style=\"text-align: right;\">\n",
       "      <th></th>\n",
       "      <th>addr:city</th>\n",
       "      <th>addr:country</th>\n",
       "      <th>addr:county</th>\n",
       "      <th>addr:flats</th>\n",
       "      <th>addr:floor</th>\n",
       "      <th>addr:hamlet</th>\n",
       "      <th>addr:housename</th>\n",
       "      <th>addr:housenumber</th>\n",
       "      <th>addr:inclusion</th>\n",
       "      <th>addr:interpolation</th>\n",
       "      <th>addr:name</th>\n",
       "      <th>addr:place</th>\n",
       "      <th>addr:postcode</th>\n",
       "      <th>addr:province</th>\n",
       "      <th>addr:street</th>\n",
       "      <th>addr:unit</th>\n",
       "    </tr>\n",
       "    <tr>\n",
       "      <th>osm_id</th>\n",
       "      <th></th>\n",
       "      <th></th>\n",
       "      <th></th>\n",
       "      <th></th>\n",
       "      <th></th>\n",
       "      <th></th>\n",
       "      <th></th>\n",
       "      <th></th>\n",
       "      <th></th>\n",
       "      <th></th>\n",
       "      <th></th>\n",
       "      <th></th>\n",
       "      <th></th>\n",
       "      <th></th>\n",
       "      <th></th>\n",
       "      <th></th>\n",
       "    </tr>\n",
       "  </thead>\n",
       "  <tbody>\n",
       "    <tr>\n",
       "      <th>node/2383584</th>\n",
       "      <td>Yarmouth</td>\n",
       "      <td>NaN</td>\n",
       "      <td>NaN</td>\n",
       "      <td>NaN</td>\n",
       "      <td>NaN</td>\n",
       "      <td>NaN</td>\n",
       "      <td>NaN</td>\n",
       "      <td>NaN</td>\n",
       "      <td>NaN</td>\n",
       "      <td>NaN</td>\n",
       "      <td>NaN</td>\n",
       "      <td>NaN</td>\n",
       "      <td>PO41 0PB</td>\n",
       "      <td>NaN</td>\n",
       "      <td>Quay Street</td>\n",
       "      <td>NaN</td>\n",
       "    </tr>\n",
       "    <tr>\n",
       "      <th>node/2387351</th>\n",
       "      <td>Bembridge</td>\n",
       "      <td>NaN</td>\n",
       "      <td>NaN</td>\n",
       "      <td>NaN</td>\n",
       "      <td>NaN</td>\n",
       "      <td>NaN</td>\n",
       "      <td>Bembridge Windmill</td>\n",
       "      <td>NaN</td>\n",
       "      <td>NaN</td>\n",
       "      <td>NaN</td>\n",
       "      <td>NaN</td>\n",
       "      <td>NaN</td>\n",
       "      <td>PO35 5SQ</td>\n",
       "      <td>NaN</td>\n",
       "      <td>Mill Road</td>\n",
       "      <td>NaN</td>\n",
       "    </tr>\n",
       "    <tr>\n",
       "      <th>node/2433320</th>\n",
       "      <td>Totland</td>\n",
       "      <td>GB</td>\n",
       "      <td>NaN</td>\n",
       "      <td>NaN</td>\n",
       "      <td>NaN</td>\n",
       "      <td>NaN</td>\n",
       "      <td>NaN</td>\n",
       "      <td>NaN</td>\n",
       "      <td>NaN</td>\n",
       "      <td>NaN</td>\n",
       "      <td>NaN</td>\n",
       "      <td>NaN</td>\n",
       "      <td>PO39 0HY</td>\n",
       "      <td>NaN</td>\n",
       "      <td>Highdown Lane</td>\n",
       "      <td>NaN</td>\n",
       "    </tr>\n",
       "    <tr>\n",
       "      <th>node/7227760</th>\n",
       "      <td>Havenstreet, near Ryde</td>\n",
       "      <td>NaN</td>\n",
       "      <td>NaN</td>\n",
       "      <td>NaN</td>\n",
       "      <td>NaN</td>\n",
       "      <td>NaN</td>\n",
       "      <td>NaN</td>\n",
       "      <td>NaN</td>\n",
       "      <td>NaN</td>\n",
       "      <td>NaN</td>\n",
       "      <td>NaN</td>\n",
       "      <td>NaN</td>\n",
       "      <td>NaN</td>\n",
       "      <td>NaN</td>\n",
       "      <td>Main Road</td>\n",
       "      <td>NaN</td>\n",
       "    </tr>\n",
       "    <tr>\n",
       "      <th>node/8093989</th>\n",
       "      <td>Ryde</td>\n",
       "      <td>NaN</td>\n",
       "      <td>NaN</td>\n",
       "      <td>NaN</td>\n",
       "      <td>NaN</td>\n",
       "      <td>NaN</td>\n",
       "      <td>NaN</td>\n",
       "      <td>41</td>\n",
       "      <td>NaN</td>\n",
       "      <td>NaN</td>\n",
       "      <td>NaN</td>\n",
       "      <td>NaN</td>\n",
       "      <td>PO33 2LF</td>\n",
       "      <td>NaN</td>\n",
       "      <td>Union Street</td>\n",
       "      <td>NaN</td>\n",
       "    </tr>\n",
       "  </tbody>\n",
       "</table>\n",
       "</div>"
      ],
      "text/plain": [
       "                           addr:city addr:country addr:county addr:flats  \\\n",
       "osm_id                                                                     \n",
       "node/2383584                Yarmouth          NaN         NaN        NaN   \n",
       "node/2387351               Bembridge          NaN         NaN        NaN   \n",
       "node/2433320                 Totland           GB         NaN        NaN   \n",
       "node/7227760  Havenstreet, near Ryde          NaN         NaN        NaN   \n",
       "node/8093989                    Ryde          NaN         NaN        NaN   \n",
       "\n",
       "             addr:floor addr:hamlet      addr:housename addr:housenumber  \\\n",
       "osm_id                                                                     \n",
       "node/2383584        NaN         NaN                 NaN              NaN   \n",
       "node/2387351        NaN         NaN  Bembridge Windmill              NaN   \n",
       "node/2433320        NaN         NaN                 NaN              NaN   \n",
       "node/7227760        NaN         NaN                 NaN              NaN   \n",
       "node/8093989        NaN         NaN                 NaN               41   \n",
       "\n",
       "             addr:inclusion addr:interpolation addr:name addr:place  \\\n",
       "osm_id                                                                \n",
       "node/2383584            NaN                NaN       NaN        NaN   \n",
       "node/2387351            NaN                NaN       NaN        NaN   \n",
       "node/2433320            NaN                NaN       NaN        NaN   \n",
       "node/7227760            NaN                NaN       NaN        NaN   \n",
       "node/8093989            NaN                NaN       NaN        NaN   \n",
       "\n",
       "             addr:postcode addr:province    addr:street addr:unit  \n",
       "osm_id                                                             \n",
       "node/2383584      PO41 0PB           NaN    Quay Street       NaN  \n",
       "node/2387351      PO35 5SQ           NaN      Mill Road       NaN  \n",
       "node/2433320      PO39 0HY           NaN  Highdown Lane       NaN  \n",
       "node/7227760           NaN           NaN      Main Road       NaN  \n",
       "node/8093989      PO33 2LF           NaN   Union Street       NaN  "
      ]
     },
     "execution_count": 18,
     "metadata": {},
     "output_type": "execute_result"
    }
   ],
   "source": [
    "data = pd.DataFrame(address_data)\n",
    "data = data.set_index(\"osm_id\")\n",
    "data[:5]"
   ]
  },
  {
   "cell_type": "markdown",
   "metadata": {
    "collapsed": true
   },
   "source": [
    "# Do the same for USA / Chicago data\n",
    "\n",
    "Let's look at a different country, namely the state of Illinois in the USA.\n",
    "\n",
    "- Download the Illinois data, in osm.bz2 format, from http://download.geofabrik.de/north-america/us/illinois.html\n",
    "- Run the script convert_to_db.py on this file, generating \"illinois-latest.db\"\n",
    "\n",
    "We'll then load the data from the SQLite database, as this is far more memory efficient.  We'll find that we still end up with massive python data structures...\n",
    "\n",
    "The overall pattern is the same, even though the dataset is much larger.\n",
    "- Most buildings are \"ways\" and most addresses are \"ways\".\n",
    "- There are a few point addresses stored as nodes, and complicated structures (like an airforce base) are stored as relations."
   ]
  },
  {
   "cell_type": "code",
   "execution_count": 19,
   "metadata": {
    "collapsed": true
   },
   "outputs": [],
   "source": [
    "import osmdigest.sqlite as sq"
   ]
  },
  {
   "cell_type": "code",
   "execution_count": 22,
   "metadata": {
    "collapsed": false
   },
   "outputs": [],
   "source": [
    "filename = os.path.join(\"//tmp\", \"aaa\", \"illinois-latest.db\")"
   ]
  },
  {
   "cell_type": "code",
   "execution_count": 23,
   "metadata": {
    "collapsed": true
   },
   "outputs": [],
   "source": [
    "db = sq.OSM_SQLite(filename)"
   ]
  },
  {
   "cell_type": "markdown",
   "metadata": {},
   "source": [
    "## Nodes"
   ]
  },
  {
   "cell_type": "code",
   "execution_count": 24,
   "metadata": {
    "collapsed": false
   },
   "outputs": [
    {
     "data": {
      "text/plain": [
       "(2359,\n",
       " [Node(153356428 @ [40.5011471,-89.0061875] {'ele': '231', 'name': 'The Oaks', 'is_in': 'McLean,Illinois,Ill.,IL,USA', 'gnis:id': '1822565', 'building': 'apartments', 'gnis:Class': 'Populated Place', 'gnis:County': 'McLean', 'gnis:ST_num': '17', 'import_uuid': 'bb7269ee-502a-5391-8056-e3ce0e66489c', 'gnis:ST_alpha': 'IL', 'gnis:County_num': '113'}),\n",
       "  Node(153529104 @ [41.1361448,-88.8153516] {'ele': '192', 'name': 'Evans Heights Housing Project', 'is_in': 'La Salle,Illinois,Ill.,IL,USA', 'gnis:id': '1816035', 'building': 'apartments', 'gnis:Class': 'Populated Place', 'gnis:County': 'La Salle', 'gnis:ST_num': '17', 'import_uuid': 'bb7269ee-502a-5391-8056-e3ce0e66489c', 'gnis:ST_alpha': 'IL', 'gnis:County_num': '099'}),\n",
       "  Node(153579003 @ [41.1397559,-88.8417415] {'ele': '190', 'name': 'Delbert Egan Housing Project', 'is_in': 'La Salle,Illinois,Ill.,IL,USA', 'gnis:id': '1816030', 'building': 'apartments', 'gnis:Class': 'Populated Place', 'gnis:County': 'La Salle', 'gnis:ST_num': '17', 'import_uuid': 'bb7269ee-502a-5391-8056-e3ce0e66489c', 'gnis:ST_alpha': 'IL', 'gnis:County_num': '099'}),\n",
       "  Node(321556096 @ [40.7917277,-89.3624722] {'ele': '250', 'name': 'Metamora Court House State Historic Site', 'name_1': 'Metamora Courthouse', 'source': 'USGS Geonames', 'building': 'civic', 'heritage': '2', 'historic': 'courthouse', 'ref:nrhp': '78001203', 'wikidata': 'Q6823000', 'addr:city': 'Metamora', 'addr:state': 'IL', 'addr:street': 'East Partridge Street', 'addr:country': 'US', 'addr:postcode': '61548', 'gnis:reviewed': 'no', 'gnis:feature_id': '2041412', 'addr:housenumber': '113', 'gnis:county_name': 'Woodford', 'gnis:import_uuid': '57871b70-0100-4405-bb30-88b2e001a944', 'heritage:operator': 'nhrp'}),\n",
       "  Node(347159885 @ [41.9112846,-87.6348689] {'name': 'Starbucks', 'amenity': 'cafe', 'building': 'entrance', 'addr:city': 'Chicago', 'addr:state': 'IL', 'addr:street': 'West North Avenue', 'addr:country': 'US', 'addr:postcode': '60610', 'addr:housenumber': '210'})])"
      ]
     },
     "execution_count": 24,
     "metadata": {},
     "output_type": "execute_result"
    }
   ],
   "source": [
    "building_nodes = [node for node in db.nodes() if any(key.startswith(\"building\") for key in node.tags)]\n",
    "len(building_nodes), building_nodes[:5]"
   ]
  },
  {
   "cell_type": "code",
   "execution_count": 25,
   "metadata": {
    "collapsed": false
   },
   "outputs": [
    {
     "data": {
      "text/plain": [
       "(25570,\n",
       " [Node(153632538 @ [38.0114393,-89.2361935] {'ele': '140', 'name': 'Du Quoin', 'is_in': 'Perry,Illinois,Ill.,IL,USA', 'place': 'village', 'gnis:id': '407442', 'website': 'http://duquoin.org/', 'wikipedia': 'en:Du Quoin, Illinois', 'gnis:Class': 'Populated Place', 'population': '6427', 'gnis:County': 'Perry', 'gnis:ST_num': '17', 'import_uuid': 'bb7269ee-502a-5391-8056-e3ce0e66489c', 'addr:postcode': '62832', 'gnis:ST_alpha': 'IL', 'gnis:County_num': '145', 'census:population': '6427;2006'}),\n",
       "  Node(233814226 @ [42.279127,-88.9216445] {'name': 'Centaur Drive', 'highway': 'turning_circle', 'addr:street': 'Centaur Drive'}),\n",
       "  Node(233820177 @ [42.2790679,-88.9241119] {'addr:street': 'Centaur Drive', 'addr:province': '61008'}),\n",
       "  Node(233820181 @ [42.2791024,-88.9242578] {'highway': 'turning_circle', 'addr:city': 'Belvidere', 'addr:street': 'Olympus Drive', 'addr:postcode': '61008'}),\n",
       "  Node(233858025 @ [42.2790251,-88.924224] {'addr:state': 'IL', 'addr:street': 'Olympus Drive', 'addr:postcode': '61008'})])"
      ]
     },
     "execution_count": 25,
     "metadata": {},
     "output_type": "execute_result"
    }
   ],
   "source": [
    "address_nodes = [node for node in db.nodes() if any(key.startswith(\"addr\") for key in node.tags)]\n",
    "len(address_nodes), address_nodes[:5]"
   ]
  },
  {
   "cell_type": "markdown",
   "metadata": {},
   "source": [
    "## Ways"
   ]
  },
  {
   "cell_type": "code",
   "execution_count": 26,
   "metadata": {
    "collapsed": false
   },
   "outputs": [
    {
     "data": {
      "text/plain": [
       "(1063853,\n",
       " [Way(4374907 ->  [26678161, 26678162, 4666066956, 26678163, 26678160, 26678165, 26678161] {'amenity': 'parking', 'building': 'yes', 'parking': 'multi-storey'}),\n",
       "  Way(4375988 ->  [26686573, 26686578, 26686583, 26686586, 26686591, 26686594, 26686597, 26686615, 26686617, 26686619, 26686621, 26686623, 26686625, 26686627, 26686629, 26686631, 26686633, 26686635, 2011478878, 2011478996, 2011478857, 2011478982, 2011478993, 2011478925, 2011478976, 2011478863, 2011478918, 2011478887, 2011478903, 2011478980, 2011478930, 2011478966, 2011478999, 2011478961, 2011478969, 2011478927, 26686462, 2011478867, 2011478936, 26686456, 2011478870, 2011478964, 2011478922, 2011478898, 26686469, 26686475, 26686481, 26686486, 26686492, 26686497, 26686503, 26686510, 26686515, 26686520, 26686522, 26686527, 26686532, 26686538, 26686542, 2011478892, 2011478884, 2011478984, 2011478972, 2011478862, 2011478895, 2011478987, 2011478985, 2011478859, 2011478900, 2011478955, 26686550, 2011478881, 2011478978, 2011478975, 2011478865, 2011478860, 2011478939, 2011478958, 2011479001, 2011478873, 2011479004, 2011478889, 2011478933, 2011478947, 2011478915, 2011478990, 2011478950, 2011478875, 2011478941, 2011478855, 2011478952, 2011478944, 26686555, 26686561, 26686567, 26686573] {'iata': 'ORD', 'icao': 'KORD', 'name': 'Terminal 5 - International', 'aeroway': 'terminal', 'building': 'yes', 'building:levels': '1'}),\n",
       "  Way(12412091 ->  [939903733, 939903734, 939903737, 112986634, 939903740, 939903742, 939903744, 939903746, 112986635, 939903749, 939903751, 4269213685, 112986641, 939903754, 939903756, 939903758, 939903760, 939903763, 939903765, 112986642, 4382397717, 4382397721, 4382397724, 4382397733, 4382397740, 4382397760, 112986644, 939903507, 939903508, 112986646, 4269213703, 4269213702, 4269213699, 4269213700, 112986647, 4269213694, 4269213687, 4269213689, 4269213688, 4269213690, 4269213692, 4269213693, 4269213697, 4269213696, 4269213706, 4269213707, 4269213718, 4269213710, 112986649, 112986650, 4382397784, 4382397993, 4382397998, 939903505, 939903506, 112986652, 112986653, 112986654, 112990134, 939903510, 4269213747, 4269213748, 4269213746, 939903512, 4269213741, 112990135, 1723799062, 1723799257, 4269213740, 112990136, 4269213744, 112990138, 4269213754, 4269213760, 4269213763, 4269213764, 4269213761, 4269213762, 4269213757, 4269213759, 4269213765, 4269213766, 4269213767, 4269213750, 4269213749, 4269213742, 4269213743, 4269213739, 4269213738, 4269213736, 4269213737, 4269213734, 4269213733, 4269213726, 4269213727, 4269213723, 4269213722, 365188500, 365188501, 365188502, 112990142, 939903769, 4269213711, 4269213715, 4269213716, 4269213720, 4269213729, 4269213731, 4269213732, 112990143, 4269213735, 1723798884, 1723799232, 1723799284, 1723799348, 112990145, 1723799252, 112990146, 939903770, 939903772, 112990128, 939901571, 939903728, 4269213684, 4269213683, 939901572, 939903731, 4269213679, 4269213680, 4269213675, 4269213674, 4269213673, 4269213672, 4269213668, 4269213669, 4269213665, 4269213666, 4269213664, 4269213663, 4269213661, 4269213662, 4269213658, 4269213657, 4269213655, 4269213656, 112990129, 4269213654, 4269213653, 4269213652, 4269213651, 4269213650, 4269213648, 4269213649, 4269213647, 4269213646, 939903923, 4269213641, 4269213643, 112990130, 4269213634, 112990131, 112990149, 4269213630, 4269213631, 112986630, 4269213632, 4269213633, 4269213635, 939904673, 939904674, 4269213637, 939904675, 4269213640, 4269213642, 939904676, 4269213645, 4269213644, 4269213639, 4269213638, 4269213636, 939903924, 112986631, 4269213678, 939903733] {'name': 'Midway Airport Terminal', 'layer': '1', 'aeroway': 'terminal', 'building': 'yes', 'max_level': '1', 'min_level': '0', 'addr:street': 'South Cicero Avenue', 'addr:housenumber': '5600-5800', 'addr:street:name': 'Cicero', 'addr:street:type': 'Avenue', 'addr:street:prefix': 'South', 'chicago:building_id': '827157'}),\n",
       "  Way(12412343 ->  [112992018, 1740050109, 1740050464, 1740050261, 1740050071, 1740050397, 1740050234, 1740050229, 1740049987, 1740050359, 1740050003, 1740050319, 1740050415, 1740050335, 1740050463, 1740050374, 1740049955, 1740050125, 1740049946, 1740050031, 1740050148, 1740050110, 1740050029, 1740050307, 1740050382, 1740050240, 1740050181, 1740050475, 1210044022, 112992019, 2416744122, 1741502338, 112992020, 1743802932, 1740050263, 1740050127, 1740050337, 1740049957, 1740050312, 1740050327, 1740050394, 1740050349, 1740050296, 1740050231, 1740050413, 1740050149, 1740050290, 1740050143, 1740050343, 1740050034, 1740050032, 1740050225, 1740050150, 1740050305, 1740050329, 1740050313, 1740050450, 1740050233, 1740050372, 1740050348, 1740050358, 1740050295, 1740050221, 1740049983, 1740050323, 1740050284, 365188413, 365188500, 4269213722, 4269213723, 4269213727, 4269213726, 4269213733, 4269213734, 4269213737, 4269213736, 4269213738, 4269213739, 4269213743, 4269213742, 4269213749, 4269213750, 4269213767, 4269213766, 418447542, 112992018] {'name': 'Midway Airport Parking Garage', 'amenity': 'parking', 'parking': 'multi-storey', 'building': 'yes', 'addr:street': 'South Cicero Avenue', 'addr:housenumber': '5701', 'addr:street:name': 'Cicero', 'addr:street:type': 'Avenue', 'addr:street:prefix': 'South', 'chicago:building_id': '827158'}),\n",
       "  Way(20078459 ->  [718380261, 212129155, 212129157, 212129159, 212129161, 718380262, 718380263, 212129163, 718380264, 718380265, 212129164, 718380245, 718380246, 718380266, 718380267, 718380268, 718380269, 718380270, 718380271, 718380272, 718380273, 718380274, 718380275, 718380276, 718380261] {'name': 'Saint Zachary School', 'building': 'school', 'addr:street': 'West Algonquin Road', 'gnis:created': '01/15/1980', 'gnis:state_id': '17', 'gnis:county_id': '31', 'building:levels': '2', 'gnis:feature_id': '417846', 'addr:housenumber': '567'})])"
      ]
     },
     "execution_count": 26,
     "metadata": {},
     "output_type": "execute_result"
    }
   ],
   "source": [
    "building_ways = [way for way in db.ways() if any(key.startswith(\"building\") for key in way.tags)]\n",
    "len(building_ways), building_ways[:5]"
   ]
  },
  {
   "cell_type": "code",
   "execution_count": 27,
   "metadata": {
    "collapsed": false
   },
   "outputs": [
    {
     "data": {
      "text/plain": [
       "(511096,\n",
       " [Way(5327657 ->  [37974740, 37954742, 37974742, 37946312, 37974745, 37946268, 37974747, 37961896, 37974750, 37974751, 37974753, 2804451055, 37974754, 2804539691, 2384928198, 37974756, 37974758, 2711599472, 2805236584, 2805236585, 37974762, 37974763, 3365324539, 2384927636, 37974767, 37974769, 37974771, 37974773] {'addr:postcode': '61820', 'highway': 'residential', 'is_in': 'Champaign, IL', 'maxspeed': '25 mph', 'name': 'South Sixth Street', 'oneway': 'yes', 'tiger:reviewed': 'no'}),\n",
       "  Way(5328776 ->  [37985146, 37954746, 37985149, 2366289498, 37946314, 2366289499] {'addr:postcode': '61820', 'highway': 'primary', 'lanes': '2', 'maxspeed': '30 mph', 'name': 'South Wright Street', 'ref': 'US 45;US 150', 'tiger:reviewed': 'no'}),\n",
       "  Way(5329151 ->  [38005445, 38005446, 38005448, 38005450, 38005452, 38005455, 38005457, 38005458, 38005461, 38005463, 38005465, 37965767, 38005469, 38005471, 38005472, 38005475, 37979470, 38005477, 38005478, 38005481, 38005484, 38005488, 38005489, 38005491, 38005495, 38005498, 38005500, 38005502, 38005506, 38005508, 38005511, 38005512, 38005513, 38005516, 38005519, 38005523, 38005525, 38005527, 38005528, 38005531, 38005534, 38005535, 38005536, 38005541, 37988751, 37988753, 37988758, 37988762, 37988768, 37988773, 37988775, 37988780, 37988784, 37988788, 37988792, 37988794, 37988796, 37988801] {'ref': 'IL 130', 'name': 'County Road 1600  E', 'highway': 'secondary', 'tiger:tlid': '8800469:8800750:8800510', 'tiger:source': 'tiger_import_dch_v0.6_20070809', 'addr:postcode': '61864', 'tiger:reviewed': 'no', 'tiger:upload_uuid': 'bulk_upload.pl-9d431e3e-750d-4932-bce5-cd0cfd0651ce'}),\n",
       "  Way(5329943 ->  [37997293, 37997294, 37997297, 38005010, 38005009, 38005005, 38005002, 37949624, 38005000, 38004999] {'ref': 'IL 130', 'name': 'South Lincoln Street', 'name_1': 'County Road 1600  E', 'highway': 'secondary', 'tiger:tlid': '8814868:8814878; 8800383; 8800421:8800406:8800640', 'tiger:source': 'tiger_import_dch_v0.6_20070809', 'addr:postcode': '61864', 'tiger:reviewed': 'no', 'tiger:upload_uuid': 'bulk_upload.pl-9d431e3e-750d-4932-bce5-cd0cfd0651ce'}),\n",
       "  Way(5331172 ->  [37999274, 38009718, 38009719, 38009721, 38009723, 38009725, 38009727, 38009728, 38009730, 37970446, 38009731, 38009732, 38009734, 38009736, 37986833, 38009737, 38009738, 38009741] {'name': 'Bloomington Road', 'highway': 'secondary', 'addr:postcode': '61820', 'honorary_name': 'Veterans Parkway', 'tiger:reviewed': 'no'})])"
      ]
     },
     "execution_count": 27,
     "metadata": {},
     "output_type": "execute_result"
    }
   ],
   "source": [
    "address_ways = [way for way in db.ways() if any(key.startswith(\"addr\") for key in way.tags)]\n",
    "len(address_ways), address_ways[:5]"
   ]
  },
  {
   "cell_type": "markdown",
   "metadata": {},
   "source": [
    "## Relations"
   ]
  },
  {
   "cell_type": "code",
   "execution_count": 28,
   "metadata": {
    "collapsed": false
   },
   "outputs": [
    {
     "data": {
      "text/plain": [
       "(844,\n",
       " [Relation(153529 ->  [Member(type='way', ref=35566659, role=''), Member(type='way', ref=35566905, role='inner')] {'type': 'multipolygon', 'building': 'school'}),\n",
       "  Relation(153559 ->  [Member(type='way', ref=35567371, role='outer'), Member(type='way', ref=35567372, role='inner'), Member(type='way', ref=35567373, role='inner'), Member(type='way', ref=35567374, role='inner')] {'type': 'multipolygon', 'building': 'school'}),\n",
       "  Relation(173602 ->  [Member(type='way', ref=34574316, role='outer'), Member(type='way', ref=37744533, role='inner'), Member(type='way', ref=37744565, role='inner'), Member(type='way', ref=183679094, role='inner'), Member(type='way', ref=183679085, role='inner')] {'building': 'school', 'type': 'multipolygon'}),\n",
       "  Relation(174304 ->  [Member(type='way', ref=26191075, role='outer'), Member(type='way', ref=37781465, role='inner'), Member(type='way', ref=37781606, role='inner')] {'building': 'school', 'type': 'multipolygon'}),\n",
       "  Relation(912193 ->  [Member(type='way', ref=59129147, role='outer'), Member(type='way', ref=59129084, role='inner')] {'type': 'multipolygon', 'building': 'yes'})])"
      ]
     },
     "execution_count": 28,
     "metadata": {},
     "output_type": "execute_result"
    }
   ],
   "source": [
    "building_rels = [rel for rel in db.relations() if any(key.startswith(\"building\") for key in rel.tags)]\n",
    "len(building_rels), building_rels[:5]"
   ]
  },
  {
   "cell_type": "code",
   "execution_count": 29,
   "metadata": {
    "collapsed": false
   },
   "outputs": [
    {
     "data": {
      "text/plain": [
       "(418,\n",
       " [Relation(122949 ->  [Member(type='way', ref=33833789, role='outer'), Member(type='way', ref=33833788, role='outer'), Member(type='way', ref=33833791, role='outer'), Member(type='way', ref=33833851, role='outer'), Member(type='way', ref=33833836, role='outer'), Member(type='way', ref=33833796, role='outer'), Member(type='way', ref=33833795, role='outer')] {'ele': '140', 'iata': 'BLV', 'icao': 'KBLV', 'name': 'Scott Air Force Base', 'type': 'boundary', 'is_in': 'USA, Illinois', 'source': 'TIGER/Line® 2008 Place Shapefiles (http://www.census.gov/geo/www/tiger/)', 'landuse': 'military', 'ref:faa': 'BLV', 'website': 'http://www.scott.af.mil/', 'boundary': 'administrative', 'military': 'airfield', 'wikidata': 'Q576617', 'tiger:CPI': 'N', 'wikipedia': 'en:Scott Air Force Base', 'addr:state': 'IL', 'tiger:LSAD': '57', 'tiger:NAME': 'Scott AFB', 'is_in:state': 'Illinois', 'tiger:MTFCC': 'G4210', 'gnis:created': '11/17/2008', 'is_in:country': 'USA', 'tiger:CLASSFP': 'M2', 'tiger:PCICBSA': 'N', 'tiger:PLACEFP': '68328', 'tiger:PLACENS': '02393227', 'tiger:PLCIDFP': '1768328', 'tiger:STATEFP': '17', 'tiger:FUNCSTAT': 'S', 'tiger:NAMELSAD': 'Scott AFB CDP', 'tiger:PCINECTA': 'N', 'gnis:feature_id': '2512005', 'gnis:county_name': 'St. Clair', 'is_in:iso_3166_2': 'US:IL', 'is_in:state_code': 'IL', 'gnis:feature_type': 'Military', 'is_in:country_code': 'US'}),\n",
       "  Relation(151440 ->  [Member(type='way', ref=35366687, role='outer'), Member(type='way', ref=35366688, role='inner')] {'addr:state': 'IL', 'ele': '210', 'gnis:county_name': 'Cook', 'gnis:created': '01/15/1980', 'gnis:feature_id': '410549', 'gnis:feature_type': 'Swamp', 'name': 'Horse Collar Slough', 'natural': 'water', 'NHD:ComID': '109990950', 'NHD:FCode': '39004', 'NHD:FDate': '2003/11/05', 'NHD:FTYPE': 'LakePond', 'NHD:ReachCode': '07120004008150', 'NHD:RESOLUTION': 'High', 'source': 'NHD', 'type': 'multipolygon'}),\n",
       "  Relation(1407988 ->  [Member(type='way', ref=98236779, role='outer'), Member(type='way', ref=98236773, role='inner'), Member(type='relation', ref=2083717, role='inner')] {'addr:city': 'Chicago', 'addr:country': 'US', 'addr:housenumber': '1060', 'addr:postcode': '60613', 'addr:state': 'IL', 'addr:street': 'West Addison Street', 'addr:street:name': 'Addison', 'addr:street:prefix': 'West', 'addr:street:type': 'Street', 'building': 'historic', 'chicago:building_id': '170572', 'leisure': 'stadium', 'name': 'Wrigley Field', 'name:ru': 'Ригли Филд', 'sport': 'baseball', 'type': 'multipolygon', 'wikidata': 'Q1052807', 'wikipedia': 'en:Wrigley Field'}),\n",
       "  Relation(1467696 ->  [Member(type='way', ref=103532289, role='inner'), Member(type='way', ref=103532290, role='outer'), Member(type='way', ref=103532280, role='inner')] {'addr:housenumber': '3535', 'addr:street': 'East 114th Street', 'addr:street:name': '114th', 'addr:street:prefix': 'East', 'addr:street:type': 'Street', 'building': 'school', 'chicago:building_id': '775256', 'type': 'multipolygon'}),\n",
       "  Relation(1870546 ->  [Member(type='way', ref=23891004, role='outer'), Member(type='way', ref=139013466, role='inner')] {'addr:housenumber': '111', 'addr:postcode': '60603', 'addr:street': 'South Michigan Avenue', 'addr:street:name': 'Michigan', 'addr:street:prefix': 'South', 'addr:street:type': 'Avenue', 'building': 'yes', 'chicago:building_id': '881847', 'name': 'The Art Institute of Chicago', 'tourism': 'museum', 'type': 'multipolygon', 'website': 'http://www.artic.edu/', 'wikidata': 'Q4796889', 'wikipedia': 'en:Art Institute of Chicago Building'})])"
      ]
     },
     "execution_count": 29,
     "metadata": {},
     "output_type": "execute_result"
    }
   ],
   "source": [
    "address_rels = [rel for rel in db.relations() if any(key.startswith(\"addr\") for key in rel.tags)]\n",
    "len(address_rels), address_rels[:5]"
   ]
  },
  {
   "cell_type": "code",
   "execution_count": null,
   "metadata": {
    "collapsed": true
   },
   "outputs": [],
   "source": []
  }
 ],
 "metadata": {
  "kernelspec": {
   "display_name": "Python 3",
   "language": "python",
   "name": "python3"
  },
  "language_info": {
   "codemirror_mode": {
    "name": "ipython",
    "version": 3
   },
   "file_extension": ".py",
   "mimetype": "text/x-python",
   "name": "python",
   "nbconvert_exporter": "python",
   "pygments_lexer": "ipython3",
   "version": "3.6.0"
  }
 },
 "nbformat": 4,
 "nbformat_minor": 2
}
