{
 "cells": [
  {
   "cell_type": "code",
   "execution_count": 1,
   "metadata": {
    "collapsed": false
   },
   "outputs": [],
   "source": [
    "# Allow to import without installing\n",
    "import sys\n",
    "sys.path.insert(0, \"..\")"
   ]
  },
  {
   "cell_type": "markdown",
   "metadata": {},
   "source": [
    "# Example files\n",
    "\n",
    "These are downloaded from http://download.geofabrik.de/ which offers snapshots of various parts of the planet in a variety of formats.\n",
    "\n",
    "I have found that \"xz\" offers better compression that bzip2.  Linux users can install the \"xz\" package, or on Windows, use 7zip.  Python itself can easily recompress a file.\n",
    "\n",
    "The examples below use the data, in uncompressed format, for the Isle of Wight (a small island off the south coast of England, known to me from childhood holidays).  See http://download.geofabrik.de/europe/great-britain/england.html"
   ]
  },
  {
   "cell_type": "code",
   "execution_count": 2,
   "metadata": {
    "collapsed": false
   },
   "outputs": [
    {
     "name": "stdout",
     "output_type": "stream",
     "text": [
      "<?xml version='1.0' encoding='UTF-8'?>\n",
      "<osm version=\"0.6\" generator=\"osmconvert 0.8.5\" timestamp=\"2017-04-25T20:43:28Z\">\n",
      "\t<bounds minlat=\"50.50555\" minlon=\"-1.659074\" maxlat=\"50.80102\" maxlon=\"-1.0313699\"/>\n",
      "\t<node id=\"195206\" lat=\"50.6275781\" lon=\"-1.1730057\" version=\"10\" timestamp=\"2016-03-29T12:53:40Z\" changeset=\"38143882\" uid=\"3099236\" user=\"iwhs\"/>\n"
     ]
    }
   ],
   "source": [
    "import os, lzma\n",
    "basedir = os.path.join(\"/media/disk\", \"OSM_Data\")\n",
    "#basedir = os.path.join(\"f:\\\\\", \"OSM_Data\")\n",
    "filename = \"isle-of-wight-latest.osm.xz\"\n",
    "with lzma.open(os.path.join(basedir, filename), mode=\"rt\", encoding=\"utf-8\") as f:\n",
    "    print(next(f), end=\"\")\n",
    "    print(next(f), end=\"\")\n",
    "    print(next(f), end=\"\")\n",
    "    print(next(f), end=\"\")"
   ]
  },
  {
   "cell_type": "markdown",
   "metadata": {},
   "source": [
    "# Look at the generated data"
   ]
  },
  {
   "cell_type": "code",
   "execution_count": 3,
   "metadata": {
    "collapsed": false
   },
   "outputs": [],
   "source": [
    "import osmdigest.detail as detail\n",
    "import datetime"
   ]
  },
  {
   "cell_type": "code",
   "execution_count": 4,
   "metadata": {
    "collapsed": false
   },
   "outputs": [
    {
     "name": "stdout",
     "output_type": "stream",
     "text": [
      "OSM(version=0.6, generator=osmconvert 0.8.5, timestamp=2017-04-25 20:43:28)\n",
      "Bounds(latitude:[50.50555,50.80102], longitude:[-1.659074,-1.0313699]\n",
      "Took 0:05:19.125741\n"
     ]
    }
   ],
   "source": [
    "possible_node_tags = set()\n",
    "possible_way_tags = set()\n",
    "possible_relation_tags = set()\n",
    "\n",
    "#with detail.Parser(os.path.join(basedir, filename)) as gen:\n",
    "start = datetime.datetime.now()\n",
    "with detail.Parser(\"isle-of-wight-latest.osm\") as gen:\n",
    "    for x in gen:\n",
    "        if isinstance(x, detail.OSM) or isinstance(x, detail.Bounds):\n",
    "            print(x)\n",
    "        elif isinstance(x, detail.Node):\n",
    "            for y in x.subobjs:\n",
    "                assert isinstance(y, detail.Tag)\n",
    "                possible_node_tags.add(y.key)\n",
    "        elif isinstance(x, detail.Way):\n",
    "            for y in x.subobjs:\n",
    "                if isinstance(y, detail.Tag):\n",
    "                    possible_way_tags.add(y.key)\n",
    "                else:\n",
    "                    assert isinstance(y, detail.NodeRef)\n",
    "        elif isinstance(x, detail.Relation):\n",
    "            for y in x.subobjs:\n",
    "                if isinstance(y, detail.Tag):\n",
    "                    possible_relation_tags.add(y.key)\n",
    "                else:\n",
    "                    assert isinstance(y, detail.Member)\n",
    "                    assert y.type in {\"way\", \"node\", \"relation\"}\n",
    "        else:\n",
    "            raise Exception(\"Should see this\")\n",
    "print(\"Took {}\".format(datetime.datetime.now()-start))"
   ]
  },
  {
   "cell_type": "code",
   "execution_count": 5,
   "metadata": {
    "collapsed": false
   },
   "outputs": [
    {
     "data": {
      "text/plain": [
       "(335, ['fixme', 'dog', 'traffic_signals', 'ford', 'email'])"
      ]
     },
     "execution_count": 5,
     "metadata": {},
     "output_type": "execute_result"
    }
   ],
   "source": [
    "len(possible_node_tags), list(possible_node_tags)[:5]"
   ]
  },
  {
   "cell_type": "code",
   "execution_count": 6,
   "metadata": {
    "collapsed": false
   },
   "outputs": [
    {
     "data": {
      "text/plain": [
       "(484,\n",
       " ['email',\n",
       "  'access:conditional',\n",
       "  'construction',\n",
       "  'opening_time',\n",
       "  'building:roof'])"
      ]
     },
     "execution_count": 6,
     "metadata": {},
     "output_type": "execute_result"
    }
   ],
   "source": [
    "len(possible_way_tags), list(possible_way_tags)[:5]"
   ]
  },
  {
   "cell_type": "code",
   "execution_count": 7,
   "metadata": {
    "collapsed": false
   },
   "outputs": [
    {
     "data": {
      "text/plain": [
       "(151, ['fixme', 'email', 'ref:nuts:3', 'junction', 'name'])"
      ]
     },
     "execution_count": 7,
     "metadata": {},
     "output_type": "execute_result"
    }
   ],
   "source": [
    "len(possible_relation_tags), list(possible_relation_tags)[:5]"
   ]
  },
  {
   "cell_type": "markdown",
   "metadata": {},
   "source": [
    "# Parse the data in a reduced way"
   ]
  },
  {
   "cell_type": "code",
   "execution_count": 8,
   "metadata": {
    "collapsed": false
   },
   "outputs": [],
   "source": [
    "import osmdigest.digest as digest"
   ]
  },
  {
   "cell_type": "code",
   "execution_count": 9,
   "metadata": {
    "collapsed": false
   },
   "outputs": [
    {
     "name": "stdout",
     "output_type": "stream",
     "text": [
      "OSM(version=0.6, generator=osmconvert 0.8.5, timestamp=2017-04-25 20:43:28)\n",
      "Bounds(latitude:[50.50555,50.80102], longitude:[-1.659074,-1.0313699]\n",
      "Took 0:05:38.765608\n"
     ]
    }
   ],
   "source": [
    "possible_node_tags = set()\n",
    "possible_way_tags = set()\n",
    "possible_relation_tags = set()\n",
    "\n",
    "start = datetime.datetime.now()\n",
    "for x in digest.parse_sax(\"isle-of-wight-latest.osm\"):\n",
    "    if isinstance(x, digest.OSM) or isinstance(x, digest.Bounds):\n",
    "        print(x)\n",
    "    elif isinstance(x, digest.Node):\n",
    "        for key in x.tags.keys():\n",
    "            possible_node_tags.add(key)\n",
    "    elif isinstance(x, digest.Way):\n",
    "        for key in x.tags.keys():\n",
    "            possible_way_tags.add(key)\n",
    "    elif isinstance(x, digest.Relation):\n",
    "        for key in x.tags.keys():\n",
    "            possible_relation_tags.add(key)\n",
    "print(\"Took {}\".format(datetime.datetime.now()-start))"
   ]
  },
  {
   "cell_type": "code",
   "execution_count": 10,
   "metadata": {
    "collapsed": false
   },
   "outputs": [
    {
     "data": {
      "text/plain": [
       "(335, ['fixme', 'dog', 'traffic_signals', 'ford', 'email'])"
      ]
     },
     "execution_count": 10,
     "metadata": {},
     "output_type": "execute_result"
    }
   ],
   "source": [
    "len(possible_node_tags), list(possible_node_tags)[:5]"
   ]
  },
  {
   "cell_type": "code",
   "execution_count": 11,
   "metadata": {
    "collapsed": false
   },
   "outputs": [
    {
     "data": {
      "text/plain": [
       "(484,\n",
       " ['email',\n",
       "  'access:conditional',\n",
       "  'construction',\n",
       "  'opening_time',\n",
       "  'building:roof'])"
      ]
     },
     "execution_count": 11,
     "metadata": {},
     "output_type": "execute_result"
    }
   ],
   "source": [
    "len(possible_way_tags), list(possible_way_tags)[:5]"
   ]
  },
  {
   "cell_type": "code",
   "execution_count": 12,
   "metadata": {
    "collapsed": false
   },
   "outputs": [
    {
     "data": {
      "text/plain": [
       "(151, ['fixme', 'email', 'ref:nuts:3', 'junction', 'name'])"
      ]
     },
     "execution_count": 12,
     "metadata": {},
     "output_type": "execute_result"
    }
   ],
   "source": [
    "len(possible_relation_tags), list(possible_relation_tags)[:5]"
   ]
  },
  {
   "cell_type": "markdown",
   "metadata": {
    "collapsed": true
   },
   "source": [
    "## Use `xml.etree` instead\n",
    "\n",
    "A different Python standard library `xml` parser."
   ]
  },
  {
   "cell_type": "code",
   "execution_count": 13,
   "metadata": {
    "collapsed": false
   },
   "outputs": [
    {
     "name": "stdout",
     "output_type": "stream",
     "text": [
      "OSM(version=0.6, generator=osmconvert 0.8.5, timestamp=2017-04-25 20:43:28)\n",
      "Bounds(latitude:[50.50555,50.80102], longitude:[-1.659074,-1.0313699]\n",
      "Took 0:00:10.848116\n"
     ]
    }
   ],
   "source": [
    "possible_node_tags = set()\n",
    "possible_way_tags = set()\n",
    "possible_relation_tags = set()\n",
    "\n",
    "start = datetime.datetime.now()\n",
    "for x in digest.parse(\"isle-of-wight-latest.osm\"):\n",
    "    if isinstance(x, digest.OSM) or isinstance(x, digest.Bounds):\n",
    "        print(x)\n",
    "    elif isinstance(x, digest.Node):\n",
    "        for key in x.tags.keys():\n",
    "            possible_node_tags.add(key)\n",
    "    elif isinstance(x, digest.Way):\n",
    "        for key in x.tags.keys():\n",
    "            possible_way_tags.add(key)\n",
    "    elif isinstance(x, digest.Relation):\n",
    "        for key in x.tags.keys():\n",
    "            possible_relation_tags.add(key)\n",
    "print(\"Took {}\".format(datetime.datetime.now()-start))"
   ]
  },
  {
   "cell_type": "code",
   "execution_count": 14,
   "metadata": {
    "collapsed": false
   },
   "outputs": [
    {
     "data": {
      "text/plain": [
       "(335, ['fixme', 'dog', 'traffic_signals', 'ford', 'email'])"
      ]
     },
     "execution_count": 14,
     "metadata": {},
     "output_type": "execute_result"
    }
   ],
   "source": [
    "len(possible_node_tags), list(possible_node_tags)[:5]"
   ]
  },
  {
   "cell_type": "code",
   "execution_count": 15,
   "metadata": {
    "collapsed": false
   },
   "outputs": [
    {
     "data": {
      "text/plain": [
       "(484,\n",
       " ['email',\n",
       "  'access:conditional',\n",
       "  'construction',\n",
       "  'opening_time',\n",
       "  'building:roof'])"
      ]
     },
     "execution_count": 15,
     "metadata": {},
     "output_type": "execute_result"
    }
   ],
   "source": [
    "len(possible_way_tags), list(possible_way_tags)[:5]"
   ]
  },
  {
   "cell_type": "code",
   "execution_count": 16,
   "metadata": {
    "collapsed": false
   },
   "outputs": [
    {
     "data": {
      "text/plain": [
       "(151, ['fixme', 'email', 'ref:nuts:3', 'junction', 'name'])"
      ]
     },
     "execution_count": 16,
     "metadata": {},
     "output_type": "execute_result"
    }
   ],
   "source": [
    "len(possible_relation_tags), list(possible_relation_tags)[:5]"
   ]
  },
  {
   "cell_type": "markdown",
   "metadata": {},
   "source": [
    "# Via a callback\n",
    "\n",
    "Just to show that it's not the SAX library itself which is the bottleneck."
   ]
  },
  {
   "cell_type": "code",
   "execution_count": 17,
   "metadata": {
    "collapsed": false
   },
   "outputs": [
    {
     "name": "stdout",
     "output_type": "stream",
     "text": [
      "OSM(version=0.6, generator=osmconvert 0.8.5, timestamp=2017-04-25 20:43:28)\n",
      "Bounds(latitude:[50.50555,50.80102], longitude:[-1.659074,-1.0313699]\n",
      "Took 0:00:12.288264\n"
     ]
    }
   ],
   "source": [
    "class Handler(digest.OSMDataHandler):\n",
    "    def __init__(self):\n",
    "        self.possible_node_tags = set()\n",
    "        self.possible_way_tags = set()\n",
    "        self.possible_relation_tags = set()\n",
    "\n",
    "    def start(self, osm):\n",
    "        print(osm)\n",
    "        \n",
    "    def bounds(self, bounds):\n",
    "        print(bounds)\n",
    "\n",
    "    def node(self, x):\n",
    "        for key in x.tags.keys():\n",
    "            self.possible_node_tags.add(key)\n",
    "\n",
    "    def way(self, x):\n",
    "        for key in x.tags.keys():\n",
    "            self.possible_way_tags.add(key)\n",
    "\n",
    "    def relation(self, x):\n",
    "        for key in x.tags.keys():\n",
    "            self.possible_relation_tags.add(key)\n",
    "\n",
    "start = datetime.datetime.now()\n",
    "handler = Handler()\n",
    "digest.parse_callback(\"isle-of-wight-latest.osm\", handler)\n",
    "print(\"Took {}\".format(datetime.datetime.now()-start))"
   ]
  },
  {
   "cell_type": "code",
   "execution_count": 18,
   "metadata": {
    "collapsed": false
   },
   "outputs": [
    {
     "data": {
      "text/plain": [
       "(335, ['fixme', 'dog', 'traffic_signals', 'ford', 'email'])"
      ]
     },
     "execution_count": 18,
     "metadata": {},
     "output_type": "execute_result"
    }
   ],
   "source": [
    "len(handler.possible_node_tags), list(handler.possible_node_tags)[:5]"
   ]
  },
  {
   "cell_type": "code",
   "execution_count": 19,
   "metadata": {
    "collapsed": false
   },
   "outputs": [
    {
     "data": {
      "text/plain": [
       "(484,\n",
       " ['email',\n",
       "  'access:conditional',\n",
       "  'construction',\n",
       "  'opening_time',\n",
       "  'building:roof'])"
      ]
     },
     "execution_count": 19,
     "metadata": {},
     "output_type": "execute_result"
    }
   ],
   "source": [
    "len(handler.possible_way_tags), list(handler.possible_way_tags)[:5]"
   ]
  },
  {
   "cell_type": "code",
   "execution_count": 20,
   "metadata": {
    "collapsed": false
   },
   "outputs": [
    {
     "data": {
      "text/plain": [
       "(151, ['fixme', 'email', 'ref:nuts:3', 'junction', 'name'])"
      ]
     },
     "execution_count": 20,
     "metadata": {},
     "output_type": "execute_result"
    }
   ],
   "source": [
    "len(handler.possible_relation_tags), list(handler.possible_relation_tags)[:5]"
   ]
  },
  {
   "cell_type": "markdown",
   "metadata": {},
   "source": [
    "# Convert the callback to a generator at the OSM data level\n",
    "\n",
    "This works fairly well."
   ]
  },
  {
   "cell_type": "code",
   "execution_count": 24,
   "metadata": {
    "collapsed": true
   },
   "outputs": [],
   "source": [
    "import osmdigest.utils.cbtogen as cbtogen"
   ]
  },
  {
   "cell_type": "code",
   "execution_count": 28,
   "metadata": {
    "collapsed": false
   },
   "outputs": [
    {
     "name": "stdout",
     "output_type": "stream",
     "text": [
      "OSM(version=0.6, generator=osmconvert 0.8.5, timestamp=2017-04-25 20:43:28)\n",
      "Bounds(latitude:[50.50555,50.80102], longitude:[-1.659074,-1.0313699]\n",
      "Took 0:00:34.578027\n"
     ]
    },
    {
     "data": {
      "text/plain": [
       "(335, 484, 151)"
      ]
     },
     "execution_count": 28,
     "metadata": {},
     "output_type": "execute_result"
    }
   ],
   "source": [
    "class Handler(digest.OSMDataHandler):\n",
    "    def __init__(self, delegate):\n",
    "        self.delegate = delegate\n",
    "        \n",
    "    def start(self, osm):\n",
    "        self.delegate.notify(osm)\n",
    "        \n",
    "    def bounds(self, bounds):\n",
    "        self.delegate.notify(bounds)\n",
    "\n",
    "    def node(self, x):\n",
    "        self.delegate.notify(x)\n",
    "\n",
    "    def way(self, x):\n",
    "        self.delegate.notify(x)\n",
    "\n",
    "    def relation(self, x):\n",
    "        self.delegate.notify(x)\n",
    "        \n",
    "generator = cbtogen.CallbackToGenerator()\n",
    "handler = Handler(generator)\n",
    "def func():\n",
    "    digest.parse_callback(\"isle-of-wight-latest.osm\", handler)\n",
    "generator.set_callback_function(func)\n",
    "\n",
    "possible_node_tags = set()\n",
    "possible_way_tags = set()\n",
    "possible_relation_tags = set()\n",
    "\n",
    "with generator:\n",
    "    start = datetime.datetime.now()\n",
    "    for x in generator:\n",
    "        if isinstance(x, digest.OSM) or isinstance(x, digest.Bounds):\n",
    "            print(x)\n",
    "        elif isinstance(x, digest.Node):\n",
    "            for key in x.tags.keys():\n",
    "                possible_node_tags.add(key)\n",
    "        elif isinstance(x, digest.Way):\n",
    "            for key in x.tags.keys():\n",
    "                possible_way_tags.add(key)\n",
    "        elif isinstance(x, digest.Relation):\n",
    "            for key in x.tags.keys():\n",
    "                possible_relation_tags.add(key)\n",
    "    print(\"Took {}\".format(datetime.datetime.now()-start))\n",
    "    \n",
    "len(possible_node_tags), len(possible_way_tags), len(possible_relation_tags)"
   ]
  },
  {
   "cell_type": "markdown",
   "metadata": {},
   "source": [
    "# Conclusion\n",
    "\n",
    "Using 2 threads to convert from a callback to a generator might be fun, but it's not performant.  At all.\n",
    "\n",
    "I suspect what happens is that the inter-thread communication (and whatever context switching Python does, as CPYthon is essentially single threaded) adds a certain overhead.  It we put this overhead at the XML parsing level, then we generate a huge number of temporary objects which are pushed onto the queue only to be removed and essentially ignored (e.g. \"character\" messages).  Those events which aren't ignored are often converted into a much smaller number of OSM specific objects (e.g. a way with many tags and node references yields only osm object but could be 50 XML events)."
   ]
  },
  {
   "cell_type": "code",
   "execution_count": null,
   "metadata": {
    "collapsed": true
   },
   "outputs": [],
   "source": []
  }
 ],
 "metadata": {
  "kernelspec": {
   "display_name": "Python 3",
   "language": "python",
   "name": "python3"
  },
  "language_info": {
   "codemirror_mode": {
    "name": "ipython",
    "version": 3
   },
   "file_extension": ".py",
   "mimetype": "text/x-python",
   "name": "python",
   "nbconvert_exporter": "python",
   "pygments_lexer": "ipython3",
   "version": "3.6.0"
  }
 },
 "nbformat": 4,
 "nbformat_minor": 2
}
