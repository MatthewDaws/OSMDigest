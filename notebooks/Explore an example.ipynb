{
 "cells": [
  {
   "cell_type": "code",
   "execution_count": 1,
   "metadata": {
    "collapsed": false
   },
   "outputs": [],
   "source": [
    "# Allow to import without installing\n",
    "import sys\n",
    "sys.path.insert(0, \"..\")"
   ]
  },
  {
   "cell_type": "markdown",
   "metadata": {},
   "source": [
    "# Example files\n",
    "\n",
    "These are downloaded from http://download.geofabrik.de/ which offers snapshots of various parts of the planet in a variety of formats.\n",
    "\n",
    "I have found that \"xz\" offers better compression that bzip2.  Linux users can install the \"xz\" package, or on Windows, use 7zip.  Python itself can easily recompress a file.\n",
    "\n",
    "The examples below use the data, in uncompressed format, for the Isle of Wight (a small island off the south coast of England, known to me from childhood holidays).  See http://download.geofabrik.de/europe/great-britain/england.html"
   ]
  },
  {
   "cell_type": "code",
   "execution_count": 2,
   "metadata": {
    "collapsed": false
   },
   "outputs": [
    {
     "name": "stdout",
     "output_type": "stream",
     "text": [
      "<?xml version='1.0' encoding='UTF-8'?>\n",
      "<osm version=\"0.6\" generator=\"osmconvert 0.8.5\" timestamp=\"2017-04-25T20:43:28Z\">\n",
      "\t<bounds minlat=\"50.50555\" minlon=\"-1.659074\" maxlat=\"50.80102\" maxlon=\"-1.0313699\"/>\n",
      "\t<node id=\"195206\" lat=\"50.6275781\" lon=\"-1.1730057\" version=\"10\" timestamp=\"2016-03-29T12:53:40Z\" changeset=\"38143882\" uid=\"3099236\" user=\"iwhs\"/>\n"
     ]
    }
   ],
   "source": [
    "import os, lzma\n",
    "#basedir = os.path.join(\"/media/disk\", \"OSM_Data\")\n",
    "basedir = os.path.join(\"e:\\\\\", \"OSM_Data\")\n",
    "filename = \"isle-of-wight-latest.osm.xz\"\n",
    "with lzma.open(os.path.join(basedir, filename), mode=\"rt\", encoding=\"utf-8\") as f:\n",
    "    print(next(f), end=\"\")\n",
    "    print(next(f), end=\"\")\n",
    "    print(next(f), end=\"\")\n",
    "    print(next(f), end=\"\")"
   ]
  },
  {
   "cell_type": "markdown",
   "metadata": {},
   "source": [
    "# Look at the generated data"
   ]
  },
  {
   "cell_type": "code",
   "execution_count": 3,
   "metadata": {
    "collapsed": false
   },
   "outputs": [],
   "source": [
    "import osmdigest.detail as detail\n",
    "import datetime"
   ]
  },
  {
   "cell_type": "code",
   "execution_count": 4,
   "metadata": {
    "collapsed": false
   },
   "outputs": [
    {
     "name": "stdout",
     "output_type": "stream",
     "text": [
      "OSM(version=0.6, generator=osmconvert 0.8.5, timestamp=2017-04-25 20:43:28)\n",
      "Bounds(longitude:[-1.659074,-1.0313699], latitude:[50.50555,50.80102]\n",
      "Took 0:02:55.461164\n"
     ]
    }
   ],
   "source": [
    "possible_node_tags = set()\n",
    "possible_way_tags = set()\n",
    "possible_relation_tags = set()\n",
    "\n",
    "#with detail.Parser(os.path.join(basedir, filename)) as gen:\n",
    "start = datetime.datetime.now()\n",
    "with detail.Parser(\"isle-of-wight-latest.osm\") as gen:\n",
    "    for x in gen:\n",
    "        if isinstance(x, detail.OSM) or isinstance(x, detail.Bounds):\n",
    "            print(x)\n",
    "        elif isinstance(x, detail.Node):\n",
    "            for y in x.subobjs:\n",
    "                assert isinstance(y, detail.Tag)\n",
    "                possible_node_tags.add(y.key)\n",
    "        elif isinstance(x, detail.Way):\n",
    "            for y in x.subobjs:\n",
    "                if isinstance(y, detail.Tag):\n",
    "                    possible_way_tags.add(y.key)\n",
    "                else:\n",
    "                    assert isinstance(y, detail.NodeRef)\n",
    "        elif isinstance(x, detail.Relation):\n",
    "            for y in x.subobjs:\n",
    "                if isinstance(y, detail.Tag):\n",
    "                    possible_relation_tags.add(y.key)\n",
    "                else:\n",
    "                    assert isinstance(y, detail.Member)\n",
    "                    assert y.type in {\"way\", \"node\", \"relation\"}\n",
    "        else:\n",
    "            raise Exception(\"Should see this\")\n",
    "print(\"Took {}\".format(datetime.datetime.now()-start))"
   ]
  },
  {
   "cell_type": "code",
   "execution_count": 5,
   "metadata": {
    "collapsed": false
   },
   "outputs": [
    {
     "data": {
      "text/plain": [
       "(335, ['note', 'religion', 'alt_name', 'condition', 'recycling:glass'])"
      ]
     },
     "execution_count": 5,
     "metadata": {},
     "output_type": "execute_result"
    }
   ],
   "source": [
    "len(possible_node_tags), list(possible_node_tags)[:5]"
   ]
  },
  {
   "cell_type": "code",
   "execution_count": 6,
   "metadata": {
    "collapsed": false
   },
   "outputs": [
    {
     "data": {
      "text/plain": [
       "(484, ['note', 'electrified', 'condition', 'bridge:name', 'source'])"
      ]
     },
     "execution_count": 6,
     "metadata": {},
     "output_type": "execute_result"
    }
   ],
   "source": [
    "len(possible_way_tags), list(possible_way_tags)[:5]"
   ]
  },
  {
   "cell_type": "code",
   "execution_count": 7,
   "metadata": {
    "collapsed": false
   },
   "outputs": [
    {
     "data": {
      "text/plain": [
       "(151, ['note', 'religion', 'name:es', 'alt_name', 'political_division'])"
      ]
     },
     "execution_count": 7,
     "metadata": {},
     "output_type": "execute_result"
    }
   ],
   "source": [
    "len(possible_relation_tags), list(possible_relation_tags)[:5]"
   ]
  },
  {
   "cell_type": "markdown",
   "metadata": {},
   "source": [
    "# Parse the data in a reduced way"
   ]
  },
  {
   "cell_type": "code",
   "execution_count": 8,
   "metadata": {
    "collapsed": false
   },
   "outputs": [],
   "source": [
    "import osmdigest.digest as digest"
   ]
  },
  {
   "cell_type": "code",
   "execution_count": 9,
   "metadata": {
    "collapsed": false
   },
   "outputs": [
    {
     "name": "stdout",
     "output_type": "stream",
     "text": [
      "OSM(version=0.6, generator=osmconvert 0.8.5, timestamp=2017-04-25 20:43:28)\n",
      "Bounds(longitude:[-1.659074,-1.0313699], latitude:[50.50555,50.80102]\n",
      "Took 0:02:39.068315\n"
     ]
    }
   ],
   "source": [
    "possible_node_tags = set()\n",
    "possible_way_tags = set()\n",
    "possible_relation_tags = set()\n",
    "\n",
    "start = datetime.datetime.now()\n",
    "for x in digest.parse_sax(\"isle-of-wight-latest.osm\"):\n",
    "    if isinstance(x, digest.OSM) or isinstance(x, digest.Bounds):\n",
    "        print(x)\n",
    "    elif isinstance(x, digest.Node):\n",
    "        for key in x.tags.keys():\n",
    "            possible_node_tags.add(key)\n",
    "    elif isinstance(x, digest.Way):\n",
    "        for key in x.tags.keys():\n",
    "            possible_way_tags.add(key)\n",
    "    elif isinstance(x, digest.Relation):\n",
    "        for key in x.tags.keys():\n",
    "            possible_relation_tags.add(key)\n",
    "print(\"Took {}\".format(datetime.datetime.now()-start))"
   ]
  },
  {
   "cell_type": "code",
   "execution_count": 10,
   "metadata": {
    "collapsed": false
   },
   "outputs": [
    {
     "data": {
      "text/plain": [
       "(335, ['note', 'religion', 'alt_name', 'condition', 'recycling:glass'])"
      ]
     },
     "execution_count": 10,
     "metadata": {},
     "output_type": "execute_result"
    }
   ],
   "source": [
    "len(possible_node_tags), list(possible_node_tags)[:5]"
   ]
  },
  {
   "cell_type": "code",
   "execution_count": 11,
   "metadata": {
    "collapsed": false
   },
   "outputs": [
    {
     "data": {
      "text/plain": [
       "(484, ['note', 'electrified', 'condition', 'bridge:name', 'source'])"
      ]
     },
     "execution_count": 11,
     "metadata": {},
     "output_type": "execute_result"
    }
   ],
   "source": [
    "len(possible_way_tags), list(possible_way_tags)[:5]"
   ]
  },
  {
   "cell_type": "code",
   "execution_count": 12,
   "metadata": {
    "collapsed": false
   },
   "outputs": [
    {
     "data": {
      "text/plain": [
       "(151, ['note', 'religion', 'name:es', 'alt_name', 'political_division'])"
      ]
     },
     "execution_count": 12,
     "metadata": {},
     "output_type": "execute_result"
    }
   ],
   "source": [
    "len(possible_relation_tags), list(possible_relation_tags)[:5]"
   ]
  },
  {
   "cell_type": "markdown",
   "metadata": {
    "collapsed": true
   },
   "source": [
    "## Use `xml.etree` instead\n",
    "\n",
    "A different Python standard library `xml` parser."
   ]
  },
  {
   "cell_type": "code",
   "execution_count": 13,
   "metadata": {
    "collapsed": false
   },
   "outputs": [
    {
     "name": "stdout",
     "output_type": "stream",
     "text": [
      "OSM(version=0.6, generator=osmconvert 0.8.5, timestamp=2017-04-25 20:43:28)\n",
      "Bounds(longitude:[-1.659074,-1.0313699], latitude:[50.50555,50.80102]\n",
      "Took 0:00:12.496971\n"
     ]
    }
   ],
   "source": [
    "possible_node_tags = set()\n",
    "possible_way_tags = set()\n",
    "possible_relation_tags = set()\n",
    "\n",
    "start = datetime.datetime.now()\n",
    "for x in digest.parse(\"isle-of-wight-latest.osm\"):\n",
    "    if isinstance(x, digest.OSM) or isinstance(x, digest.Bounds):\n",
    "        print(x)\n",
    "    elif isinstance(x, digest.Node):\n",
    "        for key in x.tags.keys():\n",
    "            possible_node_tags.add(key)\n",
    "    elif isinstance(x, digest.Way):\n",
    "        for key in x.tags.keys():\n",
    "            possible_way_tags.add(key)\n",
    "    elif isinstance(x, digest.Relation):\n",
    "        for key in x.tags.keys():\n",
    "            possible_relation_tags.add(key)\n",
    "print(\"Took {}\".format(datetime.datetime.now()-start))"
   ]
  },
  {
   "cell_type": "code",
   "execution_count": 14,
   "metadata": {
    "collapsed": false
   },
   "outputs": [
    {
     "data": {
      "text/plain": [
       "(335, ['note', 'religion', 'alt_name', 'condition', 'recycling:glass'])"
      ]
     },
     "execution_count": 14,
     "metadata": {},
     "output_type": "execute_result"
    }
   ],
   "source": [
    "len(possible_node_tags), list(possible_node_tags)[:5]"
   ]
  },
  {
   "cell_type": "code",
   "execution_count": 15,
   "metadata": {
    "collapsed": false
   },
   "outputs": [
    {
     "data": {
      "text/plain": [
       "(484, ['note', 'electrified', 'condition', 'bridge:name', 'source'])"
      ]
     },
     "execution_count": 15,
     "metadata": {},
     "output_type": "execute_result"
    }
   ],
   "source": [
    "len(possible_way_tags), list(possible_way_tags)[:5]"
   ]
  },
  {
   "cell_type": "code",
   "execution_count": 16,
   "metadata": {
    "collapsed": false
   },
   "outputs": [
    {
     "data": {
      "text/plain": [
       "(151, ['note', 'religion', 'name:es', 'alt_name', 'political_division'])"
      ]
     },
     "execution_count": 16,
     "metadata": {},
     "output_type": "execute_result"
    }
   ],
   "source": [
    "len(possible_relation_tags), list(possible_relation_tags)[:5]"
   ]
  },
  {
   "cell_type": "markdown",
   "metadata": {},
   "source": [
    "# Via a callback\n",
    "\n",
    "Just to show that it's not the SAX library itself which is the bottleneck."
   ]
  },
  {
   "cell_type": "code",
   "execution_count": 17,
   "metadata": {
    "collapsed": false
   },
   "outputs": [
    {
     "name": "stdout",
     "output_type": "stream",
     "text": [
      "OSM(version=0.6, generator=osmconvert 0.8.5, timestamp=2017-04-25 20:43:28)\n",
      "Bounds(longitude:[-1.659074,-1.0313699], latitude:[50.50555,50.80102]\n",
      "Took 0:00:11.229552\n"
     ]
    }
   ],
   "source": [
    "class Handler(digest.OSMDataHandler):\n",
    "    def __init__(self):\n",
    "        self.possible_node_tags = set()\n",
    "        self.possible_way_tags = set()\n",
    "        self.possible_relation_tags = set()\n",
    "\n",
    "    def start(self, osm):\n",
    "        print(osm)\n",
    "        \n",
    "    def bounds(self, bounds):\n",
    "        print(bounds)\n",
    "\n",
    "    def node(self, x):\n",
    "        for key in x.tags.keys():\n",
    "            self.possible_node_tags.add(key)\n",
    "\n",
    "    def way(self, x):\n",
    "        for key in x.tags.keys():\n",
    "            self.possible_way_tags.add(key)\n",
    "\n",
    "    def relation(self, x):\n",
    "        for key in x.tags.keys():\n",
    "            self.possible_relation_tags.add(key)\n",
    "\n",
    "start = datetime.datetime.now()\n",
    "handler = Handler()\n",
    "digest.parse_callback(\"isle-of-wight-latest.osm\", handler)\n",
    "print(\"Took {}\".format(datetime.datetime.now()-start))"
   ]
  },
  {
   "cell_type": "code",
   "execution_count": 18,
   "metadata": {
    "collapsed": false
   },
   "outputs": [
    {
     "data": {
      "text/plain": [
       "(335, ['note', 'religion', 'alt_name', 'condition', 'recycling:glass'])"
      ]
     },
     "execution_count": 18,
     "metadata": {},
     "output_type": "execute_result"
    }
   ],
   "source": [
    "len(handler.possible_node_tags), list(handler.possible_node_tags)[:5]"
   ]
  },
  {
   "cell_type": "code",
   "execution_count": 19,
   "metadata": {
    "collapsed": false
   },
   "outputs": [
    {
     "data": {
      "text/plain": [
       "(484, ['note', 'electrified', 'condition', 'bridge:name', 'source'])"
      ]
     },
     "execution_count": 19,
     "metadata": {},
     "output_type": "execute_result"
    }
   ],
   "source": [
    "len(handler.possible_way_tags), list(handler.possible_way_tags)[:5]"
   ]
  },
  {
   "cell_type": "code",
   "execution_count": 20,
   "metadata": {
    "collapsed": false
   },
   "outputs": [
    {
     "data": {
      "text/plain": [
       "(151, ['note', 'religion', 'name:es', 'alt_name', 'political_division'])"
      ]
     },
     "execution_count": 20,
     "metadata": {},
     "output_type": "execute_result"
    }
   ],
   "source": [
    "len(handler.possible_relation_tags), list(handler.possible_relation_tags)[:5]"
   ]
  },
  {
   "cell_type": "markdown",
   "metadata": {},
   "source": [
    "# Convert the callback to a generator at the OSM data level\n",
    "\n",
    "This works fairly well."
   ]
  },
  {
   "cell_type": "code",
   "execution_count": 21,
   "metadata": {
    "collapsed": true
   },
   "outputs": [],
   "source": [
    "import osmdigest.utils.cbtogen as cbtogen"
   ]
  },
  {
   "cell_type": "code",
   "execution_count": 22,
   "metadata": {
    "collapsed": false
   },
   "outputs": [
    {
     "name": "stdout",
     "output_type": "stream",
     "text": [
      "OSM(version=0.6, generator=osmconvert 0.8.5, timestamp=2017-04-25 20:43:28)\n",
      "Bounds(longitude:[-1.659074,-1.0313699], latitude:[50.50555,50.80102]\n",
      "Took 0:00:16.574323\n"
     ]
    },
    {
     "data": {
      "text/plain": [
       "(335, 484, 151)"
      ]
     },
     "execution_count": 22,
     "metadata": {},
     "output_type": "execute_result"
    }
   ],
   "source": [
    "class Handler(digest.OSMDataHandler):\n",
    "    def __init__(self, delegate):\n",
    "        self.delegate = delegate\n",
    "        \n",
    "    def start(self, osm):\n",
    "        self.delegate.notify(osm)\n",
    "        \n",
    "    def bounds(self, bounds):\n",
    "        self.delegate.notify(bounds)\n",
    "\n",
    "    def node(self, x):\n",
    "        self.delegate.notify(x)\n",
    "\n",
    "    def way(self, x):\n",
    "        self.delegate.notify(x)\n",
    "\n",
    "    def relation(self, x):\n",
    "        self.delegate.notify(x)\n",
    "        \n",
    "generator = cbtogen.CallbackToGenerator()\n",
    "handler = Handler(generator)\n",
    "def func():\n",
    "    digest.parse_callback(\"isle-of-wight-latest.osm\", handler)\n",
    "generator.set_callback_function(func)\n",
    "\n",
    "possible_node_tags = set()\n",
    "possible_way_tags = set()\n",
    "possible_relation_tags = set()\n",
    "\n",
    "with generator:\n",
    "    start = datetime.datetime.now()\n",
    "    for x in generator:\n",
    "        if isinstance(x, digest.OSM) or isinstance(x, digest.Bounds):\n",
    "            print(x)\n",
    "        elif isinstance(x, digest.Node):\n",
    "            for key in x.tags.keys():\n",
    "                possible_node_tags.add(key)\n",
    "        elif isinstance(x, digest.Way):\n",
    "            for key in x.tags.keys():\n",
    "                possible_way_tags.add(key)\n",
    "        elif isinstance(x, digest.Relation):\n",
    "            for key in x.tags.keys():\n",
    "                possible_relation_tags.add(key)\n",
    "    print(\"Took {}\".format(datetime.datetime.now()-start))\n",
    "    \n",
    "len(possible_node_tags), len(possible_way_tags), len(possible_relation_tags)"
   ]
  },
  {
   "cell_type": "markdown",
   "metadata": {},
   "source": [
    "# Conclusion\n",
    "\n",
    "Using 2 threads to convert from a callback to a generator might be fun, but it's not performant.  At all.\n",
    "\n",
    "I suspect what happens is that the inter-thread communication (and whatever context switching Python does, as CPYthon is essentially single threaded) adds a certain overhead.  It we put this overhead at the XML parsing level, then we generate a huge number of temporary objects which are pushed onto the queue only to be removed and essentially ignored (e.g. \"character\" messages).  Those events which aren't ignored are often converted into a much smaller number of OSM specific objects (e.g. a way with many tags and node references yields only osm object but could be 50 XML events)."
   ]
  },
  {
   "cell_type": "markdown",
   "metadata": {
    "collapsed": true
   },
   "source": [
    "# Check bounding box\n",
    "\n",
    "We'll check our example to see how the bounding box actually reflects the data.\n",
    "\n",
    "- Quite a few nodes fall outside of the bounding box\n",
    "- However, almost all ways feature at least one node in the bounding box,\n",
    "- and for every way, all nodes can be found in the dataset.\n",
    "- Conversely, there are a few relations which feature nodes / ways not in the dataset\n",
    "- but all relations in the dataset have some node or way or sub-relation in the dataset"
   ]
  },
  {
   "cell_type": "code",
   "execution_count": 23,
   "metadata": {
    "collapsed": false
   },
   "outputs": [
    {
     "data": {
      "text/plain": [
       "(OSM(version=0.6, generator=osmconvert 0.8.5, timestamp=2017-04-25 20:43:28),\n",
       " Bounds(longitude:[-1.659074,-1.0313699], latitude:[50.50555,50.80102])"
      ]
     },
     "execution_count": 23,
     "metadata": {},
     "output_type": "execute_result"
    }
   ],
   "source": [
    "gen = digest.parse(\"isle-of-wight-latest.osm\")\n",
    "osm, bounds = next(gen), next(gen)\n",
    "\n",
    "osm, bounds"
   ]
  },
  {
   "cell_type": "code",
   "execution_count": 24,
   "metadata": {
    "collapsed": false
   },
   "outputs": [
    {
     "data": {
      "text/plain": [
       "(-5.4136531, -0.9118864, 43.3548941, 50.8959907)"
      ]
     },
     "execution_count": 24,
     "metadata": {},
     "output_type": "execute_result"
    }
   ],
   "source": [
    "minlon, maxlon, minlat, maxlat = None, None, None, None\n",
    "nodes, ways, relations = [], [], []\n",
    "for el in digest.parse(\"isle-of-wight-latest.osm\"):\n",
    "    if el.name == \"node\":\n",
    "        nodes.append(el)\n",
    "        if minlon is None or el.longitude < minlon:\n",
    "            minlon = el.longitude\n",
    "        if maxlon is None or el.longitude > maxlon:\n",
    "            maxlon = el.longitude\n",
    "        if minlat is None or el.latitude < minlat:\n",
    "            minlat = el.latitude\n",
    "        if maxlat is None or el.latitude > maxlat:\n",
    "            maxlat = el.latitude\n",
    "    elif el.name == \"way\":\n",
    "        ways.append(el)\n",
    "    elif el.name == \"relation\":\n",
    "        relations.append(el)\n",
    "        \n",
    "minlon, maxlon, minlat, maxlat"
   ]
  },
  {
   "cell_type": "code",
   "execution_count": 25,
   "metadata": {
    "collapsed": false
   },
   "outputs": [],
   "source": [
    "node_ids_in_bb = { node.osm_id for node in nodes if\n",
    "    node.longitude >= bounds.min_longitude and node.longitude <= bounds.max_longitude\n",
    "    and node.latitude >= bounds.min_latitude and node.latitude <= bounds.max_latitude }\n",
    "node_ids = { node.osm_id for node in nodes }\n",
    "way_ids = { way.osm_id for way in ways }"
   ]
  },
  {
   "cell_type": "code",
   "execution_count": 26,
   "metadata": {
    "collapsed": false
   },
   "outputs": [
    {
     "name": "stdout",
     "output_type": "stream",
     "text": [
      "Way(10157044 ->  [13718394, 13718395, 13718398, 13718404, 13718407, 13718412] {'source': 'PGS & Bing', 'natural': 'coastline'})\n",
      "Way(10157047 ->  [256790402, 13718604, 13718617, 13718621, 13718629, 2101289190, 13718635, 1691252673, 13718647, 13718651, 2101289129, 2101289124, 2101289121, 1691252669, 13718664, 2101289120, 2101289117, 2101289114, 1691252671, 2101289112, 2101289105, 13718674, 256790387, 256790385, 2101289076, 2101289059, 2101289053, 2101289050, 2101289045, 13718692, 2101289044, 2101289029, 2101289030, 2101289017, 2101289018, 13718700, 2101289011, 13718705, 2101289000, 13718710, 13718712, 13718718, 13718723, 2106275306, 13718733, 2106275303, 2106275301, 2106275300, 2106275298, 2106275295, 2106275294, 2106275292, 2106275290, 3101656908, 2106275287, 3101656839, 2106275284, 2106275281, 2106275279, 2106275275, 2106275270, 2106275265] {'source': 'PGS & Bing', 'natural': 'coastline'})\n",
      "Way(39498695 ->  [13717968, 2101289492, 2101289491, 2101289490, 2101289488, 13717971, 13717975, 2101289486, 13717981] {'source': 'PGS', 'natural': 'coastline'})\n",
      "Way(39498700 ->  [13717981, 2101289485, 2101289484, 2101289482, 2101289481, 13717989, 310253725, 13718001, 13718006, 13718033, 2101289473, 2101289471, 2101289470, 13718036, 13718037, 13718050, 13718056, 13718061, 2101289467, 2101289465, 2101289464, 2101289461, 2101289463, 2101289462, 13718073, 2101289460, 13718082, 13718085, 2101289459, 13718109, 13718125, 13718147, 13718150, 13718178, 13718191, 13718225, 13718239, 13718247, 13718275, 13718284, 13718293, 13718303, 13718308, 13718315, 13718333, 13718346, 13718353, 13718358, 13718363, 13718369, 13718373, 13718385, 13718392, 13718394] {'source': 'OS_OpenData_StreetView', 'natural': 'coastline'})\n",
      "Way(199346431 ->  [13718412, 13718418, 13718419, 13718424, 13718427, 13718432, 2101289398, 13718436, 2101289401, 2101289403, 2101289405, 2101289407, 2101289404, 2101289406, 13718441, 2101289402, 13718446, 13718451, 13718456, 310253759, 13718459, 13718464, 13718469, 1691252687, 13718472, 13718476, 33318734, 33318735, 1691252697, 1691252695, 33318736, 321789287, 1691252702, 321789288, 33318737, 1691252700, 33318738, 600200813, 600200815, 600200817, 600200819, 246254949, 246254950, 1691252688, 1691252690, 1691252693, 13718498, 13718504, 1691252689, 13718513, 13718526, 13718539, 1691252680, 13718557, 13718564, 13718570, 13718571, 13718575, 13718578, 2101289351, 13718588, 2101289231, 2101289226, 13718591, 2101289209, 1691252675, 1691252678, 4633590097, 2101289211, 256790402] {'source': 'PGS & Bing', 'natural': 'coastline'})\n",
      "Way(200662663 ->  [2106275265, 2106275264, 2106275263, 13718813, 2106275262] {'source': 'PGS', 'natural': 'coastline'})\n",
      "Way(200662665 ->  [2106275262, 2106275261, 2106275258, 2106275248, 2106275242, 2106275238, 2106275236, 2106275234] {'source': 'OS_OpenData_StreetView', 'natural': 'coastline'})\n",
      "Way(222281730 ->  [13713007, 13713009, 13713012, 13713015, 13713026, 13713028, 13713031, 1241434785, 13713038, 13713048, 13713050, 13713051, 13713053, 13713066, 13713075, 13713079, 13713080, 13713081, 13713082, 13713084, 13713085, 3804317987, 13713106, 13713123, 13713126, 13713133, 13713136, 13713144, 13713154, 13713166, 13713188, 1241434535, 13713189, 13713190, 287362645, 3804318018, 4277941860, 4277941859, 1241434798] {'source': 'PGS', 'natural': 'coastline'})\n",
      "Way(263265337 ->  [1241434798, 13717968] {})\n"
     ]
    }
   ],
   "source": [
    "# Find ways which feature no node in the bounding box\n",
    "for way in ways:\n",
    "    if not any(noderef in node_ids_in_bb for noderef in way.nodes):\n",
    "        print(way)"
   ]
  },
  {
   "cell_type": "code",
   "execution_count": 27,
   "metadata": {
    "collapsed": true
   },
   "outputs": [],
   "source": [
    "# Check that all nodes in each way are in the dataset\n",
    "for way in ways:\n",
    "    if not all(noderef in node_ids for noderef in way.nodes):\n",
    "        print(way)"
   ]
  },
  {
   "cell_type": "code",
   "execution_count": 28,
   "metadata": {
    "collapsed": true
   },
   "outputs": [],
   "source": [
    "relations = {rel.osm_id : rel for rel in relations}        "
   ]
  },
  {
   "cell_type": "code",
   "execution_count": 29,
   "metadata": {
    "collapsed": false
   },
   "outputs": [
    {
     "name": "stdout",
     "output_type": "stream",
     "text": [
      "67578\n",
      "151304\n",
      "168529\n",
      "192009\n",
      "311462\n",
      "311463\n",
      "1254604\n",
      "1561822\n",
      "1959386\n",
      "2705259\n",
      "3746024\n",
      "3820651\n",
      "3999378\n"
     ]
    }
   ],
   "source": [
    "# Find relations which feature a member not in the dataset\n",
    "for rel in relations.values():\n",
    "    failed = False\n",
    "    for member in rel.members:\n",
    "        if member.type == \"node\" and member.ref not in node_ids:\n",
    "            failed = True\n",
    "        elif member.type == \"way\" and member.ref not in way_ids:\n",
    "            failed = True\n",
    "        elif member.type == \"relation\" and member.ref not in relations:\n",
    "            failed = True\n",
    "    if failed:\n",
    "        print(rel.osm_id)"
   ]
  },
  {
   "cell_type": "code",
   "execution_count": 30,
   "metadata": {
    "collapsed": false
   },
   "outputs": [
    {
     "data": {
      "text/plain": [
       "True"
      ]
     },
     "execution_count": 30,
     "metadata": {},
     "output_type": "execute_result"
    }
   ],
   "source": [
    "def relation_has_member_in_bb(rel):\n",
    "    for member in rel.members:\n",
    "        if member.type == \"node\" and member.ref in node_ids_in_bb:\n",
    "            return True\n",
    "        elif member.type == \"way\" and member.ref in way_ids:\n",
    "            return True\n",
    "        elif member.type == \"relation\" and member.ref in relations:\n",
    "            return relation_has_member_in_bb(relations[member.ref])\n",
    "    return False\n",
    "\n",
    "all(relation_has_member_in_bb(rel) for rel in relations.values())"
   ]
  },
  {
   "cell_type": "code",
   "execution_count": null,
   "metadata": {
    "collapsed": true
   },
   "outputs": [],
   "source": []
  }
 ],
 "metadata": {
  "kernelspec": {
   "display_name": "Python 3",
   "language": "python",
   "name": "python3"
  },
  "language_info": {
   "codemirror_mode": {
    "name": "ipython",
    "version": 3
   },
   "file_extension": ".py",
   "mimetype": "text/x-python",
   "name": "python",
   "nbconvert_exporter": "python",
   "pygments_lexer": "ipython3",
   "version": "3.6.0"
  }
 },
 "nbformat": 4,
 "nbformat_minor": 2
}
