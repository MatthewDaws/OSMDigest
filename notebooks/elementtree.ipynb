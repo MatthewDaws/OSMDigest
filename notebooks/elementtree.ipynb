{
 "cells": [
  {
   "cell_type": "code",
   "execution_count": 1,
   "metadata": {
    "collapsed": true
   },
   "outputs": [],
   "source": [
    "import xml.etree.ElementTree"
   ]
  },
  {
   "cell_type": "code",
   "execution_count": 27,
   "metadata": {
    "collapsed": false
   },
   "outputs": [
    {
     "name": "stdout",
     "output_type": "stream",
     "text": [
      "{'id': '195206', 'lat': '50.6275781', 'lon': '-1.1730057', 'version': '10', 'timestamp': '2016-03-29T12:53:40Z', 'changeset': '38143882', 'uid': '3099236', 'user': 'iwhs'}\n",
      "{'id': '195207', 'lat': '50.6334288', 'lon': '-1.169847', 'version': '12', 'timestamp': '2014-12-14T18:19:37Z', 'changeset': '27464578', 'uid': '607399', 'user': 'ehm1806'}\n",
      "{'id': '195208', 'lat': '50.6329818', 'lon': '-1.1711938', 'version': '9', 'timestamp': '2016-03-29T15:07:15Z', 'changeset': '38146277', 'uid': '3099236', 'user': 'iwhs'}\n",
      "{'id': '195209', 'lat': '50.6335531', 'lon': '-1.170425', 'version': '7', 'timestamp': '2014-12-14T18:19:37Z', 'changeset': '27464578', 'uid': '607399', 'user': 'ehm1806'}\n",
      "{'id': '195210', 'lat': '50.633489', 'lon': '-1.1794966', 'version': '6', 'timestamp': '2017-02-22T15:50:48Z', 'changeset': '46311184', 'uid': '3099236', 'user': 'iwhs'}\n",
      "{'id': '195211', 'lat': '50.6320599', 'lon': '-1.1785876', 'version': '8', 'timestamp': '2017-03-02T17:47:43Z', 'changeset': '46528392', 'uid': '3099236', 'user': 'iwhs'}\n",
      "   tag {'k': 'direction', 'v': 'clockwise'}\n",
      "   tag {'k': 'highway', 'v': 'mini_roundabout'}\n",
      "{'id': '195212', 'lat': '50.6319978', 'lon': '-1.1810101', 'version': '6', 'timestamp': '2016-10-21T15:27:06Z', 'changeset': '43062290', 'uid': '3099236', 'user': 'iwhs'}\n",
      "{'id': '195213', 'lat': '50.6293151', 'lon': '-1.180826', 'version': '3', 'timestamp': '2016-02-17T22:52:59Z', 'changeset': '37277803', 'uid': '3099236', 'user': 'iwhs'}\n",
      "{'id': '195214', 'lat': '50.6293244', 'lon': '-1.1828752', 'version': '4', 'timestamp': '2016-02-17T22:52:59Z', 'changeset': '37277803', 'uid': '3099236', 'user': 'iwhs'}\n",
      "{'id': '195297', 'lat': '50.6273427', 'lon': '-1.1855897', 'version': '6', 'timestamp': '2017-04-21T14:33:17Z', 'changeset': '48005203', 'uid': '3099236', 'user': 'iwhs'}\n",
      "{'id': '195299', 'lat': '50.6282019', 'lon': '-1.196867', 'version': '5', 'timestamp': '2016-06-07T10:04:49Z', 'changeset': '39857384', 'uid': '3099236', 'user': 'iwhs'}\n",
      "{'id': '195300', 'lat': '50.6290191', 'lon': '-1.1971919', 'version': '5', 'timestamp': '2016-11-22T15:20:58Z', 'changeset': '43873079', 'uid': '3099236', 'user': 'iwhs'}\n",
      "{'id': '195301', 'lat': '50.6299759', 'lon': '-1.1974121', 'version': '3', 'timestamp': '2015-08-29T23:07:22Z', 'changeset': '33672880', 'uid': '17292', 'user': 'jpennycook'}\n",
      "{'id': '195302', 'lat': '50.629914', 'lon': '-1.2004807', 'version': '3', 'timestamp': '2016-02-11T20:19:01Z', 'changeset': '37154649', 'uid': '3099236', 'user': 'iwhs'}\n",
      "{'id': '195303', 'lat': '50.630666', 'lon': '-1.2084324', 'version': '3', 'timestamp': '2016-02-11T20:56:57Z', 'changeset': '37155723', 'uid': '3099236', 'user': 'iwhs'}\n",
      "{'id': '195304', 'lat': '50.6301543', 'lon': '-1.2156813', 'version': '6', 'timestamp': '2016-02-11T19:37:10Z', 'changeset': '37153715', 'uid': '3099236', 'user': 'iwhs'}\n",
      "{'id': '195305', 'lat': '50.6312395', 'lon': '-1.2219495', 'version': '6', 'timestamp': '2013-01-06T08:40:02Z', 'changeset': '14545538', 'uid': '6634', 'user': 'DrMark'}\n",
      "   tag {'k': 'lit', 'v': 'yes'}\n",
      "   tag {'k': 'highway', 'v': 'mini_roundabout'}\n",
      "   tag {'k': 'direction', 'v': 'clockwise'}\n",
      "{'id': '195307', 'lat': '50.6305785', 'lon': '-1.2189401', 'version': '2', 'timestamp': '2008-12-05T10:27:20Z', 'changeset': '122207', 'uid': '8235', 'user': 'chriscf'}\n",
      "{'id': '195308', 'lat': '50.6331851', 'lon': '-1.220644', 'version': '7', 'timestamp': '2016-02-22T12:51:13Z', 'changeset': '37366203', 'uid': '3099236', 'user': 'iwhs'}\n",
      "{'id': '195309', 'lat': '50.6351587', 'lon': '-1.2191107', 'version': '6', 'timestamp': '2016-02-22T12:51:13Z', 'changeset': '37366203', 'uid': '3099236', 'user': 'iwhs'}\n"
     ]
    }
   ],
   "source": [
    "#import lzma\n",
    "#file = lzma.open(\"/media/disk/OSM_Data/california-latest.osm.xz\")\n",
    "\n",
    "#generator = xml.etree.ElementTree.iterparse(file, events=[\"start\", \"end\"])\n",
    "generator = xml.etree.ElementTree.iterparse(\"isle-of-wight-latest.osm\", events=[\"start\"])\n",
    "generator = iter(generator)\n",
    "\n",
    "root = next(generator)[1]\n",
    "\n",
    "count = 0\n",
    "for event, element in generator:\n",
    "    if element.tag == \"node\":\n",
    "        print(element.attrib)\n",
    "        for sub in element:\n",
    "            print(\"  \", sub.tag, sub.attrib)\n",
    "        count += 1\n",
    "        if count >= 20:\n",
    "            break\n",
    "    root.clear()\n",
    "    pass"
   ]
  },
  {
   "cell_type": "code",
   "execution_count": 21,
   "metadata": {
    "collapsed": false
   },
   "outputs": [
    {
     "data": {
      "text/plain": [
       "'start'"
      ]
     },
     "execution_count": 21,
     "metadata": {},
     "output_type": "execute_result"
    }
   ],
   "source": [
    "event"
   ]
  },
  {
   "cell_type": "code",
   "execution_count": 22,
   "metadata": {
    "collapsed": false
   },
   "outputs": [
    {
     "data": {
      "text/plain": [
       "'node'"
      ]
     },
     "execution_count": 22,
     "metadata": {},
     "output_type": "execute_result"
    }
   ],
   "source": [
    "element.tag"
   ]
  },
  {
   "cell_type": "code",
   "execution_count": 23,
   "metadata": {
    "collapsed": false
   },
   "outputs": [
    {
     "data": {
      "text/plain": [
       "{'changeset': '46528392',\n",
       " 'id': '195211',\n",
       " 'lat': '50.6320599',\n",
       " 'lon': '-1.1785876',\n",
       " 'timestamp': '2017-03-02T17:47:43Z',\n",
       " 'uid': '3099236',\n",
       " 'user': 'iwhs',\n",
       " 'version': '8'}"
      ]
     },
     "execution_count": 23,
     "metadata": {},
     "output_type": "execute_result"
    }
   ],
   "source": [
    "element.attrib"
   ]
  },
  {
   "cell_type": "code",
   "execution_count": 24,
   "metadata": {
    "collapsed": false
   },
   "outputs": [
    {
     "data": {
      "text/plain": [
       "[<Element 'tag' at 0x7f3013f6f368>, <Element 'tag' at 0x7f3013f6f3b8>]"
      ]
     },
     "execution_count": 24,
     "metadata": {},
     "output_type": "execute_result"
    }
   ],
   "source": [
    "element.getchildren()"
   ]
  },
  {
   "cell_type": "code",
   "execution_count": 25,
   "metadata": {
    "collapsed": false
   },
   "outputs": [
    {
     "name": "stdout",
     "output_type": "stream",
     "text": [
      "tag {'k': 'direction', 'v': 'clockwise'}\n",
      "tag {'k': 'highway', 'v': 'mini_roundabout'}\n"
     ]
    }
   ],
   "source": [
    "for x in element:\n",
    "    print(x.tag, x.attrib)"
   ]
  },
  {
   "cell_type": "code",
   "execution_count": null,
   "metadata": {
    "collapsed": true
   },
   "outputs": [],
   "source": []
  }
 ],
 "metadata": {
  "kernelspec": {
   "display_name": "Python 3",
   "language": "python",
   "name": "python3"
  },
  "language_info": {
   "codemirror_mode": {
    "name": "ipython",
    "version": 3
   },
   "file_extension": ".py",
   "mimetype": "text/x-python",
   "name": "python",
   "nbconvert_exporter": "python",
   "pygments_lexer": "ipython3",
   "version": "3.6.0"
  }
 },
 "nbformat": 4,
 "nbformat_minor": 2
}
