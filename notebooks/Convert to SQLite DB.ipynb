{
 "cells": [
  {
   "cell_type": "markdown",
   "metadata": {},
   "source": [
    "# Convert the SQLite DB\n",
    "\n",
    "The OSM data is fundamentally quite relational, and so should fit well with a relational DB (though we can expect disk usage to be high).  Python has SQLite built-in, so it's a natural choice.  (Of course, enterprise levels DBs and GIS addons would make more sense for very heavily lifting).\n",
    "\n",
    "Here I use the Isle of Man data, from http://download.geofabrik.de/europe.html, to experiment on."
   ]
  },
  {
   "cell_type": "code",
   "execution_count": 1,
   "metadata": {
    "collapsed": true
   },
   "outputs": [],
   "source": [
    "import sys\n",
    "sys.path.insert(0, \"..\")"
   ]
  },
  {
   "cell_type": "code",
   "execution_count": 2,
   "metadata": {
    "collapsed": true
   },
   "outputs": [],
   "source": [
    "import sqlite3\n",
    "import datetime\n",
    "import os"
   ]
  },
  {
   "cell_type": "code",
   "execution_count": 3,
   "metadata": {
    "collapsed": false
   },
   "outputs": [],
   "source": [
    "import osmdigest.sqlite as sq"
   ]
  },
  {
   "cell_type": "code",
   "execution_count": 4,
   "metadata": {
    "collapsed": true
   },
   "outputs": [],
   "source": [
    "os.remove(\"demo.db\")"
   ]
  },
  {
   "cell_type": "code",
   "execution_count": 5,
   "metadata": {
    "collapsed": false
   },
   "outputs": [],
   "source": [
    "filename = os.path.join(\"..\", \"..\", \"..\", \"Data\", \"isle-of-man-latest.osm.bz2\")"
   ]
  },
  {
   "cell_type": "code",
   "execution_count": 6,
   "metadata": {
    "collapsed": false
   },
   "outputs": [
    {
     "name": "stdout",
     "output_type": "stream",
     "text": [
      "0:00:11.694735\n"
     ]
    }
   ],
   "source": [
    "start = datetime.datetime.now()\n",
    "sq.convert(filename, \"demo.db\")\n",
    "\n",
    "print(datetime.datetime.now() - start)"
   ]
  },
  {
   "cell_type": "code",
   "execution_count": 7,
   "metadata": {
    "collapsed": true
   },
   "outputs": [],
   "source": [
    "db = sq.OSM_SQLite(\"demo.db\")"
   ]
  },
  {
   "cell_type": "code",
   "execution_count": 8,
   "metadata": {
    "collapsed": false
   },
   "outputs": [
    {
     "name": "stdout",
     "output_type": "stream",
     "text": [
      "Node(13802141 @ [53.5104366,-3.1942821] {})\n",
      "Node(13802146 @ [53.448266,-3.0242517] {})\n",
      "Node(13802147 @ [53.4165984,-3.0086659] {})\n",
      "Node(13802148 @ [53.4056923,-2.9994948] {})\n",
      "Node(23010534 @ [53.7770793,-3.0541303] {'highway': 'traffic_signals'})\n",
      "Node(283477866 @ [54.0967845,-4.7776061] {})\n",
      "Node(283477867 @ [54.2114586,-4.6541152] {})\n",
      "Node(283477868 @ [54.1196968,-4.6130283] {})\n",
      "Node(283477869 @ [54.222377,-4.5905299] {})\n",
      "Node(283477871 @ [54.2061508,-4.5991698] {})\n"
     ]
    }
   ],
   "source": [
    "for i, node in zip(range(10), db.nodes()):\n",
    "    print(node)"
   ]
  },
  {
   "cell_type": "code",
   "execution_count": 9,
   "metadata": {
    "collapsed": false
   },
   "outputs": [
    {
     "name": "stdout",
     "output_type": "stream",
     "text": [
      "Way(22772385 ->  [292039814, 4375877404, 4375877408, 292039921, 292039778, 13802141, 4448539080, 13802146, 472475209, 472475210, 472475212, 472475213, 472475211, 472475214, 13802147, 453404917, 453404920, 453404923, 453404925, 13802148, 621886775] {'duration': '2:45', 'name': 'Isle of Man - Liverpool', 'operator': 'Isle of Man Steam Packet Company', 'route': 'ferry'})\n",
      "Way(25985909 ->  [283508770, 283480687, 1747483705, 1747483685, 1747483620, 283497137, 1747483673, 1747483715, 283515694, 283515142, 1747483793, 1747483592, 1747483782, 283485720, 1747483726, 1747483618, 283505825, 1747483814, 1747483738, 1747483727, 1747483721, 1747483706, 1747483657, 1747483713, 1747483794, 1747483788, 1747483694, 1747483684, 1747483729, 283519722, 283493902, 1747511279, 283510772, 283483149, 283499649, 283480978] {'source': 'OS Second War Revision 1940. Pub 1942', 'waterway': 'stream'})\n",
      "Way(25985910 ->  [283509867, 283505044] {'name': 'Laurel Avenue', 'highway': 'residential', 'surface': 'paved', 'abutters': 'residential', 'maxspeed': '20 mph'})\n",
      "Way(25985912 ->  [283515609, 962910141, 283511741, 283506297, 283497195, 283491629, 283487231] {'source': 'Isle of Man Government aerial imagery (2001)', 'highway': 'service', 'maxspeed': '30 mph'})\n",
      "Way(25985913 ->  [283499174, 781577540, 781577544, 283505382] {'foot': 'yes', 'name': 'Marine Parade', 'lanes': '2', 'bicycle': 'yes', 'highway': 'unclassified', 'surface': 'asphalt', 'abutters': 'retail', 'maxspeed': '30 mph', 'sidewalk': 'both'})\n",
      "Way(25985915 ->  [283486330, 746330946, 826954675, 826954461, 746330947, 2244295314] {'highway': 'footway', 'surface': 'paved'})\n",
      "Way(25985916 ->  [283486004, 283496434, 283502912, 283508345] {'name': 'Derby Square Lane', 'highway': 'service', 'maxspeed': '30 mph'})\n",
      "Way(25985917 ->  [283490074, 810751896, 283505739, 810750888, 810750343, 810751157, 810751357, 810752110, 810751632, 810750622, 283512512, 283519121, 810750825, 283500697, 283494646, 283514666, 283511853, 283507238, 283523552, 810751200, 810751473, 810751673, 810750663, 810751940, 810750931, 1219059151, 1219059207, 810751137, 810750729, 283517659, 810751875, 810751399, 810750306, 810750867, 810751338, 810750601, 810751609, 810751809, 810750801, 283507694, 283484160, 810752088, 1186420773] {'boundary': 'administrative', 'admin_level': '6'})\n",
      "Way(25985918 ->  [1185304677, 1185304350, 283497835, 283480397] {'highway': 'service'})\n",
      "Way(25985919 ->  [283511310, 2469484449, 2469484450, 2469484451, 283507264, 283522231, 283517667, 283489576, 1721218706, 283482420, 1721218705, 283499613, 1721218704, 1721218703, 283494485] {'ref': 'A22', 'name': 'Ballanard Road', 'highway': 'primary', 'surface': 'paved', 'maxspeed': 'none'})\n"
     ]
    }
   ],
   "source": [
    "for i, node in zip(range(10), db.ways()):\n",
    "    print(node)"
   ]
  },
  {
   "cell_type": "code",
   "execution_count": 10,
   "metadata": {
    "collapsed": false
   },
   "outputs": [
    {
     "name": "stdout",
     "output_type": "stream",
     "text": [
      "Relation(58446 ->  [Member(type='node', ref=470649732, role='label'), Member(type='node', ref=17898859, role='admin_centre'), Member(type='way', ref=28421934, role='outer'), Member(type='way', ref=28421899, role='outer'), Member(type='way', ref=28421901, role='outer'), Member(type='way', ref=144804249, role='outer'), Member(type='way', ref=160844050, role='outer'), Member(type='way', ref=229560139, role='outer'), Member(type='way', ref=141730497, role='outer'), Member(type='way', ref=142982510, role='outer'), Member(type='way', ref=191586935, role='outer'), Member(type='way', ref=191586938, role='outer'), Member(type='way', ref=147077889, role='outer'), Member(type='way', ref=179086121, role='outer'), Member(type='way', ref=147078911, role='outer'), Member(type='way', ref=141730506, role='outer'), Member(type='way', ref=140550301, role='outer'), Member(type='way', ref=369520845, role='outer'), Member(type='way', ref=139314855, role='outer'), Member(type='way', ref=139487830, role='outer'), Member(type='way', ref=139312409, role='outer'), Member(type='way', ref=139315081, role='outer'), Member(type='way', ref=139489045, role='outer'), Member(type='way', ref=139312404, role='outer'), Member(type='way', ref=232929523, role='outer'), Member(type='way', ref=232929524, role='outer'), Member(type='way', ref=232928850, role='outer'), Member(type='way', ref=160844041, role='outer'), Member(type='way', ref=160844037, role='outer'), Member(type='way', ref=160844042, role='outer'), Member(type='way', ref=28421793, role='outer'), Member(type='way', ref=76169009, role='outer'), Member(type='way', ref=160695674, role='outer'), Member(type='way', ref=160695684, role='outer'), Member(type='way', ref=160695681, role='outer'), Member(type='way', ref=160695673, role='outer'), Member(type='way', ref=160695683, role='outer'), Member(type='way', ref=28421711, role='outer'), Member(type='way', ref=28421710, role='outer'), Member(type='way', ref=160695677, role='outer'), Member(type='way', ref=160695678, role='outer'), Member(type='way', ref=160695676, role='outer'), Member(type='way', ref=160695675, role='outer'), Member(type='way', ref=28421704, role='outer'), Member(type='way', ref=28421930, role='outer'), Member(type='way', ref=28421703, role='outer'), Member(type='way', ref=28421702, role='outer'), Member(type='way', ref=28421701, role='outer'), Member(type='way', ref=53636983, role='outer'), Member(type='way', ref=53636985, role='outer'), Member(type='way', ref=28421696, role='outer'), Member(type='way', ref=28421692, role='outer'), Member(type='way', ref=28421691, role='outer'), Member(type='way', ref=28421690, role='outer'), Member(type='way', ref=28421689, role='outer'), Member(type='way', ref=28421688, role='outer'), Member(type='way', ref=28421686, role='outer'), Member(type='way', ref=28421684, role='outer'), Member(type='way', ref=28421683, role='outer'), Member(type='way', ref=28421682, role='outer'), Member(type='way', ref=28421681, role='outer'), Member(type='way', ref=28421927, role='outer'), Member(type='way', ref=160784070, role='outer'), Member(type='way', ref=28421678, role='outer'), Member(type='way', ref=28421926, role='outer'), Member(type='way', ref=28421677, role='outer'), Member(type='way', ref=28421675, role='outer'), Member(type='way', ref=28421674, role='outer'), Member(type='way', ref=28421673, role='outer'), Member(type='way', ref=160844043, role='outer')] {'admin_level': '4', 'alt_name:eo': 'Skotio;Skotujo', 'alt_name:vi': 'Tô Cách Lan;Xcốt-lan', 'boundary': 'administrative', 'is_in:continent': 'Europe', 'is_in:country': 'United Kingdom', 'ISO3166-2': 'GB-SCT', 'name': 'Scotland', 'name:ar': 'إسكتلندا', 'name:ca': 'Escòcia', 'name:cy': 'Yr Alban', 'name:de': 'Schottland', 'name:en': 'Scotland', 'name:eo': 'Skotlando', 'name:es': 'Escocia', 'name:eu': 'Eskozia', 'name:fr': 'Écosse', 'name:fy': 'Skotlân', 'name:gd': 'Alba', 'name:gv': 'Nalbin', 'name:hr': 'Škotska', 'name:hsb': 'Šotiska', 'name:hu': 'Skócia', 'name:ia': 'Scotia', 'name:io': 'Skotia', 'name:it': 'Scozia', 'name:la': 'Scotia', 'name:lt': 'Škotija', 'name:mi': 'Koterana', 'name:nds': 'Schottland', 'name:nl': 'Schotland', 'name:pl': 'Szkocja', 'name:pt': 'Escócia', 'name:ru': 'Шотландия', 'name:sco': 'Scotland', 'name:sk': 'Škótsko', 'name:sv': 'Skottland', 'name:tzl': 'Escot', 'name:vo': 'Skotän', 'official_name:it': 'Nazione di Scozia', 'place': 'state', 'ref:gss': 'S92000003', 'ref:nuts:1': 'UKM', 'source:ref:gss': 'ONS_OpenData', 'type': 'boundary', 'wikidata': 'Q22', 'wikipedia': 'en:Scotland'})\n",
      "Relation(58447 ->  [Member(type='way', ref=263720062, role='outer'), Member(type='way', ref=457735336, role='outer'), Member(type='way', ref=34562551, role='outer'), Member(type='way', ref=45204540, role='outer'), Member(type='way', ref=220076680, role='outer'), Member(type='way', ref=220076675, role='outer'), Member(type='way', ref=217379075, role='outer'), Member(type='way', ref=205966536, role='outer'), Member(type='way', ref=205966518, role='outer'), Member(type='way', ref=205966527, role='outer'), Member(type='way', ref=438310884, role='outer'), Member(type='way', ref=205896941, role='outer'), Member(type='way', ref=205896937, role='outer'), Member(type='way', ref=205896942, role='outer'), Member(type='way', ref=205896943, role='outer'), Member(type='way', ref=205896948, role='outer'), Member(type='way', ref=205896949, role='outer'), Member(type='way', ref=205896946, role='outer'), Member(type='way', ref=327842395, role='outer'), Member(type='way', ref=327842339, role='outer'), Member(type='way', ref=327652000, role='outer'), Member(type='way', ref=327575521, role='outer'), Member(type='way', ref=400030550, role='outer'), Member(type='way', ref=329182124, role='outer'), Member(type='way', ref=400030551, role='outer'), Member(type='way', ref=329182119, role='outer'), Member(type='way', ref=327567854, role='outer'), Member(type='way', ref=103331116, role='outer'), Member(type='way', ref=103244036, role='outer'), Member(type='way', ref=103243855, role='outer'), Member(type='way', ref=103243720, role='outer'), Member(type='way', ref=103242925, role='outer'), Member(type='way', ref=103242652, role='outer'), Member(type='way', ref=103242640, role='outer'), Member(type='way', ref=103242636, role='outer'), Member(type='way', ref=103363497, role='outer'), Member(type='way', ref=103238637, role='outer'), Member(type='way', ref=103234149, role='outer'), Member(type='way', ref=103233907, role='outer'), Member(type='way', ref=103242633, role='outer'), Member(type='way', ref=103083552, role='outer'), Member(type='way', ref=103083491, role='outer'), Member(type='way', ref=103229499, role='outer'), Member(type='way', ref=101122080, role='outer'), Member(type='way', ref=256424766, role='outer'), Member(type='way', ref=101120705, role='outer'), Member(type='way', ref=101120498, role='outer'), Member(type='way', ref=101122079, role='outer'), Member(type='way', ref=101120541, role='outer'), Member(type='way', ref=101120492, role='outer'), Member(type='way', ref=101120374, role='outer'), Member(type='way', ref=101120877, role='outer'), Member(type='way', ref=101068792, role='outer'), Member(type='way', ref=101068692, role='outer'), Member(type='way', ref=101068654, role='outer'), Member(type='way', ref=101068456, role='outer'), Member(type='way', ref=101068379, role='outer'), Member(type='way', ref=100907663, role='outer'), Member(type='way', ref=100907957, role='outer'), Member(type='way', ref=35072901, role='outer'), Member(type='way', ref=128392990, role='outer'), Member(type='way', ref=72894791, role='outer'), Member(type='way', ref=39498763, role='outer'), Member(type='way', ref=28421802, role='outer'), Member(type='way', ref=160784092, role='outer'), Member(type='way', ref=28421801, role='outer'), Member(type='way', ref=28421800, role='outer'), Member(type='way', ref=160784074, role='outer'), Member(type='way', ref=160844040, role='outer'), Member(type='way', ref=160844037, role='outer'), Member(type='way', ref=160844041, role='outer'), Member(type='way', ref=232928850, role='outer'), Member(type='way', ref=232929524, role='outer'), Member(type='way', ref=232929523, role='outer'), Member(type='way', ref=139312404, role='outer'), Member(type='way', ref=139489045, role='outer'), Member(type='way', ref=139315081, role='outer'), Member(type='way', ref=139312409, role='outer'), Member(type='way', ref=139487830, role='outer'), Member(type='way', ref=139314855, role='outer'), Member(type='way', ref=369520845, role='outer'), Member(type='way', ref=140550301, role='outer'), Member(type='way', ref=141730506, role='outer'), Member(type='way', ref=147078911, role='outer'), Member(type='way', ref=179086121, role='outer'), Member(type='way', ref=147077889, role='outer'), Member(type='way', ref=191586938, role='outer'), Member(type='way', ref=191586935, role='outer'), Member(type='way', ref=142982510, role='outer'), Member(type='way', ref=141730497, role='outer'), Member(type='way', ref=229560139, role='outer'), Member(type='way', ref=160844050, role='outer'), Member(type='way', ref=47838397, role='outer'), Member(type='way', ref=28421666, role='outer'), Member(type='way', ref=28421664, role='outer'), Member(type='way', ref=28421663, role='outer'), Member(type='way', ref=28421662, role='outer'), Member(type='way', ref=28421659, role='outer'), Member(type='way', ref=28421653, role='outer'), Member(type='way', ref=28421645, role='outer'), Member(type='way', ref=160784068, role='outer'), Member(type='way', ref=28421639, role='outer'), Member(type='way', ref=53268792, role='outer'), Member(type='way', ref=28421637, role='outer'), Member(type='way', ref=28421635, role='outer'), Member(type='way', ref=28421633, role='outer'), Member(type='way', ref=28421631, role='outer'), Member(type='way', ref=28421630, role='outer'), Member(type='way', ref=28421629, role='outer'), Member(type='way', ref=28421627, role='outer'), Member(type='way', ref=132078258, role='outer'), Member(type='way', ref=132078261, role='outer'), Member(type='way', ref=28421878, role='outer'), Member(type='way', ref=28421876, role='outer'), Member(type='way', ref=160784084, role='outer'), Member(type='way', ref=28421874, role='outer'), Member(type='way', ref=160784081, role='outer'), Member(type='way', ref=28421873, role='outer'), Member(type='way', ref=28421872, role='outer'), Member(type='way', ref=28421871, role='outer'), Member(type='way', ref=28421868, role='outer'), Member(type='way', ref=28421864, role='outer'), Member(type='way', ref=28421861, role='outer'), Member(type='way', ref=28421857, role='outer'), Member(type='way', ref=28421855, role='outer'), Member(type='way', ref=28421853, role='outer'), Member(type='way', ref=28421852, role='outer'), Member(type='way', ref=160696657, role='outer'), Member(type='way', ref=160696656, role='outer'), Member(type='way', ref=160696653, role='outer'), Member(type='way', ref=39498765, role='outer'), Member(type='way', ref=257549576, role='outer'), Member(type='way', ref=46095782, role='outer'), Member(type='way', ref=195449843, role='outer'), Member(type='way', ref=257549577, role='outer'), Member(type='way', ref=257563732, role='outer'), Member(type='way', ref=205959116, role='outer'), Member(type='way', ref=396609752, role='outer'), Member(type='way', ref=396618161, role='outer'), Member(type='way', ref=205976472, role='outer'), Member(type='way', ref=396773075, role='outer'), Member(type='way', ref=27336799, role='outer'), Member(type='way', ref=165549422, role='outer'), Member(type='way', ref=396786057, role='outer'), Member(type='way', ref=165549409, role='outer'), Member(type='way', ref=414381571, role='outer'), Member(type='way', ref=414381572, role='outer'), Member(type='way', ref=28216462, role='outer'), Member(type='way', ref=28216457, role='outer'), Member(type='way', ref=414423561, role='outer'), Member(type='way', ref=28216456, role='outer'), Member(type='way', ref=205729136, role='outer'), Member(type='way', ref=205729123, role='outer'), Member(type='way', ref=205729142, role='outer'), Member(type='way', ref=205729132, role='outer'), Member(type='way', ref=205729141, role='outer'), Member(type='way', ref=205729130, role='outer'), Member(type='way', ref=205729143, role='outer'), Member(type='way', ref=414458714, role='outer'), Member(type='way', ref=414458723, role='outer'), Member(type='way', ref=414458722, role='outer'), Member(type='way', ref=414458716, role='outer'), Member(type='way', ref=414458725, role='outer'), Member(type='way', ref=414462841, role='outer'), Member(type='way', ref=414462838, role='outer'), Member(type='way', ref=414462837, role='outer'), Member(type='way', ref=414485393, role='outer'), Member(type='way', ref=414485382, role='outer'), Member(type='way', ref=414485417, role='outer'), Member(type='way', ref=414485381, role='outer'), Member(type='way', ref=414485386, role='outer'), Member(type='way', ref=414485384, role='outer'), Member(type='way', ref=414485387, role='outer'), Member(type='way', ref=414485414, role='outer'), Member(type='way', ref=414485383, role='outer'), Member(type='way', ref=414489023, role='outer'), Member(type='way', ref=414491535, role='outer'), Member(type='way', ref=414491530, role='outer'), Member(type='way', ref=414494993, role='outer'), Member(type='way', ref=414494990, role='outer'), Member(type='way', ref=414497994, role='outer'), Member(type='way', ref=414497996, role='outer'), Member(type='way', ref=414497995, role='outer'), Member(type='way', ref=416432073, role='outer'), Member(type='way', ref=416432049, role='outer'), Member(type='way', ref=416432048, role='outer'), Member(type='way', ref=414503012, role='outer'), Member(type='way', ref=414508038, role='outer'), Member(type='way', ref=416432071, role='outer'), Member(type='way', ref=416432045, role='outer'), Member(type='way', ref=416432072, role='outer'), Member(type='way', ref=416432047, role='outer'), Member(type='way', ref=416177085, role='outer'), Member(type='way', ref=416432046, role='outer'), Member(type='way', ref=264184620, role='outer'), Member(type='way', ref=414512811, role='outer'), Member(type='way', ref=264184591, role='outer'), Member(type='way', ref=414860929, role='outer'), Member(type='way', ref=409323332, role='outer'), Member(type='way', ref=414862816, role='outer'), Member(type='way', ref=414865917, role='outer'), Member(type='way', ref=414866903, role='outer'), Member(type='way', ref=413739740, role='outer'), Member(type='way', ref=414868320, role='outer'), Member(type='way', ref=413747636, role='outer'), Member(type='way', ref=413746493, role='outer'), Member(type='way', ref=413733133, role='outer'), Member(type='way', ref=409323320, role='outer'), Member(type='way', ref=413733135, role='outer'), Member(type='way', ref=413739752, role='outer'), Member(type='way', ref=414877555, role='outer'), Member(type='way', ref=10530953, role='outer'), Member(type='way', ref=461035991, role='outer'), Member(type='way', ref=51451167, role='outer'), Member(type='way', ref=461034640, role='outer'), Member(type='way', ref=461034639, role='outer'), Member(type='way', ref=461133606, role='outer'), Member(type='way', ref=461129264, role='outer'), Member(type='way', ref=461134949, role='outer'), Member(type='way', ref=461140350, role='outer'), Member(type='way', ref=461142050, role='outer'), Member(type='way', ref=461140353, role='outer'), Member(type='way', ref=461624739, role='outer'), Member(type='way', ref=43341266, role='outer'), Member(type='way', ref=461624736, role='outer'), Member(type='way', ref=463133630, role='outer'), Member(type='way', ref=357570509, role='outer'), Member(type='way', ref=357570505, role='outer'), Member(type='way', ref=327867524, role='outer'), Member(type='way', ref=327867517, role='outer'), Member(type='way', ref=338686049, role='outer'), Member(type='way', ref=338686051, role='outer'), Member(type='way', ref=338685494, role='outer'), Member(type='way', ref=112260448, role='outer'), Member(type='way', ref=264086030, role='outer'), Member(type='way', ref=264086033, role='outer'), Member(type='way', ref=438269870, role='outer'), Member(type='way', ref=264086032, role='outer'), Member(type='way', ref=264083827, role='outer'), Member(type='way', ref=264083825, role='outer'), Member(type='way', ref=264083823, role='outer'), Member(type='way', ref=438275693, role='outer'), Member(type='way', ref=264083822, role='outer'), Member(type='way', ref=264083834, role='outer'), Member(type='way', ref=264083851, role='outer'), Member(type='way', ref=264083843, role='outer'), Member(type='way', ref=264083847, role='outer'), Member(type='way', ref=264083829, role='outer'), Member(type='way', ref=264083828, role='outer'), Member(type='way', ref=264083820, role='outer'), Member(type='way', ref=438292186, role='outer'), Member(type='node', ref=107775, role='admin_centre'), Member(type='way', ref=477245644, role='outer'), Member(type='way', ref=477245642, role='outer'), Member(type='way', ref=477245640, role='outer'), Member(type='way', ref=477245643, role='outer'), Member(type='way', ref=477245641, role='outer'), Member(type='way', ref=477245639, role='outer'), Member(type='way', ref=477338663, role='outer'), Member(type='way', ref=477245638, role='outer'), Member(type='way', ref=477245637, role='outer'), Member(type='way', ref=477245636, role='outer'), Member(type='way', ref=477571098, role='outer'), Member(type='way', ref=477245634, role='outer'), Member(type='way', ref=477245632, role='outer'), Member(type='way', ref=477245630, role='outer'), Member(type='way', ref=477245631, role='outer'), Member(type='way', ref=477245629, role='outer'), Member(type='way', ref=477567261, role='outer'), Member(type='way', ref=477567258, role='outer'), Member(type='way', ref=477567270, role='outer'), Member(type='way', ref=477567273, role='outer'), Member(type='way', ref=477567259, role='outer'), Member(type='way', ref=477567271, role='outer'), Member(type='way', ref=477567257, role='outer')] {'admin_level': '4', 'alt_name:eo': 'Anglio', 'alt_name:ia': 'Anglia', 'alt_name:nds': 'Ingland', 'boundary': 'administrative', 'ISO3166-2': 'GB-ENG', 'name': 'England', 'name:be': 'Англія', 'name:ca': 'Anglaterra', 'name:cs': 'Anglie', 'name:cy': 'Lloegr', 'name:de': 'England', 'name:el': 'Αγγλία', 'name:en': 'England', 'name:eo': 'Anglujo', 'name:es': 'Inglaterra', 'name:fr': 'Angleterre', 'name:fy': 'Ingelân', 'name:gd': 'Sasainn', 'name:gv': 'Sostyn', 'name:hsb': 'Jendźelska', 'name:hu': 'Anglia', 'name:ia': 'Anglaterra', 'name:io': 'Anglia', 'name:it': 'Inghilterra', 'name:la': 'Anglia', 'name:lt': 'Anglija', 'name:nds': 'England', 'name:nl': 'Engeland', 'name:pl': 'Anglia', 'name:pt': 'Inglaterra', 'name:ru': 'Англия', 'name:sk': 'Anglicko', 'name:sv': 'England', 'name:tr': 'İngiltere', 'name:tzl': 'Anglatzara', 'name:uk': 'Англія', 'name:vi': 'Anh', 'name:vo': 'Linglän', 'name:zh': '英格蘭', 'name:zh-classical': '英格蘭', 'name:zh-simplified': '英格兰', 'name:zh-traditional': '英格蘭', 'old_name:vi': 'Anh Quốc', 'ref:gss': 'E92000001', 'source:ref:gss': 'ONS_OpenData', 'type': 'boundary', 'wikidata': 'Q21', 'wikipedia': 'en:England'})\n"
     ]
    }
   ],
   "source": [
    "for i, node in zip(range(2), db.relations()):\n",
    "    print(node)"
   ]
  },
  {
   "cell_type": "markdown",
   "metadata": {},
   "source": [
    "The resulting file is rather large..."
   ]
  },
  {
   "cell_type": "code",
   "execution_count": 11,
   "metadata": {
    "collapsed": false
   },
   "outputs": [
    {
     "data": {
      "text/plain": [
       "15.04296875"
      ]
     },
     "execution_count": 11,
     "metadata": {},
     "output_type": "execute_result"
    }
   ],
   "source": [
    "os.stat(\"demo.db\").st_size / 1024 / 1024"
   ]
  },
  {
   "cell_type": "markdown",
   "metadata": {},
   "source": [
    "Let's look at the average number of tags etc."
   ]
  },
  {
   "cell_type": "code",
   "execution_count": 12,
   "metadata": {
    "collapsed": false
   },
   "outputs": [
    {
     "data": {
      "text/plain": [
       "Counter({0: 186864,\n",
       "         1: 3609,\n",
       "         2: 800,\n",
       "         3: 1355,\n",
       "         4: 299,\n",
       "         5: 146,\n",
       "         6: 66,\n",
       "         7: 48,\n",
       "         8: 49,\n",
       "         9: 17,\n",
       "         10: 13,\n",
       "         11: 5,\n",
       "         12: 4,\n",
       "         13: 2,\n",
       "         14: 2,\n",
       "         15: 1,\n",
       "         39: 1})"
      ]
     },
     "execution_count": 12,
     "metadata": {},
     "output_type": "execute_result"
    }
   ],
   "source": [
    "import collections\n",
    "collections.Counter(len(node.tags) for node in db.nodes())"
   ]
  },
  {
   "cell_type": "code",
   "execution_count": 13,
   "metadata": {
    "collapsed": false
   },
   "outputs": [
    {
     "data": {
      "text/plain": [
       "Counter({0: 186864,\n",
       "         1: 3609,\n",
       "         2: 800,\n",
       "         3: 1355,\n",
       "         4: 299,\n",
       "         5: 146,\n",
       "         6: 66,\n",
       "         7: 48,\n",
       "         8: 49,\n",
       "         9: 17,\n",
       "         10: 13,\n",
       "         11: 5,\n",
       "         12: 4,\n",
       "         13: 2,\n",
       "         14: 2,\n",
       "         15: 1,\n",
       "         39: 1})"
      ]
     },
     "execution_count": 13,
     "metadata": {},
     "output_type": "execute_result"
    }
   ],
   "source": [
    "# Sanity check: this agrees, and is (a bit) slower\n",
    "import osmdigest.digest as digest\n",
    "\n",
    "gen = digest.parse(filename)\n",
    "next(gen), next(gen)\n",
    "collections.Counter(len(element.tags) for element in gen if element.name == \"node\")"
   ]
  },
  {
   "cell_type": "code",
   "execution_count": 14,
   "metadata": {
    "collapsed": false
   },
   "outputs": [
    {
     "data": {
      "text/plain": [
       "Counter({0: 63,\n",
       "         1: 9161,\n",
       "         2: 6260,\n",
       "         3: 2107,\n",
       "         4: 1782,\n",
       "         5: 1723,\n",
       "         6: 1187,\n",
       "         7: 862,\n",
       "         8: 337,\n",
       "         9: 195,\n",
       "         10: 144,\n",
       "         11: 51,\n",
       "         12: 38,\n",
       "         13: 17,\n",
       "         14: 10,\n",
       "         15: 8,\n",
       "         16: 1,\n",
       "         20: 1})"
      ]
     },
     "execution_count": 14,
     "metadata": {},
     "output_type": "execute_result"
    }
   ],
   "source": [
    "collections.Counter(len(node.tags) for node in db.ways())"
   ]
  },
  {
   "cell_type": "code",
   "execution_count": 15,
   "metadata": {
    "collapsed": false
   },
   "outputs": [
    {
     "data": {
      "text/plain": [
       "Counter({0: 5,\n",
       "         1: 1,\n",
       "         2: 71,\n",
       "         3: 21,\n",
       "         4: 24,\n",
       "         5: 37,\n",
       "         6: 30,\n",
       "         7: 8,\n",
       "         8: 9,\n",
       "         9: 1,\n",
       "         11: 2,\n",
       "         12: 2,\n",
       "         13: 1,\n",
       "         14: 1,\n",
       "         15: 1,\n",
       "         19: 1,\n",
       "         21: 1,\n",
       "         43: 1,\n",
       "         47: 1,\n",
       "         49: 1,\n",
       "         137: 1,\n",
       "         152: 1,\n",
       "         265: 1})"
      ]
     },
     "execution_count": 15,
     "metadata": {},
     "output_type": "execute_result"
    }
   ],
   "source": [
    "collections.Counter(len(node.tags) for node in db.relations())"
   ]
  },
  {
   "cell_type": "code",
   "execution_count": 16,
   "metadata": {
    "collapsed": false
   },
   "outputs": [
    {
     "data": {
      "text/plain": [
       "Counter({2: 2637,\n",
       "         3: 1421,\n",
       "         4: 985,\n",
       "         5: 6338,\n",
       "         6: 1555,\n",
       "         7: 2484,\n",
       "         8: 1171,\n",
       "         9: 1685,\n",
       "         10: 522,\n",
       "         11: 850,\n",
       "         12: 358,\n",
       "         13: 603,\n",
       "         14: 274,\n",
       "         15: 366,\n",
       "         16: 207,\n",
       "         17: 247,\n",
       "         18: 182,\n",
       "         19: 172,\n",
       "         20: 141,\n",
       "         21: 140,\n",
       "         22: 94,\n",
       "         23: 88,\n",
       "         24: 87,\n",
       "         25: 76,\n",
       "         26: 49,\n",
       "         27: 70,\n",
       "         28: 64,\n",
       "         29: 42,\n",
       "         30: 54,\n",
       "         31: 44,\n",
       "         32: 42,\n",
       "         33: 37,\n",
       "         34: 38,\n",
       "         35: 41,\n",
       "         36: 30,\n",
       "         37: 35,\n",
       "         38: 16,\n",
       "         39: 34,\n",
       "         40: 27,\n",
       "         41: 25,\n",
       "         42: 26,\n",
       "         43: 23,\n",
       "         44: 14,\n",
       "         45: 16,\n",
       "         46: 19,\n",
       "         47: 18,\n",
       "         48: 18,\n",
       "         49: 12,\n",
       "         50: 16,\n",
       "         51: 22,\n",
       "         52: 15,\n",
       "         53: 13,\n",
       "         54: 9,\n",
       "         55: 13,\n",
       "         56: 9,\n",
       "         57: 10,\n",
       "         58: 10,\n",
       "         59: 9,\n",
       "         60: 9,\n",
       "         61: 11,\n",
       "         62: 15,\n",
       "         63: 6,\n",
       "         64: 7,\n",
       "         65: 5,\n",
       "         66: 7,\n",
       "         67: 8,\n",
       "         68: 8,\n",
       "         69: 4,\n",
       "         70: 8,\n",
       "         71: 9,\n",
       "         72: 10,\n",
       "         73: 6,\n",
       "         74: 4,\n",
       "         75: 5,\n",
       "         76: 1,\n",
       "         77: 5,\n",
       "         78: 1,\n",
       "         79: 3,\n",
       "         80: 8,\n",
       "         81: 3,\n",
       "         82: 7,\n",
       "         83: 2,\n",
       "         84: 5,\n",
       "         85: 6,\n",
       "         86: 4,\n",
       "         87: 2,\n",
       "         88: 4,\n",
       "         89: 5,\n",
       "         90: 2,\n",
       "         91: 3,\n",
       "         92: 2,\n",
       "         93: 3,\n",
       "         94: 2,\n",
       "         95: 2,\n",
       "         96: 4,\n",
       "         97: 4,\n",
       "         99: 1,\n",
       "         100: 2,\n",
       "         101: 1,\n",
       "         102: 4,\n",
       "         103: 5,\n",
       "         105: 2,\n",
       "         106: 1,\n",
       "         107: 3,\n",
       "         108: 3,\n",
       "         109: 1,\n",
       "         111: 7,\n",
       "         113: 4,\n",
       "         114: 3,\n",
       "         115: 1,\n",
       "         116: 1,\n",
       "         117: 2,\n",
       "         118: 2,\n",
       "         119: 2,\n",
       "         120: 4,\n",
       "         121: 1,\n",
       "         122: 3,\n",
       "         123: 1,\n",
       "         124: 2,\n",
       "         125: 1,\n",
       "         126: 3,\n",
       "         127: 1,\n",
       "         128: 1,\n",
       "         130: 2,\n",
       "         131: 1,\n",
       "         132: 2,\n",
       "         133: 5,\n",
       "         134: 1,\n",
       "         136: 1,\n",
       "         137: 1,\n",
       "         139: 2,\n",
       "         140: 2,\n",
       "         141: 1,\n",
       "         143: 1,\n",
       "         144: 1,\n",
       "         147: 3,\n",
       "         148: 1,\n",
       "         149: 1,\n",
       "         151: 2,\n",
       "         152: 1,\n",
       "         153: 1,\n",
       "         154: 2,\n",
       "         156: 1,\n",
       "         157: 1,\n",
       "         158: 1,\n",
       "         160: 2,\n",
       "         161: 2,\n",
       "         162: 2,\n",
       "         163: 1,\n",
       "         167: 1,\n",
       "         168: 2,\n",
       "         169: 1,\n",
       "         181: 1,\n",
       "         184: 1,\n",
       "         185: 1,\n",
       "         189: 1,\n",
       "         190: 1,\n",
       "         192: 2,\n",
       "         195: 1,\n",
       "         196: 1,\n",
       "         199: 1,\n",
       "         206: 2,\n",
       "         213: 1,\n",
       "         218: 1,\n",
       "         220: 1,\n",
       "         223: 1,\n",
       "         230: 1,\n",
       "         231: 1,\n",
       "         237: 1,\n",
       "         244: 1,\n",
       "         251: 1,\n",
       "         275: 1,\n",
       "         283: 1,\n",
       "         288: 1,\n",
       "         307: 1,\n",
       "         317: 1,\n",
       "         319: 1,\n",
       "         333: 1,\n",
       "         337: 2,\n",
       "         358: 1,\n",
       "         391: 1,\n",
       "         404: 1,\n",
       "         437: 1,\n",
       "         773: 1,\n",
       "         1049: 1,\n",
       "         1841: 1})"
      ]
     },
     "execution_count": 16,
     "metadata": {},
     "output_type": "execute_result"
    }
   ],
   "source": [
    "collections.Counter(len(way.nodes) for way in db.ways())"
   ]
  },
  {
   "cell_type": "markdown",
   "metadata": {},
   "source": [
    "## Size of each DB component\n",
    "\n",
    "Here we create a single DB for each component (nodes, tags, ways, ...)  Some thoughts:\n",
    "\n",
    "- There is not much we can about nodes in terms of improving the schema.\n",
    "- Tags on nodes, and everything to do with relations, form a small part of the total.\n",
    "- So focus on ways and their tags."
   ]
  },
  {
   "cell_type": "code",
   "execution_count": 25,
   "metadata": {
    "collapsed": true
   },
   "outputs": [],
   "source": [
    "def make_new_db(name):\n",
    "    try:\n",
    "        os.remove(name)\n",
    "    except: pass\n",
    "    return sqlite3.connect(name)\n",
    "\n",
    "def close_connection(connection, name):\n",
    "    connection.commit()\n",
    "    connection.close()\n",
    "    connection = sqlite3.connect(name, isolation_level=None)\n",
    "    connection.execute(\"vacuum\")\n",
    "    connection.close()\n",
    "    return os.stat(name).st_size / 1024 / 1024"
   ]
  },
  {
   "cell_type": "code",
   "execution_count": 26,
   "metadata": {
    "collapsed": false
   },
   "outputs": [
    {
     "data": {
      "text/plain": [
       "3.72265625"
      ]
     },
     "execution_count": 26,
     "metadata": {},
     "output_type": "execute_result"
    }
   ],
   "source": [
    "connection = make_new_db(\"nodes.db\")\n",
    "connection.execute(\"create table nodes(osm_id integer primary key, longitude integer, latitude integer)\")\n",
    "for res in db.connection.execute(\"select * from nodes\"):\n",
    "    connection.execute(\"insert into nodes values(?,?,?)\", tuple(res))\n",
    "close_connection(connection, \"nodes.db\")"
   ]
  },
  {
   "cell_type": "code",
   "execution_count": 27,
   "metadata": {
    "collapsed": false
   },
   "outputs": [
    {
     "data": {
      "text/plain": [
       "0.58203125"
      ]
     },
     "execution_count": 27,
     "metadata": {},
     "output_type": "execute_result"
    }
   ],
   "source": [
    "connection = make_new_db(\"node_tags.db\")\n",
    "connection.execute(\"create table node_tags(osm_id integer, key text, value text)\")\n",
    "connection.execute(\"create index node_tags_osm_id_idx on node_tags(osm_id)\")\n",
    "for res in db.connection.execute(\"select * from node_tags\"):\n",
    "    connection.execute(\"insert into node_tags values(?,?,?)\", tuple(res))\n",
    "close_connection(connection, \"node_tags.db\")"
   ]
  },
  {
   "cell_type": "code",
   "execution_count": 28,
   "metadata": {
    "collapsed": false
   },
   "outputs": [
    {
     "data": {
      "text/plain": [
       "7.66796875"
      ]
     },
     "execution_count": 28,
     "metadata": {},
     "output_type": "execute_result"
    }
   ],
   "source": [
    "connection = make_new_db(\"ways.db\")\n",
    "connection.execute(\"create table ways(osm_id integer, position integer, noderef integer)\")\n",
    "connection.execute(\"create index ways_idx on ways(osm_id, position)\")\n",
    "for res in db.connection.execute(\"select * from ways\"):\n",
    "    connection.execute(\"insert into ways values(?,?,?)\", tuple(res))\n",
    "close_connection(connection, \"ways.db\")"
   ]
  },
  {
   "cell_type": "code",
   "execution_count": 29,
   "metadata": {
    "collapsed": false
   },
   "outputs": [
    {
     "data": {
      "text/plain": [
       "2.7890625"
      ]
     },
     "execution_count": 29,
     "metadata": {},
     "output_type": "execute_result"
    }
   ],
   "source": [
    "connection = make_new_db(\"way_tags.db\")\n",
    "connection.execute(\"create table way_tags(osm_id integer, key text, value text)\")\n",
    "connection.execute(\"create index way_tags_osm_id_idx on way_tags(osm_id)\")\n",
    "for res in db.connection.execute(\"select * from way_tags\"):\n",
    "    connection.execute(\"insert into way_tags values(?,?,?)\", tuple(res))\n",
    "close_connection(connection, \"way_tags.db\")"
   ]
  },
  {
   "cell_type": "code",
   "execution_count": 30,
   "metadata": {
    "collapsed": false
   },
   "outputs": [
    {
     "data": {
      "text/plain": [
       "0.2109375"
      ]
     },
     "execution_count": 30,
     "metadata": {},
     "output_type": "execute_result"
    }
   ],
   "source": [
    "connection = make_new_db(\"relations.db\")\n",
    "connection.execute(\"create table relations(osm_id integer, member text, memberref integer, role text)\")\n",
    "connection.execute(\"create index relations_idx on relations(osm_id)\")\n",
    "for res in db.connection.execute(\"select * from relations\"):\n",
    "    connection.execute(\"insert into relations values(?,?,?,?)\", tuple(res))\n",
    "close_connection(connection, \"relations.db\")"
   ]
  },
  {
   "cell_type": "code",
   "execution_count": 31,
   "metadata": {
    "collapsed": false
   },
   "outputs": [
    {
     "data": {
      "text/plain": [
       "0.08203125"
      ]
     },
     "execution_count": 31,
     "metadata": {},
     "output_type": "execute_result"
    }
   ],
   "source": [
    "connection = make_new_db(\"relation_tags.db\")\n",
    "connection.execute(\"create table relation_tags(osm_id integer, key text, value text)\")\n",
    "connection.execute(\"create index relation_tags_osm_id_idx on relation_tags(osm_id)\")\n",
    "for res in db.connection.execute(\"select * from relation_tags\"):\n",
    "    connection.execute(\"insert into relation_tags values(?,?,?)\", tuple(res))\n",
    "close_connection(connection, \"relation_tags.db\")"
   ]
  },
  {
   "cell_type": "markdown",
   "metadata": {},
   "source": [
    "Change the schema for ways."
   ]
  },
  {
   "cell_type": "code",
   "execution_count": 41,
   "metadata": {
    "collapsed": false
   },
   "outputs": [],
   "source": [
    "def chunk(nodes, length):\n",
    "    i = 0\n",
    "    out = []\n",
    "    part = []\n",
    "    while i < len(nodes):\n",
    "        part.append(nodes[i])\n",
    "        i += 1\n",
    "        if i == len(nodes):\n",
    "            while len(part) < length:\n",
    "                part.append(None)\n",
    "            out.append(part)\n",
    "            break\n",
    "        if len(part) == length:\n",
    "            out.append(part)\n",
    "            part = []\n",
    "    return out\n",
    "    \n",
    "assert(chunk([1,2,3,4,5,6], 2) == [[1,2],[3,4],[5,6]])\n",
    "assert(chunk([1,2,3,4,5], 2) == [[1,2],[3,4],[5,None]])"
   ]
  },
  {
   "cell_type": "code",
   "execution_count": 46,
   "metadata": {
    "collapsed": false
   },
   "outputs": [
    {
     "data": {
      "text/plain": [
       "7.66796875"
      ]
     },
     "execution_count": 46,
     "metadata": {},
     "output_type": "execute_result"
    }
   ],
   "source": [
    "length = 10\n",
    "\n",
    "connection = make_new_db(\"ways_trial.db\")\n",
    "create_string = (\"create table ways(osm_id integer, position integer,\"\n",
    "    + \", \".join([\"noderef\"+str(i)+\" integer\" for i in range(length)])\n",
    "    + \")\" )\n",
    "insert_string = (\"insert into ways values (?,?,\"\n",
    "    + \",\".join([\"?\"]*length) + \")\" )\n",
    "connection.execute(create_string)\n",
    "connection.execute(\"create index ways_idx on ways(osm_id, position)\")\n",
    "for way in db.ways():\n",
    "    for pos, part in enumerate(chunk(way.nodes, length)):\n",
    "        data = (way.osm_id, pos, *part)\n",
    "        connection.execute(insert_string, data)\n",
    "close_connection(connection, \"ways.db\")"
   ]
  },
  {
   "cell_type": "code",
   "execution_count": 50,
   "metadata": {
    "collapsed": false
   },
   "outputs": [],
   "source": [
    "conn = sqlite3.connect(\"ways_trial.db\")\n"
   ]
  },
  {
   "cell_type": "code",
   "execution_count": null,
   "metadata": {
    "collapsed": true
   },
   "outputs": [],
   "source": []
  }
 ],
 "metadata": {
  "kernelspec": {
   "display_name": "Python 3",
   "language": "python",
   "name": "python3"
  },
  "language_info": {
   "codemirror_mode": {
    "name": "ipython",
    "version": 3
   },
   "file_extension": ".py",
   "mimetype": "text/x-python",
   "name": "python",
   "nbconvert_exporter": "python",
   "pygments_lexer": "ipython3",
   "version": "3.6.0"
  }
 },
 "nbformat": 4,
 "nbformat_minor": 2
}
