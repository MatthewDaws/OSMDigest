{
 "cells": [
  {
   "cell_type": "code",
   "execution_count": 1,
   "metadata": {
    "collapsed": true
   },
   "outputs": [],
   "source": [
    "%matplotlib inline\n",
    "import matplotlib.pyplot as plt\n",
    "\n",
    "import numpy as np\n",
    "import pandas as pd\n",
    "import geopandas as gpd"
   ]
  },
  {
   "cell_type": "markdown",
   "metadata": {},
   "source": [
    "# How to build a GeoDataFrame\n",
    "\n",
    "- See https://gist.github.com/sgillies/2217756 for the \"`__geo_interface__`\".\n",
    "- But this basically copies GeoJSON, for which see https://tools.ietf.org/html/rfc7946\n",
    "\n",
    "It's then as simple as this..."
   ]
  },
  {
   "cell_type": "code",
   "execution_count": 22,
   "metadata": {
    "collapsed": false
   },
   "outputs": [
    {
     "data": {
      "text/html": [
       "<div>\n",
       "<table border=\"1\" class=\"dataframe\">\n",
       "  <thead>\n",
       "    <tr style=\"text-align: right;\">\n",
       "      <th></th>\n",
       "      <th>geometry</th>\n",
       "      <th>prop0</th>\n",
       "      <th>prop1</th>\n",
       "    </tr>\n",
       "  </thead>\n",
       "  <tbody>\n",
       "    <tr>\n",
       "      <th>0</th>\n",
       "      <td>POINT (102 0.5)</td>\n",
       "      <td>value0</td>\n",
       "      <td>value1</td>\n",
       "    </tr>\n",
       "  </tbody>\n",
       "</table>\n",
       "</div>"
      ],
      "text/plain": [
       "          geometry   prop0   prop1\n",
       "0  POINT (102 0.5)  value0  value1"
      ]
     },
     "execution_count": 22,
     "metadata": {},
     "output_type": "execute_result"
    }
   ],
   "source": [
    "features = [{#\"type\": \"Feature\",\n",
    "           \"geometry\": {\n",
    "               \"type\": \"Point\",\n",
    "               \"coordinates\": [102.0, 0.5]\n",
    "           },\n",
    "           \"properties\": {\n",
    "               \"prop0\": \"value0\", \"prop1\": \"value1\"\n",
    "           }\n",
    "       }]\n",
    "\n",
    "data = gpd.GeoDataFrame.from_features(features)\n",
    "data"
   ]
  },
  {
   "cell_type": "code",
   "execution_count": 14,
   "metadata": {
    "collapsed": false
   },
   "outputs": [
    {
     "data": {
      "image/svg+xml": [
       "<svg xmlns=\"http://www.w3.org/2000/svg\" xmlns:xlink=\"http://www.w3.org/1999/xlink\" width=\"100.0\" height=\"100.0\" viewBox=\"101.0 -0.5 2.0 2.0\" preserveAspectRatio=\"xMinYMin meet\"><g transform=\"matrix(1,0,0,-1,0,1.0)\"><circle cx=\"102.0\" cy=\"0.5\" r=\"0.06\" stroke=\"#555555\" stroke-width=\"0.02\" fill=\"#66cc99\" opacity=\"0.6\" /></g></svg>"
      ],
      "text/plain": [
       "<shapely.geometry.point.Point at 0x7f2e03dd78d0>"
      ]
     },
     "execution_count": 14,
     "metadata": {},
     "output_type": "execute_result"
    }
   ],
   "source": [
    "data.ix[0].geometry"
   ]
  },
  {
   "cell_type": "code",
   "execution_count": 23,
   "metadata": {
    "collapsed": false
   },
   "outputs": [
    {
     "data": {
      "text/html": [
       "<div>\n",
       "<table border=\"1\" class=\"dataframe\">\n",
       "  <thead>\n",
       "    <tr style=\"text-align: right;\">\n",
       "      <th></th>\n",
       "      <th>geometry</th>\n",
       "      <th>prop0</th>\n",
       "    </tr>\n",
       "  </thead>\n",
       "  <tbody>\n",
       "    <tr>\n",
       "      <th>0</th>\n",
       "      <td>LINESTRING (102 0.5, 104 3, 103 2)</td>\n",
       "      <td>value0</td>\n",
       "    </tr>\n",
       "  </tbody>\n",
       "</table>\n",
       "</div>"
      ],
      "text/plain": [
       "                             geometry   prop0\n",
       "0  LINESTRING (102 0.5, 104 3, 103 2)  value0"
      ]
     },
     "execution_count": 23,
     "metadata": {},
     "output_type": "execute_result"
    }
   ],
   "source": [
    "features = [{#\"type\": \"Feature\",\n",
    "           \"geometry\": {\n",
    "               \"type\": \"LineString\",\n",
    "               \"coordinates\": [[102.0, 0.5], [104, 3], [103, 2]]\n",
    "           },\n",
    "           \"properties\": {\n",
    "               \"prop0\": \"value0\"\n",
    "           }\n",
    "       }]\n",
    "\n",
    "data = gpd.GeoDataFrame.from_features(features)\n",
    "data"
   ]
  },
  {
   "cell_type": "code",
   "execution_count": 18,
   "metadata": {
    "collapsed": false
   },
   "outputs": [
    {
     "data": {
      "image/svg+xml": [
       "<svg xmlns=\"http://www.w3.org/2000/svg\" xmlns:xlink=\"http://www.w3.org/1999/xlink\" width=\"100.0\" height=\"100.0\" viewBox=\"101.9 0.4 2.1999999999999886 2.7\" preserveAspectRatio=\"xMinYMin meet\"><g transform=\"matrix(1,0,0,-1,0,3.5)\"><polyline fill=\"none\" stroke=\"#66cc99\" stroke-width=\"0.054000000000000006\" points=\"102.0,0.5 104.0,3.0 103.0,2.0\" opacity=\"0.8\" /></g></svg>"
      ],
      "text/plain": [
       "<shapely.geometry.linestring.LineString at 0x7f2e03d5bf60>"
      ]
     },
     "execution_count": 18,
     "metadata": {},
     "output_type": "execute_result"
    }
   ],
   "source": [
    "data.ix[0].geometry"
   ]
  },
  {
   "cell_type": "code",
   "execution_count": 24,
   "metadata": {
    "collapsed": false
   },
   "outputs": [
    {
     "data": {
      "text/html": [
       "<div>\n",
       "<table border=\"1\" class=\"dataframe\">\n",
       "  <thead>\n",
       "    <tr style=\"text-align: right;\">\n",
       "      <th></th>\n",
       "      <th>geometry</th>\n",
       "      <th>prop0</th>\n",
       "      <th>prop1</th>\n",
       "    </tr>\n",
       "  </thead>\n",
       "  <tbody>\n",
       "    <tr>\n",
       "      <th>0</th>\n",
       "      <td>POLYGON ((102 0.5, 104 3, 102 2, 102 0.5))</td>\n",
       "      <td>value0</td>\n",
       "      <td>value1</td>\n",
       "    </tr>\n",
       "  </tbody>\n",
       "</table>\n",
       "</div>"
      ],
      "text/plain": [
       "                                     geometry   prop0   prop1\n",
       "0  POLYGON ((102 0.5, 104 3, 102 2, 102 0.5))  value0  value1"
      ]
     },
     "execution_count": 24,
     "metadata": {},
     "output_type": "execute_result"
    }
   ],
   "source": [
    "features = [{#\"type\": \"Feature\",\n",
    "           \"geometry\": {\n",
    "               \"type\": \"Polygon\",\n",
    "               \"coordinates\": [[[102.0, 0.5], [104, 3], [102, 2], [102,0.5]]]\n",
    "           },\n",
    "           \"properties\": {\n",
    "               \"prop0\": \"value0\", \"prop1\": \"value1\"\n",
    "           }\n",
    "       }]\n",
    "\n",
    "data = gpd.GeoDataFrame.from_features(features)\n",
    "data"
   ]
  },
  {
   "cell_type": "code",
   "execution_count": 20,
   "metadata": {
    "collapsed": false
   },
   "outputs": [
    {
     "data": {
      "text/plain": [
       "<matplotlib.axes._subplots.AxesSubplot at 0x7f2e03d3c470>"
      ]
     },
     "execution_count": 20,
     "metadata": {},
     "output_type": "execute_result"
    },
    {
     "data": {
      "image/png": "[encoded data removed]",
      "text/plain": [
       "<matplotlib.figure.Figure at 0x7f2e03dbf4e0>"
      ]
     },
     "metadata": {},
     "output_type": "display_data"
    }
   ],
   "source": [
    "data.plot()"
   ]
  },
  {
   "cell_type": "code",
   "execution_count": 21,
   "metadata": {
    "collapsed": false
   },
   "outputs": [
    {
     "data": {
      "image/svg+xml": [
       "<svg xmlns=\"http://www.w3.org/2000/svg\" xmlns:xlink=\"http://www.w3.org/1999/xlink\" width=\"100.0\" height=\"100.0\" viewBox=\"101.9 0.4 2.1999999999999886 2.7\" preserveAspectRatio=\"xMinYMin meet\"><g transform=\"matrix(1,0,0,-1,0,3.5)\"><path fill-rule=\"evenodd\" fill=\"#66cc99\" stroke=\"#555555\" stroke-width=\"0.054000000000000006\" opacity=\"0.6\" d=\"M 102.0,0.5 L 104.0,3.0 L 102.0,2.0 L 102.0,0.5 z\" /></g></svg>"
      ],
      "text/plain": [
       "<shapely.geometry.polygon.Polygon at 0x7f2e03d3c710>"
      ]
     },
     "execution_count": 21,
     "metadata": {},
     "output_type": "execute_result"
    }
   ],
   "source": [
    "data.ix[0].geometry"
   ]
  },
  {
   "cell_type": "markdown",
   "metadata": {},
   "source": [
    "## Notes\n",
    "\n",
    "Some things that jumped out at me as I read the GeoJSON spec:\n",
    "\n",
    "- A \"Polygon\" is allowed to contain holes.  The \"outer\" edge should be ordered counter-clockwise, and each \"inner\" edge (i.e. a \"hole\") should be clockwise.\n",
    "- If a polygon contains more than one array of points, then the first array is the outer edge, and the rest inner edges.\n",
    "- Lines crossing the anti-meridian need to be split.  (I wonder what OSM does?)"
   ]
  },
  {
   "cell_type": "markdown",
   "metadata": {
    "collapsed": true
   },
   "source": [
    "# Worked example\n",
    "\n",
    "Extract all buildings from the Illinois data.\n",
    "\n",
    "We assume the notebook \"Pythonify\" has been run, so that the files `illinois_nodes_packed.pic.xz` etc. are present."
   ]
  },
  {
   "cell_type": "code",
   "execution_count": 2,
   "metadata": {
    "collapsed": true
   },
   "outputs": [],
   "source": [
    "# Allow to import without installing\n",
    "import sys\n",
    "sys.path.insert(0, \"..\")"
   ]
  },
  {
   "cell_type": "code",
   "execution_count": 3,
   "metadata": {
    "collapsed": true
   },
   "outputs": [],
   "source": [
    "import osmdigest.pythonify as pythonify"
   ]
  },
  {
   "cell_type": "code",
   "execution_count": 4,
   "metadata": {
    "collapsed": true
   },
   "outputs": [],
   "source": [
    "ways = pythonify.unpickle(\"illinois_ways.pic.xz\")\n",
    "tags = pythonify.unpickle(\"illinois_tags.pic.xz\")"
   ]
  },
  {
   "cell_type": "code",
   "execution_count": 7,
   "metadata": {
    "collapsed": false
   },
   "outputs": [
    {
     "data": {
      "text/plain": [
       "False"
      ]
     },
     "execution_count": 7,
     "metadata": {},
     "output_type": "execute_result"
    }
   ],
   "source": [
    "# Check!!\n",
    "\"osm_id\" in tags.all_way_tag_keys"
   ]
  },
  {
   "cell_type": "code",
   "execution_count": 8,
   "metadata": {
    "collapsed": false
   },
   "outputs": [
    {
     "data": {
      "text/plain": [
       "{'Chicago Biology and  Medicine',\n",
       " 'Commercial',\n",
       " 'Community_Center',\n",
       " 'Condominium',\n",
       " 'Department_Building',\n",
       " 'Faraday Hall',\n",
       " 'Fort',\n",
       " 'Gazebo',\n",
       " 'Gym',\n",
       " 'Lucky Dog',\n",
       " 'Mausoleum',\n",
       " 'Office_Space',\n",
       " 'R3 Environmental',\n",
       " 'Rec_Center',\n",
       " 'Residential,_business,_restaurants',\n",
       " 'YMCA',\n",
       " 'Yoga_Studio',\n",
       " 'amphitheatre',\n",
       " 'apartments',\n",
       " 'barn',\n",
       " 'barn;garage',\n",
       " 'barracks',\n",
       " 'boathouse',\n",
       " 'brewery',\n",
       " 'bunker',\n",
       " 'cabin',\n",
       " 'canopy',\n",
       " 'carport',\n",
       " 'central_office',\n",
       " 'chapel',\n",
       " 'church',\n",
       " 'cinema',\n",
       " 'civic',\n",
       " 'collapsed',\n",
       " 'college',\n",
       " 'commercial',\n",
       " 'commercial;office',\n",
       " 'commercial;roof',\n",
       " 'condominium',\n",
       " 'construction',\n",
       " 'convent',\n",
       " 'corridor',\n",
       " 'demolished',\n",
       " 'detached',\n",
       " 'dormitory',\n",
       " 'entrance',\n",
       " 'exterior_walls_only',\n",
       " 'factory',\n",
       " 'farm',\n",
       " 'farm_auxiliary',\n",
       " 'field_house',\n",
       " 'flats',\n",
       " 'foundation',\n",
       " 'garage',\n",
       " 'garage;house',\n",
       " 'garage;shed',\n",
       " 'garages',\n",
       " 'gazebo',\n",
       " 'glasshouse',\n",
       " 'grandstand',\n",
       " 'greenhouse',\n",
       " 'hangar',\n",
       " 'historic',\n",
       " 'hospital',\n",
       " 'hotel',\n",
       " 'house',\n",
       " 'hut',\n",
       " 'industrial',\n",
       " 'institutional',\n",
       " 'key',\n",
       " 'kindergarten',\n",
       " 'library',\n",
       " 'manufacture',\n",
       " 'mixed_use',\n",
       " 'mobile',\n",
       " 'mobile_home',\n",
       " 'monastery',\n",
       " 'mosque',\n",
       " 'museum',\n",
       " 'no',\n",
       " 'observation_tower',\n",
       " 'office',\n",
       " 'pavilion',\n",
       " 'place_of_worship',\n",
       " 'post_office',\n",
       " 'prison',\n",
       " 'public',\n",
       " 'pumping_station',\n",
       " 'razed',\n",
       " 'residential',\n",
       " 'retail',\n",
       " 'roof',\n",
       " 'roof_overhang',\n",
       " 'rppf',\n",
       " 'ruins',\n",
       " 'ruins;barn',\n",
       " 'salt_dome',\n",
       " 'school',\n",
       " 'service',\n",
       " 'sh',\n",
       " 'shed',\n",
       " 'shelter',\n",
       " 'shop',\n",
       " 'shopping_center',\n",
       " 'silo',\n",
       " 'sn',\n",
       " 'stable',\n",
       " 'stadium',\n",
       " 'static_caravan',\n",
       " 'station',\n",
       " 'storage',\n",
       " 'storage_tank',\n",
       " 'store',\n",
       " 'storefront',\n",
       " 'studio',\n",
       " 'supermarket',\n",
       " 'synagogue',\n",
       " 'temple',\n",
       " 'tent',\n",
       " 'terrace',\n",
       " 'tower',\n",
       " 'train_station',\n",
       " 'transportation',\n",
       " 'undefined',\n",
       " 'university',\n",
       " 'warehouse',\n",
       " 'yes',\n",
       " 'yess'}"
      ]
     },
     "execution_count": 8,
     "metadata": {},
     "output_type": "execute_result"
    }
   ],
   "source": [
    "# Lots and lots of values!!\n",
    "set( value for value, _ in tags.ways_from_key(\"building\") )"
   ]
  },
  {
   "cell_type": "code",
   "execution_count": 9,
   "metadata": {
    "collapsed": false
   },
   "outputs": [
    {
     "data": {
      "text/plain": [
       "1063568"
      ]
     },
     "execution_count": 9,
     "metadata": {},
     "output_type": "execute_result"
    }
   ],
   "source": [
    "building_ids = [ osm_id for _, osm_id in tags.ways_from_key(\"building\") ]\n",
    "len(building_ids)"
   ]
  },
  {
   "cell_type": "code",
   "execution_count": 10,
   "metadata": {
    "collapsed": false
   },
   "outputs": [],
   "source": [
    "nodes = pythonify.unpickle(\"illinois_nodes_packed.pic.xz\")"
   ]
  },
  {
   "cell_type": "code",
   "execution_count": 11,
   "metadata": {
    "collapsed": true
   },
   "outputs": [],
   "source": [
    "tags_by_id = pythonify.TagsById(tags)"
   ]
  },
  {
   "cell_type": "code",
   "execution_count": 12,
   "metadata": {
    "collapsed": false
   },
   "outputs": [],
   "source": [
    "features = []\n",
    "for osm_id in building_ids:\n",
    "    feature = {\"properties\": {\"osm_id\" : osm_id}}\n",
    "    feature[\"geometry\"] = {\"type\": \"Polygon\", \"coordinates\": []}\n",
    "    feature[\"geometry\"][\"coordinates\"] = [[ list(nodes[node_id]) for node_id in ways[osm_id] ]]\n",
    "    for key, value in tags_by_id.way(osm_id).items():\n",
    "        feature[\"properties\"][key] = value\n",
    "    features.append(feature)"
   ]
  },
  {
   "cell_type": "code",
   "execution_count": 13,
   "metadata": {
    "collapsed": false
   },
   "outputs": [
    {
     "data": {
      "text/plain": [
       "{'geometry': {'coordinates': [[[-88.0083629, 41.7932179],\n",
       "    [-88.0083166, 41.7926956],\n",
       "    [-88.0084497, 41.7926899],\n",
       "    [-88.0093472, 41.7926511],\n",
       "    [-88.0093877, 41.7931661],\n",
       "    [-88.0089168, 41.7931893],\n",
       "    [-88.0083629, 41.7932179]]],\n",
       "  'type': 'Polygon'},\n",
       " 'properties': {'amenity': 'parking',\n",
       "  'building': 'yes',\n",
       "  'osm_id': 4374907,\n",
       "  'parking': 'multi-storey'}}"
      ]
     },
     "execution_count": 13,
     "metadata": {},
     "output_type": "execute_result"
    }
   ],
   "source": [
    "features[0]"
   ]
  },
  {
   "cell_type": "markdown",
   "metadata": {},
   "source": [
    "Of course, the data would end up being noisy!!  Checking these two way ids out on openstreetmap.org shows that they are indeed composed of just 2 points.\n",
    "\n",
    "We'll ignore them, as geopanadas cannot cope."
   ]
  },
  {
   "cell_type": "code",
   "execution_count": 14,
   "metadata": {
    "collapsed": false
   },
   "outputs": [
    {
     "name": "stdout",
     "output_type": "stream",
     "text": [
      "Odd geometry for 144710191\n",
      "Odd geometry for 394123882\n"
     ]
    }
   ],
   "source": [
    "odd = []\n",
    "for i, feat in enumerate(features):\n",
    "    if len(feat[\"geometry\"][\"coordinates\"][0]) <= 2:\n",
    "        print(\"Odd geometry for {}\".format(feat[\"properties\"][\"osm_id\"]))\n",
    "        odd.append(i)\n",
    "\n",
    "for i, index in enumerate(odd):\n",
    "    del features[index - i]"
   ]
  },
  {
   "cell_type": "code",
   "execution_count": 15,
   "metadata": {
    "collapsed": false
   },
   "outputs": [],
   "source": [
    "gdf = gpd.GeoDataFrame.from_features(features)"
   ]
  },
  {
   "cell_type": "code",
   "execution_count": 16,
   "metadata": {
    "collapsed": false
   },
   "outputs": [
    {
     "data": {
      "image/svg+xml": [
       "<svg xmlns=\"http://www.w3.org/2000/svg\" xmlns:xlink=\"http://www.w3.org/1999/xlink\" width=\"100.0\" height=\"100.0\" viewBox=\"-87.746301648 41.783176352 0.006473595999992199 0.006681096000008324\" preserveAspectRatio=\"xMinYMin meet\"><g transform=\"matrix(1,0,0,-1,0,83.5730338)\"><path fill-rule=\"evenodd\" fill=\"#66cc99\" stroke=\"#555555\" stroke-width=\"0.0001336219200001665\" opacity=\"0.6\" d=\"M -87.7424176,41.7855911 L -87.7431765,41.7849958 L -87.743156,41.7849803 L -87.7434739,41.7847358 L -87.7435634,41.7847996 L -87.7435956,41.7847718 L -87.7437106,41.7848543 L -87.7436777,41.7848831 L -87.7437723,41.7849496 L -87.7434571,41.7851956 L -87.7434363,41.7851836 L -87.7419863,41.786328 L -87.7419732,41.7863383 L -87.7419776,41.786506 L -87.7420529,41.7865052 L -87.7420617,41.7867805 L -87.7420285,41.7867813 L -87.7420443,41.7872888 L -87.741933,41.7872893 L -87.7419356,41.7876097 L -87.7422142,41.7878088 L -87.7422668,41.7878464 L -87.7423076,41.7878756 L -87.742432,41.7879644 L -87.7425292,41.788034 L -87.7427322,41.788179 L -87.7428241,41.7882447 L -87.7432774,41.7882327 L -87.7432788,41.7881657 L -87.7434947,41.7881607 L -87.7446098,41.7872773 L -87.7445052,41.7872017 L -87.7446843,41.7870592 L -87.7447942,41.7871328 L -87.7454501,41.7866176 L -87.74543,41.7866034 L -87.7457479,41.7863544 L -87.7458433,41.7864221 L -87.7458769,41.7863958 L -87.7459925,41.7864778 L -87.7459589,41.7865041 L -87.7460542,41.7865718 L -87.7457363,41.7868208 L -87.7457152,41.7868058 L -87.7450467,41.787336 L -87.7451592,41.7874152 L -87.7449531,41.787578 L -87.7448393,41.7874979 L -87.7436555,41.7884331 L -87.742415,41.7884561 L -87.7423901,41.7884755 L -87.7422911,41.7885526 L -87.7421125,41.7886917 L -87.7419771,41.7887971 L -87.7419832,41.789015 L -87.742026,41.789015 L -87.7420448,41.789604 L -87.7418067,41.78961 L -87.7417938,41.7892481 L -87.741769,41.7892476 L -87.741762,41.7889411 L -87.7416359,41.7889449 L -87.7416341,41.788913 L -87.7416128,41.7889137 L -87.741594,41.7884332 L -87.7415674,41.7884136 L -87.7412906,41.7884203 L -87.7412295,41.7884213 L -87.7409505,41.7884285 L -87.7407735,41.7884331 L -87.7407709,41.7885984 L -87.7407521,41.7889119 L -87.7407394,41.7890247 L -87.7407297,41.7890986 L -87.7407263,41.7891247 L -87.7404611,41.7891291 L -87.7404604,41.7891074 L -87.7402814,41.7891107 L -87.7402809,41.7890966 L -87.7401963,41.7890984 L -87.7402001,41.7892359 L -87.7401926,41.789236 L -87.7401285,41.789237 L -87.740121,41.788956 L -87.7401842,41.7889551 L -87.7401713,41.7885352 L -87.7400908,41.7885364 L -87.7400874,41.7884079 L -87.7401678,41.7884067 L -87.7401672,41.7883842 L -87.7401013,41.7883852 L -87.7400975,41.7882447 L -87.7401634,41.7882437 L -87.7401496,41.7877322 L -87.7400786,41.7877333 L -87.7400755,41.7876208 L -87.7401466,41.7876197 L -87.740139,41.7873393 L -87.7402493,41.787338 L -87.7402359,41.7869249 L -87.7407223,41.7869215 L -87.7407337,41.7875212 L -87.7406877,41.7875215 L -87.7406884,41.7875767 L -87.7406713,41.787577 L -87.7406746,41.787593 L -87.7407062,41.7877477 L -87.7407276,41.7878747 L -87.7407518,41.7880767 L -87.7407674,41.7882659 L -87.740945,41.7882623 L -87.7412188,41.7882567 L -87.7412364,41.7882564 L -87.7412366,41.7882363 L -87.7412805,41.7882353 L -87.741585,41.78823 L -87.7416776,41.788152 L -87.7417279,41.7881514 L -87.7417119,41.7874141 L -87.7417313,41.7874135 L -87.7416944,41.7861633 L -87.7417615,41.7861098 L -87.7418543,41.7860358 L -87.7417951,41.7859941 L -87.7418274,41.7859683 L -87.7417536,41.7859158 L -87.7416868,41.7858691 L -87.741678,41.7856092 L -87.7417118,41.7856092 L -87.7417088,41.7854724 L -87.7416861,41.7854711 L -87.7416825,41.785363 L -87.7417063,41.7853626 L -87.741704,41.7852935 L -87.7416846,41.7852938 L -87.7416825,41.7852296 L -87.7416729,41.7852298 L -87.7416725,41.7852157 L -87.7417015,41.7852151 L -87.7416989,41.7851355 L -87.7416751,41.7851359 L -87.741672,41.7850407 L -87.7416931,41.7850403 L -87.7416858,41.7848153 L -87.7416646,41.7848157 L -87.741661,41.7847065 L -87.7416824,41.7847047 L -87.7416889,41.7846357 L -87.7416712,41.7846344 L -87.7416796,41.784567 L -87.7416663,41.7845661 L -87.7416679,41.7845529 L -87.741699,41.7845551 L -87.7417032,41.7845227 L -87.7417156,41.7844669 L -87.7417008,41.7844643 L -87.7417305,41.7843757 L -87.7417531,41.7843779 L -87.7417964,41.7841773 L -87.7418938,41.784017 L -87.742311,41.7834238 L -87.7423357,41.783434 L -87.7420723,41.783806 L -87.7420954,41.7838157 L -87.7420141,41.7839362 L -87.7420966,41.7839654 L -87.7420913,41.7839827 L -87.7421631,41.7840509 L -87.7421946,41.7841124 L -87.7422029,41.7841851 L -87.7421816,41.7842471 L -87.742137,41.7843033 L -87.7420764,41.7843485 L -87.7419921,41.7843764 L -87.741922,41.7843857 L -87.7419202,41.7844065 L -87.7418632,41.7844021 L -87.7418781,41.7843312 L -87.7418531,41.784329 L -87.7418781,41.7842072 L -87.7418508,41.7842063 L -87.7417333,41.7846773 L -87.7417633,41.7856074 L -87.7424176,41.7855911 z\" /></g></svg>"
      ],
      "text/plain": [
       "<shapely.geometry.polygon.Polygon at 0x7f8e1c10ff28>"
      ]
     },
     "execution_count": 16,
     "metadata": {},
     "output_type": "execute_result"
    }
   ],
   "source": [
    "gdf.ix[2].geometry"
   ]
  },
  {
   "cell_type": "code",
   "execution_count": 17,
   "metadata": {
    "collapsed": false
   },
   "outputs": [],
   "source": [
    "gdf = gdf.set_index(\"osm_id\")"
   ]
  },
  {
   "cell_type": "code",
   "execution_count": 18,
   "metadata": {
    "collapsed": false
   },
   "outputs": [
    {
     "ename": "KeyboardInterrupt",
     "evalue": "",
     "output_type": "error",
     "traceback": [
      "\u001b[0;31m---------------------------------------------------------------------------\u001b[0m",
      "\u001b[0;31mKeyboardInterrupt\u001b[0m                         Traceback (most recent call last)",
      "\u001b[0;32m<ipython-input-18-0becb3c9944a>\u001b[0m in \u001b[0;36m<module>\u001b[0;34m()\u001b[0m\n\u001b[0;32m----> 1\u001b[0;31m \u001b[0mgdf\u001b[0m\u001b[0;34m.\u001b[0m\u001b[0mto_file\u001b[0m\u001b[0;34m(\u001b[0m\u001b[0;34m\"test\"\u001b[0m\u001b[0;34m)\u001b[0m\u001b[0;34m\u001b[0m\u001b[0m\n\u001b[0m",
      "\u001b[0;32m/nfs/see-fs-02_users/matmdpd/anaconda3/lib/python3.6/site-packages/geopandas/geodataframe.py\u001b[0m in \u001b[0;36mto_file\u001b[0;34m(self, filename, driver, schema, **kwargs)\u001b[0m\n\u001b[1;32m    341\u001b[0m         \"\"\"\n\u001b[1;32m    342\u001b[0m         \u001b[0;32mfrom\u001b[0m \u001b[0mgeopandas\u001b[0m\u001b[0;34m.\u001b[0m\u001b[0mio\u001b[0m\u001b[0;34m.\u001b[0m\u001b[0mfile\u001b[0m \u001b[0;32mimport\u001b[0m \u001b[0mto_file\u001b[0m\u001b[0;34m\u001b[0m\u001b[0m\n\u001b[0;32m--> 343\u001b[0;31m         \u001b[0mto_file\u001b[0m\u001b[0;34m(\u001b[0m\u001b[0mself\u001b[0m\u001b[0;34m,\u001b[0m \u001b[0mfilename\u001b[0m\u001b[0;34m,\u001b[0m \u001b[0mdriver\u001b[0m\u001b[0;34m,\u001b[0m \u001b[0mschema\u001b[0m\u001b[0;34m,\u001b[0m \u001b[0;34m**\u001b[0m\u001b[0mkwargs\u001b[0m\u001b[0;34m)\u001b[0m\u001b[0;34m\u001b[0m\u001b[0m\n\u001b[0m\u001b[1;32m    344\u001b[0m \u001b[0;34m\u001b[0m\u001b[0m\n\u001b[1;32m    345\u001b[0m     \u001b[0;32mdef\u001b[0m \u001b[0mto_crs\u001b[0m\u001b[0;34m(\u001b[0m\u001b[0mself\u001b[0m\u001b[0;34m,\u001b[0m \u001b[0mcrs\u001b[0m\u001b[0;34m=\u001b[0m\u001b[0;32mNone\u001b[0m\u001b[0;34m,\u001b[0m \u001b[0mepsg\u001b[0m\u001b[0;34m=\u001b[0m\u001b[0;32mNone\u001b[0m\u001b[0;34m,\u001b[0m \u001b[0minplace\u001b[0m\u001b[0;34m=\u001b[0m\u001b[0;32mFalse\u001b[0m\u001b[0;34m)\u001b[0m\u001b[0;34m:\u001b[0m\u001b[0;34m\u001b[0m\u001b[0m\n",
      "\u001b[0;32m/nfs/see-fs-02_users/matmdpd/anaconda3/lib/python3.6/site-packages/geopandas/io/file.py\u001b[0m in \u001b[0;36mto_file\u001b[0;34m(df, filename, driver, schema, **kwargs)\u001b[0m\n\u001b[1;32m     61\u001b[0m                     schema=schema, **kwargs) as c:\n\u001b[1;32m     62\u001b[0m         \u001b[0;32mfor\u001b[0m \u001b[0mfeature\u001b[0m \u001b[0;32min\u001b[0m \u001b[0mdf\u001b[0m\u001b[0;34m.\u001b[0m\u001b[0miterfeatures\u001b[0m\u001b[0;34m(\u001b[0m\u001b[0;34m)\u001b[0m\u001b[0;34m:\u001b[0m\u001b[0;34m\u001b[0m\u001b[0m\n\u001b[0;32m---> 63\u001b[0;31m             \u001b[0mc\u001b[0m\u001b[0;34m.\u001b[0m\u001b[0mwrite\u001b[0m\u001b[0;34m(\u001b[0m\u001b[0mfeature\u001b[0m\u001b[0;34m)\u001b[0m\u001b[0;34m\u001b[0m\u001b[0m\n\u001b[0m\u001b[1;32m     64\u001b[0m \u001b[0;34m\u001b[0m\u001b[0m\n\u001b[1;32m     65\u001b[0m \u001b[0;34m\u001b[0m\u001b[0m\n",
      "\u001b[0;32m/nfs/see-fs-02_users/matmdpd/anaconda3/lib/python3.6/site-packages/fiona/collection.py\u001b[0m in \u001b[0;36mwrite\u001b[0;34m(self, record)\u001b[0m\n\u001b[1;32m    337\u001b[0m     \u001b[0;32mdef\u001b[0m \u001b[0mwrite\u001b[0m\u001b[0;34m(\u001b[0m\u001b[0mself\u001b[0m\u001b[0;34m,\u001b[0m \u001b[0mrecord\u001b[0m\u001b[0;34m)\u001b[0m\u001b[0;34m:\u001b[0m\u001b[0;34m\u001b[0m\u001b[0m\n\u001b[1;32m    338\u001b[0m         \u001b[0;34m\"\"\"Stages a record for writing to disk.\"\"\"\u001b[0m\u001b[0;34m\u001b[0m\u001b[0m\n\u001b[0;32m--> 339\u001b[0;31m         \u001b[0mself\u001b[0m\u001b[0;34m.\u001b[0m\u001b[0mwriterecords\u001b[0m\u001b[0;34m(\u001b[0m\u001b[0;34m[\u001b[0m\u001b[0mrecord\u001b[0m\u001b[0;34m]\u001b[0m\u001b[0;34m)\u001b[0m\u001b[0;34m\u001b[0m\u001b[0m\n\u001b[0m\u001b[1;32m    340\u001b[0m \u001b[0;34m\u001b[0m\u001b[0m\n\u001b[1;32m    341\u001b[0m     \u001b[0;32mdef\u001b[0m \u001b[0mvalidate_record\u001b[0m\u001b[0;34m(\u001b[0m\u001b[0mself\u001b[0m\u001b[0;34m,\u001b[0m \u001b[0mrecord\u001b[0m\u001b[0;34m)\u001b[0m\u001b[0;34m:\u001b[0m\u001b[0;34m\u001b[0m\u001b[0m\n",
      "\u001b[0;32m/nfs/see-fs-02_users/matmdpd/anaconda3/lib/python3.6/site-packages/fiona/collection.py\u001b[0m in \u001b[0;36mwriterecords\u001b[0;34m(self, records)\u001b[0m\n\u001b[1;32m    331\u001b[0m         \u001b[0;32mif\u001b[0m \u001b[0mself\u001b[0m\u001b[0;34m.\u001b[0m\u001b[0mmode\u001b[0m \u001b[0;32mnot\u001b[0m \u001b[0;32min\u001b[0m \u001b[0;34m(\u001b[0m\u001b[0;34m'a'\u001b[0m\u001b[0;34m,\u001b[0m \u001b[0;34m'w'\u001b[0m\u001b[0;34m)\u001b[0m\u001b[0;34m:\u001b[0m\u001b[0;34m\u001b[0m\u001b[0m\n\u001b[1;32m    332\u001b[0m             \u001b[0;32mraise\u001b[0m \u001b[0mIOError\u001b[0m\u001b[0;34m(\u001b[0m\u001b[0;34m\"collection not open for writing\"\u001b[0m\u001b[0;34m)\u001b[0m\u001b[0;34m\u001b[0m\u001b[0m\n\u001b[0;32m--> 333\u001b[0;31m         \u001b[0mself\u001b[0m\u001b[0;34m.\u001b[0m\u001b[0msession\u001b[0m\u001b[0;34m.\u001b[0m\u001b[0mwriterecs\u001b[0m\u001b[0;34m(\u001b[0m\u001b[0mrecords\u001b[0m\u001b[0;34m,\u001b[0m \u001b[0mself\u001b[0m\u001b[0;34m)\u001b[0m\u001b[0;34m\u001b[0m\u001b[0m\n\u001b[0m\u001b[1;32m    334\u001b[0m         \u001b[0mself\u001b[0m\u001b[0;34m.\u001b[0m\u001b[0m_len\u001b[0m \u001b[0;34m=\u001b[0m \u001b[0mself\u001b[0m\u001b[0;34m.\u001b[0m\u001b[0msession\u001b[0m\u001b[0;34m.\u001b[0m\u001b[0mget_length\u001b[0m\u001b[0;34m(\u001b[0m\u001b[0;34m)\u001b[0m\u001b[0;34m\u001b[0m\u001b[0m\n\u001b[1;32m    335\u001b[0m         \u001b[0mself\u001b[0m\u001b[0;34m.\u001b[0m\u001b[0m_bounds\u001b[0m \u001b[0;34m=\u001b[0m \u001b[0mself\u001b[0m\u001b[0;34m.\u001b[0m\u001b[0msession\u001b[0m\u001b[0;34m.\u001b[0m\u001b[0mget_extent\u001b[0m\u001b[0;34m(\u001b[0m\u001b[0;34m)\u001b[0m\u001b[0;34m\u001b[0m\u001b[0m\n",
      "\u001b[0;32mfiona/ogrext.pyx\u001b[0m in \u001b[0;36mfiona.ogrext.WritingSession.writerecs (fiona/ogrext.c:18430)\u001b[0;34m()\u001b[0m\n",
      "\u001b[0;32mfiona/ogrext.pyx\u001b[0m in \u001b[0;36mfiona.ogrext.OGRFeatureBuilder.build (fiona/ogrext.c:5782)\u001b[0;34m()\u001b[0m\n",
      "\u001b[0;31mKeyboardInterrupt\u001b[0m: "
     ]
    }
   ],
   "source": [
    "gdf.to_file(\"test\")"
   ]
  },
  {
   "cell_type": "code",
   "execution_count": null,
   "metadata": {
    "collapsed": true
   },
   "outputs": [],
   "source": []
  }
 ],
 "metadata": {
  "kernelspec": {
   "display_name": "Python 3",
   "language": "python",
   "name": "python3"
  },
  "language_info": {
   "codemirror_mode": {
    "name": "ipython",
    "version": 3
   },
   "file_extension": ".py",
   "mimetype": "text/x-python",
   "name": "python",
   "nbconvert_exporter": "python",
   "pygments_lexer": "ipython3",
   "version": "3.6.0"
  }
 },
 "nbformat": 4,
 "nbformat_minor": 2
}
