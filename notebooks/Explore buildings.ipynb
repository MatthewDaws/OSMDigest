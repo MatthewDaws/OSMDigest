{
 "cells": [
  {
   "cell_type": "code",
   "execution_count": 1,
   "metadata": {
    "collapsed": true
   },
   "outputs": [],
   "source": [
    "import sys\n",
    "sys.path.insert(0, \"..\")"
   ]
  },
  {
   "cell_type": "markdown",
   "metadata": {},
   "source": [
    "# Buildings / Addresses\n",
    "\n",
    "I want to understand how buildings and addresses are represented in OSM data.\n",
    "\n",
    "Required reading: http://wiki.openstreetmap.org/wiki/Addresses\n",
    "\n"
   ]
  },
  {
   "cell_type": "code",
   "execution_count": 2,
   "metadata": {
    "collapsed": true
   },
   "outputs": [],
   "source": [
    "import osmdigest.digest as digest"
   ]
  },
  {
   "cell_type": "markdown",
   "metadata": {},
   "source": [
    "# Nodes tagged as buildings / with addresses\n",
    "\n",
    "For the Isle of Wight dataset, there are rather few nodes tagged as buildings.  There are quite a few more nodes which have address information, however."
   ]
  },
  {
   "cell_type": "code",
   "execution_count": 3,
   "metadata": {
    "collapsed": false
   },
   "outputs": [],
   "source": [
    "building_node_ids = []\n",
    "addr_node_ids = []\n",
    "\n",
    "for x in digest.parse(\"isle-of-wight-latest.osm\"):\n",
    "    if isinstance(x, digest.Node):\n",
    "        if \"building\" in x.tags:\n",
    "            building_node_ids.append(x)\n",
    "        if any(key.startswith(\"addr:\") for key in x.tags):\n",
    "            addr_node_ids.append(x)"
   ]
  },
  {
   "cell_type": "code",
   "execution_count": 4,
   "metadata": {
    "collapsed": false
   },
   "outputs": [
    {
     "data": {
      "text/plain": [
       "(39,\n",
       " [Node(38921672 @ [50.6405824,-1.360434] {'name': 'Wolverton Manor', 'building': 'manor_house', 'historic': 'manor'}),\n",
       "  Node(691207722 @ [50.6773251,-1.495855] {'name': 'Tollgate House', 'building': 'house', 'addr:city': 'Afton', 'addr:street': 'Wilmington Lane', 'addr:country': 'GB', 'addr:housename': 'Tollgate House'}),\n",
       "  Node(718782298 @ [50.6829817,-1.418304] {'name': 'Freedom Farm', 'building': 'yes'}),\n",
       "  Node(765755120 @ [50.6921583,-1.5315236] {'building': 'farmhouse', 'addr:housename': 'Bramble Farm'}),\n",
       "  Node(829972519 @ [50.5856384,-1.2469082] {'name': 'St. Rhadagunds', 'email': 'info@strhads.co.uk', 'phone': '01983852160', 'tourism': 'hotel', 'website': 'strhads.co.uk', 'building': 'yes', 'internet_access': 'wlan'})])"
      ]
     },
     "execution_count": 4,
     "metadata": {},
     "output_type": "execute_result"
    }
   ],
   "source": [
    "len(building_node_ids), building_node_ids[:5]"
   ]
  },
  {
   "cell_type": "code",
   "execution_count": 5,
   "metadata": {
    "collapsed": false
   },
   "outputs": [
    {
     "data": {
      "text/plain": [
       "(1822,\n",
       " [Node(2383584 @ [50.7065062,-1.5006427] {'name': 'Yarmouth Quay', 'amenity': 'ferry_terminal', 'network': 'Car Ferry', 'operator': 'Wightlink', 'addr:city': 'Yarmouth', 'addr:street': 'Quay Street', 'addr:postcode': 'PO41 0PB'}),\n",
       "  Node(2387351 @ [50.6833789,-1.0956959] {'name': 'Bembridge Windmill', 'tourism': 'attraction', 'website': 'https://www.nationaltrust.org.uk/bembridge-windmill', 'man_made': 'windmill', 'operator': 'National Trust', 'addr:city': 'Bembridge', 'addr:street': 'Mill Road', 'addr:postcode': 'PO35 5SQ', 'addr:housename': 'Bembridge Windmill'}),\n",
       "  Node(2433320 @ [50.6717547,-1.5427212] {'name': 'High Down Inn', 'amenity': 'pub', 'tourism': 'bed_and_breakfast', 'website': 'http://www.highdowninn.com/', 'alt_name': 'Highdown Inn', 'addr:city': 'Totland', 'addr:street': 'Highdown Lane', 'addr:country': 'GB', 'addr:postcode': 'PO39 0HY'}),\n",
       "  Node(7227760 @ [50.7054346,-1.2146592] {'name': 'Havenstreet', 'usage': 'tourism', 'railway': 'station', 'addr:city': 'Havenstreet, near Ryde', 'addr:street': 'Main Road'}),\n",
       "  Node(8093989 @ [50.7302604,-1.1628019] {'addr:city': 'Ryde', 'addr:housenumber': '41', 'addr:postcode': 'PO33 2LF', 'addr:street': 'Union Street', 'amenity': 'pub', 'name': 'S. Fowler & Co.', 'owner': 'Wetherspoons', 'phone': '+44 1983 812112', 'source': 'survey', 'wifi': 'free'})])"
      ]
     },
     "execution_count": 5,
     "metadata": {},
     "output_type": "execute_result"
    }
   ],
   "source": [
    "len(addr_node_ids), addr_node_ids[:5]"
   ]
  },
  {
   "cell_type": "markdown",
   "metadata": {},
   "source": [
    "# Same for ways\n",
    "\n",
    "We expected buildings to mostly have a polygonal outline, and so be \"ways\".\n",
    "\n",
    "The situation here is reversed: lots of buildings, and fewer addresses.  From eyeballing a few ways which have address information, but which are not buildings, we find that the \"way\" gives the total outline of, say, a school, which may contain a number of buildings, playing fields etc."
   ]
  },
  {
   "cell_type": "code",
   "execution_count": 6,
   "metadata": {
    "collapsed": true
   },
   "outputs": [],
   "source": [
    "building_way_ids = []\n",
    "addr_way_ids = []\n",
    "\n",
    "for x in digest.parse(\"isle-of-wight-latest.osm\"):\n",
    "    if isinstance(x, digest.Way):\n",
    "        if \"building\" in x.tags:\n",
    "            building_way_ids.append(x)\n",
    "        if any(key.startswith(\"addr:\") for key in x.tags):\n",
    "            addr_way_ids.append(x)"
   ]
  },
  {
   "cell_type": "code",
   "execution_count": 7,
   "metadata": {
    "collapsed": false
   },
   "outputs": [
    {
     "data": {
      "text/plain": [
       "(43644,\n",
       " [Way(3580387 ->  [17731291, 1812813868, 826100758, 17731290, 1812813848, 17731289, 826100762, 17731295, 1812813842, 17731294, 826100769, 17731293, 1812813861, 197678030, 826100761, 17731292, 1812813845, 17731291] {'alt_name': 'Spitsand Fort', 'alt_name:1': 'Spit Sand Fort', 'alt_name:2': 'Spit Fort', 'building': 'yes', 'castle_type': 'fortress', 'historic': 'castle', 'name': 'Spitbank Fort', 'natural': 'coastline', 'source': 'OS OpenData StreetView', 'start_date': '1867', 'tourism': 'hotel', 'wikidata': 'Q2311360', 'wikipedia': 'en:Spitbank Fort'}),\n",
       "  Way(3580388 ->  [17731299, 17731297, 1812813839, 825993194, 1812813856, 17731305, 17731304, 825993180, 1812813854, 17731303, 17731302, 1812813864, 825993155, 17731301, 17731300, 1812813852, 825993118, 1812813850, 17731299] {'building': 'yes', 'historic': 'fort', 'man_made': 'pier', 'name': 'Horse Sand Fort', 'natural': 'coastline', 'source': 'OS OpenData StreetView', 'start_date': '1865', 'wikidata': 'Q1485267', 'wikipedia': 'en:Horse Sand Fort'}),\n",
       "  Way(3580389 ->  [17731316, 3012280384, 825993175, 1812813838, 17731315, 1812813882, 17731314, 3012280382, 825993198, 3012280383, 17731312, 3012280385, 17731311, 3012280386, 825993127, 1812813833, 17731310, 1812813879, 17731308, 1812813835, 825993148, 3012280387, 17731306, 1812813840, 17731316] {'building': 'yes', 'historic': 'fort', 'name': \"No Man's Land Fort\", 'natural': 'coastline', 'source': 'OS OpenData StreetView', 'start_date': '1867', 'wikidata': 'Q7044423', 'wikipedia': \"en:No Man's Land Fort\"}),\n",
       "  Way(5032385 ->  [33695388, 33625082, 33692427, 33695389, 33695388] {'name': 'Britten Norman Aircraft Factory', 'building': 'yes'}),\n",
       "  Way(5241146 ->  [1086935675, 36882230, 36882227, 1086935597, 1086935675] {'building': 'glasshouse'})])"
      ]
     },
     "execution_count": 7,
     "metadata": {},
     "output_type": "execute_result"
    }
   ],
   "source": [
    "len(building_way_ids), building_way_ids[:5]"
   ]
  },
  {
   "cell_type": "code",
   "execution_count": 8,
   "metadata": {
    "collapsed": false
   },
   "outputs": [
    {
     "data": {
      "text/plain": [
       "(6963,\n",
       " [Way(5026852 ->  [1636613142, 1756154625, 2852765828, 1756154623, 4594616645, 4594616647, 1756154590, 1756154593, 1756154627, 2852765827, 1756154630, 1756154631, 33556615, 28837469, 2852765838, 28837470, 33556618, 33556619, 33556620, 1636613166, 2852765836, 2852774936, 1636613142] {'name': 'Christ The King College - Upper College', 'amenity': 'school', 'addr:city': 'Newport', 'addr:street': 'Wellington Road', 'addr:postcode': 'PO30 5QT'}),\n",
       "  Way(5026862 ->  [4684759642, 4684759641, 4684827409, 4684827406, 4684827399, 4684827389, 4684759640, 4684759639, 4684824588, 4684759635, 33556692, 4684759633, 4684759634, 4684824584, 4684759636, 4684824587, 1382864717, 33556694, 33556695, 2852776705, 33556696, 33556697, 33556698, 33556699, 33556700, 33556701, 33556702, 33556703, 1662247222, 2852776708, 2852776721, 1662247194, 1662247197, 1662247191, 1662247189, 1662247187, 1662247185, 4684759642] {'addr:city': 'Newport', 'addr:postcode': 'PO30 5QU', 'addr:street': 'Mountbatten Drive', 'amenity': 'school', 'name': 'Carisbrooke College', 'old_name': 'Carisbrooke High School and Sports College', 'source:name': 'OS_OpenData_Streetview'}),\n",
       "  Way(5028610 ->  [3849206039, 3849206040, 3849206041, 3234772928, 29185170, 3234772925, 33574498, 33574499, 33574500, 33574501, 33574502, 3234772953, 33574503, 33574504, 732375016, 732375014, 732375012, 3990224834, 33574532, 33574506, 3234772926, 3234772938, 3234772930, 3234772942, 3990224824, 33574507, 3990224825, 3990224822, 33574508, 33574510, 3990224813, 33574512, 1289004196, 3990228860, 3990224814, 1289004173, 3849206039] {'url': 'http://www.sandownbayacademy.org/', 'name': 'Sandown Bay Academy', 'amenity': 'school', 'addr:street': 'The Fairway', 'ref:edubase': '136751', 'addr:postcode': 'PO36 9JH'}),\n",
       "  Way(5667125 ->  [42399086, 4130695753, 4130695755, 42399060, 4130695751, 4130695749, 42399063, 42399065, 42399066, 42399068, 3206216757, 4130730324, 4130730322, 3206216756, 42399071, 4793149153, 42399072, 42399073, 42399075, 42399076, 42399077, 42399079, 42399080, 4793149154, 42399081, 42399082, 42399083, 42399084, 42399085, 42399086] {'addr:city': 'Newport', 'addr:housename': 'Robin Hill Country Park', 'addr:postcode': 'PO30 2NU', 'alt_name:en': 'Robin Hill', 'contact:phone': '+44(0)1983 527352', 'name': 'Robin Hill Country Park', 'name:en': 'Robin Hill Country Park', 'tourism': 'theme_park', 'website': 'http://www.robin-hill.com/'}),\n",
       "  Way(5721497 ->  [43145633, 1980928994, 1980928999, 1980929000, 3641440792, 1980934807, 1980934809, 43145626, 43145629, 43145631, 3641441694, 3641441700, 3641441693, 43145633] {'name': 'Bembridge CofE Primary School', 'amenity': 'school', 'addr:city': 'Bembridge', 'addr:street': 'Walls Road', 'addr:postcode': 'PO35 5RH'})])"
      ]
     },
     "execution_count": 8,
     "metadata": {},
     "output_type": "execute_result"
    }
   ],
   "source": [
    "len(addr_way_ids), addr_way_ids[:5]"
   ]
  },
  {
   "cell_type": "markdown",
   "metadata": {},
   "source": [
    "# Finally for relations\n",
    "\n",
    "Rather few.  These tend to be special cases: usually when the building is non-convex (say a stately home, with an inner courtyard) so a relation is required to specify the \"inner\" and \"outer\" ways."
   ]
  },
  {
   "cell_type": "code",
   "execution_count": 9,
   "metadata": {
    "collapsed": true
   },
   "outputs": [],
   "source": [
    "building_rel_ids = []\n",
    "addr_rel_ids = []\n",
    "\n",
    "for x in digest.parse(\"isle-of-wight-latest.osm\"):\n",
    "    if isinstance(x, digest.Relation):\n",
    "        if \"building\" in x.tags:\n",
    "            building_rel_ids.append(x)\n",
    "        if any(key.startswith(\"addr:\") for key in x.tags):\n",
    "            addr_rel_ids.append(x)"
   ]
  },
  {
   "cell_type": "code",
   "execution_count": 10,
   "metadata": {
    "collapsed": false
   },
   "outputs": [
    {
     "data": {
      "text/plain": [
       "(33,\n",
       " [Relation(70978 ->  [Member(type='way', ref=30533570, role='outer'), Member(type='way', ref=30533571, role='inner')] {'building': 'monastery', 'community': 'OSB', 'community:en': 'benedictine', 'denomination': 'catholic', 'name': 'Quarr Abbey', 'religion': 'christian', 'type': 'multipolygon', 'website': 'http://www.quarrabbey.co.uk/'}),\n",
       "  Relation(1369783 ->  [Member(type='way', ref=94481636, role='inner'), Member(type='way', ref=35821252, role='outer'), Member(type='way', ref=94481643, role='inner'), Member(type='way', ref=94481639, role='inner'), Member(type='way', ref=94481641, role='inner'), Member(type='way', ref=94481638, role='inner')] {'type': 'multipolygon', 'building': 'yes'}),\n",
       "  Relation(1578648 ->  [Member(type='way', ref=112449476, role='inner'), Member(type='way', ref=30665632, role='outer')] {'type': 'multipolygon', 'building': 'yes'}),\n",
       "  Relation(1584149 ->  [Member(type='way', ref=19215850, role='outer'), Member(type='way', ref=113058329, role='inner')] {'building': 'yes', 'historic': 'fort', 'name': 'Golden Hill Fort', 'note': 'Under conversion to residential, was victorian fort', 'type': 'multipolygon'}),\n",
       "  Relation(1589570 ->  [Member(type='way', ref=113700258, role='inner'), Member(type='way', ref=113700249, role='outer')] {'type': 'multipolygon', 'source': 'Bing', 'building': 'yes'})])"
      ]
     },
     "execution_count": 10,
     "metadata": {},
     "output_type": "execute_result"
    }
   ],
   "source": [
    "len(building_rel_ids), building_rel_ids[:5]"
   ]
  },
  {
   "cell_type": "code",
   "execution_count": 11,
   "metadata": {
    "collapsed": false
   },
   "outputs": [
    {
     "data": {
      "text/plain": [
       "(6,\n",
       " [Relation(1593581 ->  [Member(type='way', ref=114135843, role='outer'), Member(type='way', ref=114135841, role='inner')] {'addr:city': 'Bembridge', 'addr:housename': 'Solent Landing', 'addr:postcode': 'PO35 5NZ', 'addr:street': 'Beach Road', 'building': 'residential', 'type': 'multipolygon'}),\n",
       "  Relation(1844051 ->  [Member(type='way', ref=228750548, role='outer'), Member(type='way', ref=136843896, role='inner')] {'name': 'Bugle Hotel', 'type': 'multipolygon', 'wifi': 'free', 'phone': '+44 1983 760272', 'source': 'Bing', 'amenity': 'pub', 'tourism': 'hotel', 'website': 'http://www.thebugleyarmouth.co.uk/', 'alt_name': 'The Bugle Coaching Inn', 'building': 'yes', 'addr:city': 'Yarmouth', 'addr:street': 'The Square', 'addr:postcode': 'PO41 0NS', 'addr:housename': 'Bugle Coaching Inn'}),\n",
       "  Relation(5808141 ->  [Member(type='way', ref=168129028, role='outer'), Member(type='way', ref=378172008, role='inner')] {'addr:postcode': 'PO36 0HL', 'addr:street': 'Lower Road', 'capacity:pitches': '270', 'caravans': 'yes', 'name': 'Camping & Caravanning Club (Adgestone)', 'opening_hours': 'May-Sep', 'phone': '+44 1983 403432', 'tents': 'yes', 'tourism': 'camp_site', 'type': 'multipolygon', 'website': 'http://www.campingandcaravanningclub.co.uk/campsites/uk/isleofwight/adgestone/adgestone'}),\n",
       "  Relation(5834380 ->  [Member(type='way', ref=39328539, role='outer'), Member(type='way', ref=390042809, role='inner')] {'addr:city': 'Sandown', 'addr:postcode': 'PO36 9PR', 'addr:street': 'The Fairway Lake', 'description': '18 hole Par 70', 'golf:course': '18_hole', 'golf:par': '70', 'leisure': 'golf_course', 'name': 'Shanklin & Sandown Golf Club', 'phone': '+44 1983 403217; +44 1983 404424 (Pro Shop)', 'type': 'multipolygon', 'website': 'http://www.ssgolfclub.com/'}),\n",
       "  Relation(6520669 ->  [Member(type='way', ref=405110409, role='outer'), Member(type='way', ref=438326549, role='outer')] {'name': 'West Ashey Cottages', 'type': 'multipolygon', 'landuse': 'residential', 'addr:postcode': 'PO33 4AX'})])"
      ]
     },
     "execution_count": 11,
     "metadata": {},
     "output_type": "execute_result"
    }
   ],
   "source": [
    "len(addr_rel_ids), addr_rel_ids[:5]"
   ]
  },
  {
   "cell_type": "markdown",
   "metadata": {},
   "source": [
    "# Process to a `pandas` dataframe"
   ]
  },
  {
   "cell_type": "code",
   "execution_count": 12,
   "metadata": {
    "collapsed": true
   },
   "outputs": [],
   "source": [
    "import numpy as np\n",
    "import pandas as pd"
   ]
  },
  {
   "cell_type": "code",
   "execution_count": 13,
   "metadata": {
    "collapsed": false
   },
   "outputs": [
    {
     "name": "stdout",
     "output_type": "stream",
     "text": [
      "OSM(version=0.6, generator=osmconvert 0.8.5, timestamp=2017-04-25 20:43:28)\n",
      "Bounds(latitude:[50.50555,50.80102], longitude:[-1.659074,-1.0313699]\n"
     ]
    },
    {
     "data": {
      "text/plain": [
       "{'addr:city',\n",
       " 'addr:country',\n",
       " 'addr:county',\n",
       " 'addr:flats',\n",
       " 'addr:floor',\n",
       " 'addr:hamlet',\n",
       " 'addr:housename',\n",
       " 'addr:housenumber',\n",
       " 'addr:inclusion',\n",
       " 'addr:interpolation',\n",
       " 'addr:name',\n",
       " 'addr:place',\n",
       " 'addr:postcode',\n",
       " 'addr:province',\n",
       " 'addr:street',\n",
       " 'addr:unit'}"
      ]
     },
     "execution_count": 13,
     "metadata": {},
     "output_type": "execute_result"
    }
   ],
   "source": [
    "gen = digest.parse(\"isle-of-wight-latest.osm\")\n",
    "print(next(gen))\n",
    "print(next(gen))\n",
    "\n",
    "possible_address_tags = set()\n",
    "for x in gen:\n",
    "    for key in x.tags:\n",
    "        if key.startswith(\"addr:\"):\n",
    "            possible_address_tags.add(key)\n",
    "            \n",
    "possible_address_tags"
   ]
  },
  {
   "cell_type": "code",
   "execution_count": 14,
   "metadata": {
    "collapsed": false
   },
   "outputs": [],
   "source": [
    "gen = digest.parse(\"isle-of-wight-latest.osm\")\n",
    "osm = next(gen)\n",
    "bounds = next(gen)\n",
    "\n",
    "address_data = { key : [] for key in possible_address_tags }\n",
    "address_data[\"osm_id\"] = []\n",
    "\n",
    "for x in gen:\n",
    "    addr = {key : x.tags[key] for key in x.tags if key.startswith(\"addr:\")}\n",
    "    if len(addr) > 0:\n",
    "        address_data[\"osm_id\"].append(x.name+\"/\"+str(x.osm_id))\n",
    "        for key in possible_address_tags:\n",
    "            if key in addr:\n",
    "                address_data[key].append(addr[key])\n",
    "            else:\n",
    "                address_data[key].append(np.nan)"
   ]
  },
  {
   "cell_type": "code",
   "execution_count": 15,
   "metadata": {
    "collapsed": false
   },
   "outputs": [
    {
     "data": {
      "text/html": [
       "<div>\n",
       "<table border=\"1\" class=\"dataframe\">\n",
       "  <thead>\n",
       "    <tr style=\"text-align: right;\">\n",
       "      <th></th>\n",
       "      <th>addr:city</th>\n",
       "      <th>addr:country</th>\n",
       "      <th>addr:county</th>\n",
       "      <th>addr:flats</th>\n",
       "      <th>addr:floor</th>\n",
       "      <th>addr:hamlet</th>\n",
       "      <th>addr:housename</th>\n",
       "      <th>addr:housenumber</th>\n",
       "      <th>addr:inclusion</th>\n",
       "      <th>addr:interpolation</th>\n",
       "      <th>addr:name</th>\n",
       "      <th>addr:place</th>\n",
       "      <th>addr:postcode</th>\n",
       "      <th>addr:province</th>\n",
       "      <th>addr:street</th>\n",
       "      <th>addr:unit</th>\n",
       "    </tr>\n",
       "    <tr>\n",
       "      <th>osm_id</th>\n",
       "      <th></th>\n",
       "      <th></th>\n",
       "      <th></th>\n",
       "      <th></th>\n",
       "      <th></th>\n",
       "      <th></th>\n",
       "      <th></th>\n",
       "      <th></th>\n",
       "      <th></th>\n",
       "      <th></th>\n",
       "      <th></th>\n",
       "      <th></th>\n",
       "      <th></th>\n",
       "      <th></th>\n",
       "      <th></th>\n",
       "      <th></th>\n",
       "    </tr>\n",
       "  </thead>\n",
       "  <tbody>\n",
       "    <tr>\n",
       "      <th>node/2383584</th>\n",
       "      <td>Yarmouth</td>\n",
       "      <td>NaN</td>\n",
       "      <td>NaN</td>\n",
       "      <td>NaN</td>\n",
       "      <td>NaN</td>\n",
       "      <td>NaN</td>\n",
       "      <td>NaN</td>\n",
       "      <td>NaN</td>\n",
       "      <td>NaN</td>\n",
       "      <td>NaN</td>\n",
       "      <td>NaN</td>\n",
       "      <td>NaN</td>\n",
       "      <td>PO41 0PB</td>\n",
       "      <td>NaN</td>\n",
       "      <td>Quay Street</td>\n",
       "      <td>NaN</td>\n",
       "    </tr>\n",
       "    <tr>\n",
       "      <th>node/2387351</th>\n",
       "      <td>Bembridge</td>\n",
       "      <td>NaN</td>\n",
       "      <td>NaN</td>\n",
       "      <td>NaN</td>\n",
       "      <td>NaN</td>\n",
       "      <td>NaN</td>\n",
       "      <td>Bembridge Windmill</td>\n",
       "      <td>NaN</td>\n",
       "      <td>NaN</td>\n",
       "      <td>NaN</td>\n",
       "      <td>NaN</td>\n",
       "      <td>NaN</td>\n",
       "      <td>PO35 5SQ</td>\n",
       "      <td>NaN</td>\n",
       "      <td>Mill Road</td>\n",
       "      <td>NaN</td>\n",
       "    </tr>\n",
       "    <tr>\n",
       "      <th>node/2433320</th>\n",
       "      <td>Totland</td>\n",
       "      <td>GB</td>\n",
       "      <td>NaN</td>\n",
       "      <td>NaN</td>\n",
       "      <td>NaN</td>\n",
       "      <td>NaN</td>\n",
       "      <td>NaN</td>\n",
       "      <td>NaN</td>\n",
       "      <td>NaN</td>\n",
       "      <td>NaN</td>\n",
       "      <td>NaN</td>\n",
       "      <td>NaN</td>\n",
       "      <td>PO39 0HY</td>\n",
       "      <td>NaN</td>\n",
       "      <td>Highdown Lane</td>\n",
       "      <td>NaN</td>\n",
       "    </tr>\n",
       "    <tr>\n",
       "      <th>node/7227760</th>\n",
       "      <td>Havenstreet, near Ryde</td>\n",
       "      <td>NaN</td>\n",
       "      <td>NaN</td>\n",
       "      <td>NaN</td>\n",
       "      <td>NaN</td>\n",
       "      <td>NaN</td>\n",
       "      <td>NaN</td>\n",
       "      <td>NaN</td>\n",
       "      <td>NaN</td>\n",
       "      <td>NaN</td>\n",
       "      <td>NaN</td>\n",
       "      <td>NaN</td>\n",
       "      <td>NaN</td>\n",
       "      <td>NaN</td>\n",
       "      <td>Main Road</td>\n",
       "      <td>NaN</td>\n",
       "    </tr>\n",
       "    <tr>\n",
       "      <th>node/8093989</th>\n",
       "      <td>Ryde</td>\n",
       "      <td>NaN</td>\n",
       "      <td>NaN</td>\n",
       "      <td>NaN</td>\n",
       "      <td>NaN</td>\n",
       "      <td>NaN</td>\n",
       "      <td>NaN</td>\n",
       "      <td>41</td>\n",
       "      <td>NaN</td>\n",
       "      <td>NaN</td>\n",
       "      <td>NaN</td>\n",
       "      <td>NaN</td>\n",
       "      <td>PO33 2LF</td>\n",
       "      <td>NaN</td>\n",
       "      <td>Union Street</td>\n",
       "      <td>NaN</td>\n",
       "    </tr>\n",
       "  </tbody>\n",
       "</table>\n",
       "</div>"
      ],
      "text/plain": [
       "                           addr:city addr:country addr:county addr:flats  \\\n",
       "osm_id                                                                     \n",
       "node/2383584                Yarmouth          NaN         NaN        NaN   \n",
       "node/2387351               Bembridge          NaN         NaN        NaN   \n",
       "node/2433320                 Totland           GB         NaN        NaN   \n",
       "node/7227760  Havenstreet, near Ryde          NaN         NaN        NaN   \n",
       "node/8093989                    Ryde          NaN         NaN        NaN   \n",
       "\n",
       "             addr:floor addr:hamlet      addr:housename addr:housenumber  \\\n",
       "osm_id                                                                     \n",
       "node/2383584        NaN         NaN                 NaN              NaN   \n",
       "node/2387351        NaN         NaN  Bembridge Windmill              NaN   \n",
       "node/2433320        NaN         NaN                 NaN              NaN   \n",
       "node/7227760        NaN         NaN                 NaN              NaN   \n",
       "node/8093989        NaN         NaN                 NaN               41   \n",
       "\n",
       "             addr:inclusion addr:interpolation addr:name addr:place  \\\n",
       "osm_id                                                                \n",
       "node/2383584            NaN                NaN       NaN        NaN   \n",
       "node/2387351            NaN                NaN       NaN        NaN   \n",
       "node/2433320            NaN                NaN       NaN        NaN   \n",
       "node/7227760            NaN                NaN       NaN        NaN   \n",
       "node/8093989            NaN                NaN       NaN        NaN   \n",
       "\n",
       "             addr:postcode addr:province    addr:street addr:unit  \n",
       "osm_id                                                             \n",
       "node/2383584      PO41 0PB           NaN    Quay Street       NaN  \n",
       "node/2387351      PO35 5SQ           NaN      Mill Road       NaN  \n",
       "node/2433320      PO39 0HY           NaN  Highdown Lane       NaN  \n",
       "node/7227760           NaN           NaN      Main Road       NaN  \n",
       "node/8093989      PO33 2LF           NaN   Union Street       NaN  "
      ]
     },
     "execution_count": 15,
     "metadata": {},
     "output_type": "execute_result"
    }
   ],
   "source": [
    "data = pd.DataFrame(address_data)\n",
    "data = data.set_index(\"osm_id\")\n",
    "data[:5]"
   ]
  },
  {
   "cell_type": "code",
   "execution_count": null,
   "metadata": {
    "collapsed": true
   },
   "outputs": [],
   "source": []
  }
 ],
 "metadata": {
  "kernelspec": {
   "display_name": "Python 3",
   "language": "python",
   "name": "python3"
  },
  "language_info": {
   "codemirror_mode": {
    "name": "ipython",
    "version": 3
   },
   "file_extension": ".py",
   "mimetype": "text/x-python",
   "name": "python",
   "nbconvert_exporter": "python",
   "pygments_lexer": "ipython3",
   "version": "3.6.0"
  }
 },
 "nbformat": 4,
 "nbformat_minor": 2
}
