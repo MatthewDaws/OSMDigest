{
 "cells": [
  {
   "cell_type": "code",
   "execution_count": 1,
   "metadata": {
    "collapsed": true
   },
   "outputs": [],
   "source": [
    "# Allow to import without installing\n",
    "import sys\n",
    "sys.path.insert(0, \"..\")"
   ]
  },
  {
   "cell_type": "markdown",
   "metadata": {},
   "source": [
    "# Piedmont, California\n",
    "\n",
    "Let's replicate an OSMnx example by finding all the buildings in Piedmont.\n",
    "\n",
    "Step one is to find the region which forms the town of Piedmont.  As usual, the best way to solve this problem is to play around on www.openstreetmap.org until you find the correct element.  In this case, it's a \"way\" which outlines the town.  A bit of browsing around the wiki finds that the important tag is \"boundary\":\"administrative\".  See http://wiki.openstreetmap.org/w/index.php?title=Tag:boundary%3Dadministrative"
   ]
  },
  {
   "cell_type": "code",
   "execution_count": 2,
   "metadata": {
    "collapsed": true
   },
   "outputs": [],
   "source": [
    "import os\n",
    "basedir = os.path.join(\"/media/disk\", \"OSM_Data\")\n",
    "filename = \"california-latest.osm.xz\""
   ]
  },
  {
   "cell_type": "code",
   "execution_count": 3,
   "metadata": {
    "collapsed": true
   },
   "outputs": [],
   "source": [
    "import osmdigest.digest as digest"
   ]
  },
  {
   "cell_type": "code",
   "execution_count": 4,
   "metadata": {
    "collapsed": false
   },
   "outputs": [],
   "source": [
    "all_admin_boundaries = []\n",
    "\n",
    "gen = digest.parse(os.path.join(basedir, filename))\n",
    "osm = next(gen)\n",
    "bounds = next(gen)\n",
    "for element in gen:\n",
    "    if \"boundary\" in element.tags and element.tags[\"boundary\"] == \"administrative\":\n",
    "        all_admin_boundaries.append(element)\n",
    "        if len(all_admin_boundaries) > 100000:\n",
    "            raise Exception()"
   ]
  },
  {
   "cell_type": "code",
   "execution_count": 10,
   "metadata": {
    "collapsed": false
   },
   "outputs": [
    {
     "data": {
      "text/plain": [
       "2941"
      ]
     },
     "execution_count": 10,
     "metadata": {},
     "output_type": "execute_result"
    }
   ],
   "source": [
    "len(all_admin_boundaries)"
   ]
  },
  {
   "cell_type": "code",
   "execution_count": 11,
   "metadata": {
    "collapsed": false
   },
   "outputs": [
    {
     "data": {
      "text/plain": [
       "Relation(2999176 ->  [Member(type='way', ref=33088737, role='outer'), Member(type='node', ref=150950648, role='label')] {'name': 'Piedmont', 'type': 'boundary', 'source': 'TIGER/Line® 2008 Place Shapefiles (http://www.census.gov/geo/www/tiger/)', 'website': 'http://www.ci.piedmont.ca.us/', 'boundary': 'administrative', 'wikidata': 'Q570301', 'tiger:CPI': 'N', 'wikipedia': 'en:Piedmont, California', 'board_type': 'city', 'place_name': 'Piedmont', 'population': '73812', 'tiger:NAME': 'Piedmont', 'admin_level': '8', 'tiger:PCICBSA': 'N', 'tiger:PLACEFP': '56938', 'tiger:PLACENS': '02411418', 'tiger:PLCIDFP': '0656938', 'tiger:NAMELSAD': 'Piedmont city'})"
      ]
     },
     "execution_count": 11,
     "metadata": {},
     "output_type": "execute_result"
    }
   ],
   "source": [
    "piedmont = next( rel for rel in all_admin_boundaries if \"name\" in rel.tags and rel.tags[\"name\"] == \"Piedmont\" )\n",
    "piedmont"
   ]
  },
  {
   "cell_type": "code",
   "execution_count": null,
   "metadata": {
    "collapsed": true
   },
   "outputs": [],
   "source": []
  }
 ],
 "metadata": {
  "kernelspec": {
   "display_name": "Python 3",
   "language": "python",
   "name": "python3"
  },
  "language_info": {
   "codemirror_mode": {
    "name": "ipython",
    "version": 3
   },
   "file_extension": ".py",
   "mimetype": "text/x-python",
   "name": "python",
   "nbconvert_exporter": "python",
   "pygments_lexer": "ipython3",
   "version": "3.6.0"
  }
 },
 "nbformat": 4,
 "nbformat_minor": 2
}
